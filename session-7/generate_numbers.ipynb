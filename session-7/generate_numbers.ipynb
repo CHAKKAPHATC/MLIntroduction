{
  "nbformat": 4,
  "nbformat_minor": 0,
  "metadata": {
    "colab": {
      "name": "generate numbers.ipynb",
      "provenance": [],
      "collapsed_sections": [],
      "toc_visible": true,
      "authorship_tag": "ABX9TyMQ+V+rP0aJXTD/ls/UJ1On",
      "include_colab_link": true
    },
    "kernelspec": {
      "name": "python3",
      "display_name": "Python 3"
    },
    "accelerator": "GPU"
  },
  "cells": [
    {
      "cell_type": "markdown",
      "metadata": {
        "id": "view-in-github",
        "colab_type": "text"
      },
      "source": [
        "<a href=\"https://colab.research.google.com/github/mohmiim/MLIntroduction/blob/master/session-7/generate_numbers.ipynb\" target=\"_parent\"><img src=\"https://colab.research.google.com/assets/colab-badge.svg\" alt=\"Open In Colab\"/></a>"
      ]
    },
    {
      "cell_type": "code",
      "metadata": {
        "id": "XyjbqM5_7kMj",
        "colab_type": "code",
        "outputId": "333965cd-be50-4541-8834-85cad5d2662d",
        "colab": {
          "base_uri": "https://localhost:8080/",
          "height": 34
        }
      },
      "source": [
        "%tensorflow_version 2.x\n",
        "import tensorflow as tf"
      ],
      "execution_count": 1,
      "outputs": [
        {
          "output_type": "stream",
          "text": [
            "TensorFlow 2.x selected.\n"
          ],
          "name": "stdout"
        }
      ]
    },
    {
      "cell_type": "code",
      "metadata": {
        "id": "Da37ypUW6kQY",
        "colab_type": "code",
        "colab": {
          "base_uri": "https://localhost:8080/",
          "height": 34
        },
        "outputId": "bcf8ee9f-65ba-4684-c20f-87340806591a"
      },
      "source": [
        "from numpy import expand_dims\n",
        "from keras.datasets.mnist import load_data\n",
        "\n",
        "def loadSamples():\n",
        "  (trainX, _), (_, _) = load_data()\n",
        "  # conv layer needs 3d array, so we will expand the dimensions\n",
        "  X = expand_dims(trainX, axis=-1)\n",
        "  X = X.astype('float32')\n",
        "  # scale to [0,1]\n",
        "  X = X / 255.0\n",
        "  print(X.shape)\n",
        "  return X"
      ],
      "execution_count": 2,
      "outputs": [
        {
          "output_type": "stream",
          "text": [
            "Using TensorFlow backend.\n"
          ],
          "name": "stderr"
        }
      ]
    },
    {
      "cell_type": "code",
      "metadata": {
        "id": "lBBbBpr86pp7",
        "colab_type": "code",
        "colab": {}
      },
      "source": [
        "from numpy.random import randn\n",
        "\n",
        "LATENT_DIM = 100\n",
        "\n",
        "def generate_latent_input(latentDim, count):\n",
        "  X = randn(latentDim * count)\n",
        "  X = X.reshape((count,latentDim))\n",
        "  X = X.astype('float32')\n",
        "  return X"
      ],
      "execution_count": 0,
      "outputs": []
    },
    {
      "cell_type": "code",
      "metadata": {
        "id": "MOG48lsh-s-x",
        "colab_type": "code",
        "colab": {}
      },
      "source": [
        "from numpy import zeros\n",
        "def create_generated_samples(generator, latentDim, count):\n",
        "  X = generate_latent_input(latentDim, count)\n",
        "  gen_images = generator.predict(X)\n",
        "  # labels here will be fake ==> 0\n",
        "  y = zeros((count,1))\n",
        "  return gen_images, y"
      ],
      "execution_count": 0,
      "outputs": []
    },
    {
      "cell_type": "code",
      "metadata": {
        "id": "7tpQZfJ-L8gP",
        "colab_type": "code",
        "colab": {}
      },
      "source": [
        "from numpy.random import randint\n",
        "from numpy import ones\n",
        "\n",
        "def generate_real_samples(dataset, n_samples):\n",
        "  index = randint(0, dataset.shape[0], n_samples)\n",
        "  X = dataset[index]\n",
        "  # mark them as real\n",
        "  y = ones((n_samples, 1))\n",
        "  return X, y"
      ],
      "execution_count": 0,
      "outputs": []
    },
    {
      "cell_type": "code",
      "metadata": {
        "id": "doOlNeoQNjGq",
        "colab_type": "code",
        "colab": {}
      },
      "source": [
        "from tensorflow.keras.layers import LeakyReLU\n",
        "from tensorflow.keras.layers import Conv2D\n",
        "from tensorflow.keras.initializers import RandomNormal \n",
        "\n",
        "DISC_FILTER_SIZE = 3\n",
        "DISC_LEAKY_ALPHA = 0.2 \n",
        "\n",
        "init = RandomNormal(stddev=0.02)\n",
        "\n",
        "def createDiscConvLayer(model):\n",
        "  model.add(Conv2D(64,\n",
        "                   (DISC_FILTER_SIZE,DISC_FILTER_SIZE),\n",
        "                   strides=(2, 2),\n",
        "                   padding='same',\n",
        "                   input_shape=INPUT_SIZE,\n",
        "                   kernel_initializer=init))\n",
        "  model.add(LeakyReLU(alpha=DISC_LEAKY_ALPHA))\n",
        "  return model"
      ],
      "execution_count": 0,
      "outputs": []
    },
    {
      "cell_type": "code",
      "metadata": {
        "id": "uHkf2I1dfANs",
        "colab_type": "code",
        "colab": {}
      },
      "source": [
        "from tensorflow.keras.models import Sequential\n",
        "from tensorflow.keras.layers import Dropout,Flatten\n",
        "from tensorflow.keras.layers import Dense\n",
        "from tensorflow.keras.optimizers import Adam\n",
        "\n",
        "INPUT_SIZE = (28,28,1)\n",
        "DISC_DROPOUT = 0.4\n",
        "def create_discriminator(input_shape=INPUT_SIZE):\n",
        "    print(\"Creating Discriminator\")\n",
        "    model = Sequential()\n",
        "    # down sample to 14 X 14\n",
        "    createDiscConvLayer(model)\n",
        "    # down sample to 7 X 7\n",
        "    createDiscConvLayer(model)\n",
        "\n",
        "    model.add(Flatten())\n",
        "    model.add(Dropout(DISC_DROPOUT))\n",
        "    activation = 'sigmoid'\n",
        "    loss= 'binary_crossentropy'\n",
        "    model.add(Dense(1, activation=activation))\n",
        "    # compile model\n",
        "    opt = Adam(lr=0.0002, beta_1=0.5)\n",
        "    model.compile(loss=loss, optimizer=opt, metrics=['accuracy'])\n",
        "    print(\"Created Discriminator\")\n",
        "    model.summary()\n",
        "    return model"
      ],
      "execution_count": 0,
      "outputs": []
    },
    {
      "cell_type": "code",
      "metadata": {
        "id": "L9s7bZSihaA0",
        "colab_type": "code",
        "colab": {}
      },
      "source": [
        "from tensorflow.keras.layers import Conv2DTranspose\n",
        "\n",
        "GEN_FILTER_SIZE = 4\n",
        "GEN_LEAKY_ALPHA = 0.2\n",
        "\n",
        "def addGenConvTransPoseLayer(model):\n",
        "  model.add(Conv2DTranspose(128, (GEN_FILTER_SIZE,GEN_FILTER_SIZE),\n",
        "                            strides=(2,2),\n",
        "                            padding='same',\n",
        "                            kernel_initializer=init))\n",
        "  model.add(LeakyReLU(alpha=GEN_LEAKY_ALPHA))"
      ],
      "execution_count": 0,
      "outputs": []
    },
    {
      "cell_type": "code",
      "metadata": {
        "id": "3FeRrfAfkN2r",
        "colab_type": "code",
        "colab": {}
      },
      "source": [
        "from tensorflow.keras.layers import Reshape\n",
        "\n",
        "def create_generator(latent_dim = LATENT_DIM):\n",
        "    print(\"Creating Genertor\")\n",
        "    model = Sequential()\n",
        "    # foundation for 7*7 image\n",
        "    n_nodes = 128 * 7 * 7\n",
        "    model.add(Dense(n_nodes, input_dim=latent_dim))\n",
        "    model.add(LeakyReLU(alpha=GEN_LEAKY_ALPHA))\n",
        "    model.add(Reshape((7, 7, 128)))\n",
        "    # upsample to 14 * 14\n",
        "    addGenConvTransPoseLayer(model)\n",
        "    # upsample to 28*28\n",
        "    addGenConvTransPoseLayer(model)\n",
        "    # output layer\n",
        "    model.add(Conv2D(1, (7,7),\n",
        "                     activation='sigmoid',\n",
        "                     padding='same',\n",
        "                     kernel_initializer=init))\n",
        "    print(\"Created Generator\")\n",
        "    model.summary()\n",
        "    return model\n"
      ],
      "execution_count": 0,
      "outputs": []
    },
    {
      "cell_type": "code",
      "metadata": {
        "id": "w-b37TY3lc50",
        "colab_type": "code",
        "colab": {}
      },
      "source": [
        "def create_gan(generator, discriminator):\n",
        "  print(\"Creating GAN\")\n",
        "  # freeze the weights of the discriminator\n",
        "  discriminator.trainable = False\n",
        "  # connect them\n",
        "  model = Sequential()\n",
        "  # add generator\n",
        "  model.add(generator)\n",
        "  # add the discriminator\n",
        "  model.add(discriminator)\n",
        "  # compile model\n",
        "  opt = Adam(lr=0.0002, beta_1=0.5)\n",
        "  loss= 'binary_crossentropy'\n",
        "  model.compile(loss=loss, optimizer=opt)\n",
        "  print(\"Created GAN\")\n",
        "  model.summary()\n",
        "  return model"
      ],
      "execution_count": 0,
      "outputs": []
    },
    {
      "cell_type": "code",
      "metadata": {
        "id": "BMjCPydksqkR",
        "colab_type": "code",
        "colab": {}
      },
      "source": [
        "from matplotlib import pyplot\n",
        "\n",
        "def saveSamples(samples, epoch, n=5):\n",
        "  for i in range(n * n):\n",
        "    pyplot.subplot(n, n, 1 + i)\n",
        "    pyplot.axis('off')\n",
        "    pyplot.imshow(samples[i, :, :, 0], cmap='gray_r')\n",
        "  # save to file\n",
        "  #filename = 'generated_plot_e%04d.png' % (epoch+1)\n",
        "  #pyplot.savefig(filename)\n",
        "  #pyplot.close()\n",
        "  pyplot.show()\n",
        "\n",
        "def generateSampleOutput(epoch, generator, n_samples=10):\n",
        "  X = generate_latent_input(LATENT_DIM, n_samples*n_samples)\n",
        "  y = generator.predict(X)\n",
        "  # save plot\n",
        "  saveSamples(y, epoch, n_samples)\n",
        "  # save the generator model tile file\n",
        "  #filename = 'generator_model_%04d.h5' % (epoch + 1)\n",
        "  #generator.save(filename)"
      ],
      "execution_count": 0,
      "outputs": []
    },
    {
      "cell_type": "code",
      "metadata": {
        "id": "NP-Cm3fHnx7N",
        "colab_type": "code",
        "colab": {}
      },
      "source": [
        "import math\n",
        "\n",
        "def train(generator, discriminator, gan, dataset, latent_dim, n_epochs=50, n_batch=256):\n",
        "  batches_count = math.ceil(dataset.shape[0] / n_batch)\n",
        "  half_batch = int(n_batch / 2)\n",
        "  # manually enumerate epochs\n",
        "  for i in range(n_epochs):\n",
        "    print(\" \")\n",
        "    # enumerate batches over the training set\n",
        "    print('>Epoch:%d' % (i+1), end = \" \")\n",
        "    for j in range(batches_count):\n",
        "      # get randomly selected 'real' samples\n",
        "      X_real, y_real = generate_real_samples(dataset, n_batch)\n",
        "      # generate 'fake' examples\n",
        "      X_fake, y_fake = create_generated_samples(generator, latent_dim, half_batch)\n",
        "      # update discriminator model weights\n",
        "      lossReal, _ = discriminator.train_on_batch(X_real, y_real)\n",
        "      lossFake, _ = discriminator.train_on_batch(X_fake, y_fake)\n",
        "      # prepare points in latent space as input for the generator\n",
        "      X_gan = generate_latent_input(latent_dim, n_batch)\n",
        "      # mark fake as real\n",
        "      y_gan = ones((n_batch, 1))\n",
        "      # update the generator via the discriminator's error\n",
        "      loss_generator = gan.train_on_batch(X_gan, y_gan)\n",
        "      print(\".\", end=\"\")\n",
        "      # summarize loss on this batch\n",
        "    if i%10 == 0 :\n",
        "      generateSampleOutput(i+1,generator,4)"
      ],
      "execution_count": 0,
      "outputs": []
    },
    {
      "cell_type": "code",
      "metadata": {
        "id": "WqpDcDeFtxaY",
        "colab_type": "code",
        "colab": {}
      },
      "source": [
        "dataset  = loadSamples()\n",
        "\n",
        "# create the discriminator\n",
        "discriminator = create_discriminator()\n",
        "# create the generator\n",
        "generator = create_generator(LATENT_DIM)\n",
        "# create the gan\n",
        "gan = create_gan(generator, discriminator)\n",
        "\n",
        "\n",
        "\n",
        "\n"
      ],
      "execution_count": 0,
      "outputs": []
    },
    {
      "cell_type": "code",
      "metadata": {
        "id": "mP-6WXXERujm",
        "colab_type": "code",
        "colab": {
          "base_uri": "https://localhost:8080/",
          "height": 600
        },
        "outputId": "b3e264fd-f1a5-4942-f16d-dbde955fe9eb"
      },
      "source": [
        "generateSampleOutput(0,generator,4)\n",
        "# train model\n",
        "train(generator, discriminator, gan, dataset, LATENT_DIM)"
      ],
      "execution_count": 0,
      "outputs": [
        {
          "output_type": "display_data",
          "data": {
            "image/png": "[encoded data removed]",
            "text/plain": [
              "<Figure size 432x288 with 16 Axes>"
            ]
          },
          "metadata": {
            "tags": []
          }
        },
        {
          "output_type": "stream",
          "text": [
            " \n",
            ">Epoch:1 ..........................................................................................................................................................................................................................................."
          ],
          "name": "stdout"
        },
        {
          "output_type": "display_data",
          "data": {
            "image/png": "[encoded data removed]",
            "text/plain": [
              "<Figure size 432x288 with 16 Axes>"
            ]
          },
          "metadata": {
            "tags": []
          }
        },
        {
          "output_type": "stream",
          "text": [
            " \n",
            ">Epoch:2 ........................................................................................................................................................................................................................................... \n",
            ">Epoch:3 ........................................................................................................................................................................................................................................... \n",
            ">Epoch:4 ............................................................................................"
          ],
          "name": "stdout"
        }
      ]
    }
  ]
}