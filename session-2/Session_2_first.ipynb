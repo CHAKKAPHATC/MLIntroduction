{
  "nbformat": 4,
  "nbformat_minor": 0,
  "metadata": {
    "colab": {
      "name": "Session 2 first.ipynb",
      "provenance": [],
      "include_colab_link": true
    },
    "kernelspec": {
      "name": "python3",
      "display_name": "Python 3"
    },
    "accelerator": "GPU"
  },
  "cells": [
    {
      "cell_type": "markdown",
      "metadata": {
        "id": "view-in-github",
        "colab_type": "text"
      },
      "source": [
        "<a href=\"https://colab.research.google.com/github/mohmiim/MLIntroduction/blob/master/session-2/Session_2_first.ipynb\" target=\"_parent\"><img src=\"https://colab.research.google.com/assets/colab-badge.svg\" alt=\"Open In Colab\"/></a>"
      ]
    },
    {
      "cell_type": "code",
      "metadata": {
        "id": "cXxE1PavhYPA",
        "colab_type": "code",
        "outputId": "54f8167a-a408-4a2b-e6c8-2e3d6336e690",
        "colab": {
          "base_uri": "https://localhost:8080/",
          "height": 34
        }
      },
      "source": [
        "import tensorflow as tf\n",
        "\n",
        "# ugly\n",
        "if ('rc' in tf.__version__) == True :\n",
        "  !pip uninstall tensorflow\n",
        "  !pip install tensorflow-gpu\n",
        "\n",
        "print(tf.__version__)\n",
        "\n",
        "from tensorflow.keras.preprocessing.image import ImageDataGenerator\n",
        "from tensorflow.keras.applications.mobilenet import preprocess_input\n",
        "from tensorflow.keras.models import Sequential\n",
        "from tensorflow.keras.layers import Dense, Flatten\n",
        "from tensorflow.keras.optimizers import SGD\n",
        "\n",
        "\n"
      ],
      "execution_count": 2,
      "outputs": [
        {
          "output_type": "stream",
          "text": [
            "2.1.0\n"
          ],
          "name": "stdout"
        }
      ]
    },
    {
      "cell_type": "code",
      "metadata": {
        "id": "mDgvcNBvhZ_z",
        "colab_type": "code",
        "colab": {}
      },
      "source": [
        "# https://github.com/mohmiim/MLIntroduction/raw/master/data/data.zip\n",
        "# https://github.com/mohmiim/MLIntroduction/raw/master/data/smallData.zip\n",
        "\n",
        "\n",
        "\n"
      ],
      "execution_count": 0,
      "outputs": []
    },
    {
      "cell_type": "code",
      "metadata": {
        "id": "7wHMo_eCj7ox",
        "colab_type": "code",
        "outputId": "76bfe88d-5b2f-44aa-d4bc-f8a655757594",
        "colab": {
          "base_uri": "https://localhost:8080/",
          "height": 298
        }
      },
      "source": [
        "import os\n",
        "\n",
        "!wget --no-check-certificate \\\n",
        "    https://github.com/mohmiim/MLIntroduction/raw/master/data/smallData.zip \\\n",
        "    -O /tmp/smallData.zip"
      ],
      "execution_count": 3,
      "outputs": [
        {
          "output_type": "stream",
          "text": [
            "--2020-03-27 19:30:19--  https://github.com/mohmiim/MLIntroduction/raw/master/data/smallData.zip\n",
            "Resolving github.com (github.com)... 192.30.255.112\n",
            "Connecting to github.com (github.com)|192.30.255.112|:443... connected.\n",
            "HTTP request sent, awaiting response... 302 Found\n",
            "Location: https://raw.githubusercontent.com/mohmiim/MLIntroduction/master/data/smallData.zip [following]\n",
            "--2020-03-27 19:30:20--  https://raw.githubusercontent.com/mohmiim/MLIntroduction/master/data/smallData.zip\n",
            "Resolving raw.githubusercontent.com (raw.githubusercontent.com)... 151.101.0.133, 151.101.64.133, 151.101.128.133, ...\n",
            "Connecting to raw.githubusercontent.com (raw.githubusercontent.com)|151.101.0.133|:443... connected.\n",
            "HTTP request sent, awaiting response... 200 OK\n",
            "Length: 7426985 (7.1M) [application/zip]\n",
            "Saving to: ‘/tmp/smallData.zip’\n",
            "\n",
            "/tmp/smallData.zip  100%[===================>]   7.08M  28.7MB/s    in 0.2s    \n",
            "\n",
            "2020-03-27 19:30:20 (28.7 MB/s) - ‘/tmp/smallData.zip’ saved [7426985/7426985]\n",
            "\n"
          ],
          "name": "stdout"
        }
      ]
    },
    {
      "cell_type": "code",
      "metadata": {
        "id": "3fl8-oY0xp_p",
        "colab_type": "code",
        "colab": {}
      },
      "source": [
        "import zipfile\n",
        "def unzip(file,target):\n",
        "  zip_ref = zipfile.ZipFile(file, 'r')\n",
        "  zip_ref.extractall(target)\n",
        "  zip_ref.close()\n",
        "\n",
        "unzip(\"/tmp/smallData.zip\",\"/tmp\")"
      ],
      "execution_count": 0,
      "outputs": []
    },
    {
      "cell_type": "code",
      "metadata": {
        "id": "NMcV0Ni6121i",
        "colab_type": "code",
        "outputId": "1b7efd26-7501-4e1d-d9fd-7343b113f403",
        "colab": {
          "base_uri": "https://localhost:8080/",
          "height": 34
        }
      },
      "source": [
        "if os.path.exists('/tmp/smallData'):\n",
        "    print(os.listdir('/tmp/smallData'))\n"
      ],
      "execution_count": 5,
      "outputs": [
        {
          "output_type": "stream",
          "text": [
            "['test', 'train', '.gitignore']\n"
          ],
          "name": "stdout"
        }
      ]
    },
    {
      "cell_type": "code",
      "metadata": {
        "id": "46YH94wzzohX",
        "colab_type": "code",
        "colab": {}
      },
      "source": [
        "#default sizes\n",
        "Image_Width = 100\n",
        "Image_Height = 100\n",
        "Image_Depth = 3\n",
        "targetSize = (Image_Width,Image_Height)\n",
        "targetSize_withdepth = (Image_Width,Image_Height,Image_Depth)\n",
        "CLASSES_COUNT = 2;\n",
        "epochs = 50"
      ],
      "execution_count": 0,
      "outputs": []
    },
    {
      "cell_type": "code",
      "metadata": {
        "id": "xgCDVbqqzqdG",
        "colab_type": "code",
        "outputId": "ccd58309-6f95-42d2-8405-b9160fe8b5e7",
        "colab": {
          "base_uri": "https://localhost:8080/",
          "height": 34
        }
      },
      "source": [
        "#define the sub folders for both training and test\n",
        "training = os.path.join(\"/tmp/smallData\",'train')\n",
        "\n",
        "#now the easiest way to load data is to use the ImageDataGenerator\n",
        "train_data_generator = ImageDataGenerator(preprocessing_function=preprocess_input)\n",
        "\n",
        "\n",
        "train_generator = train_data_generator.flow_from_directory(training,\n",
        "                                                           batch_size=20,\n",
        "                                                           target_size=targetSize,\n",
        "                                                           #seed=12\n",
        "                                                           )"
      ],
      "execution_count": 7,
      "outputs": [
        {
          "output_type": "stream",
          "text": [
            "Found 95 images belonging to 2 classes.\n"
          ],
          "name": "stdout"
        }
      ]
    },
    {
      "cell_type": "code",
      "metadata": {
        "id": "-nU9RpJy4110",
        "colab_type": "code",
        "outputId": "e071973a-5534-4882-97bb-7fe80378a27b",
        "colab": {
          "base_uri": "https://localhost:8080/",
          "height": 298
        }
      },
      "source": [
        "model = Sequential()\n",
        "model.add(Flatten(input_shape=targetSize_withdepth))\n",
        "model.add(Dense(1024,activation='relu'))\n",
        "model.add(Dense(512,activation='relu'))\n",
        "model.add(Dense(CLASSES_COUNT,activation='softmax'))\n",
        "model.compile(optimizer='sgd',loss='categorical_crossentropy',metrics=['accuracy'])\n",
        "model.summary()"
      ],
      "execution_count": 8,
      "outputs": [
        {
          "output_type": "stream",
          "text": [
            "Model: \"sequential\"\n",
            "_________________________________________________________________\n",
            "Layer (type)                 Output Shape              Param #   \n",
            "=================================================================\n",
            "flatten (Flatten)            (None, 30000)             0         \n",
            "_________________________________________________________________\n",
            "dense (Dense)                (None, 1024)              30721024  \n",
            "_________________________________________________________________\n",
            "dense_1 (Dense)              (None, 512)               524800    \n",
            "_________________________________________________________________\n",
            "dense_2 (Dense)              (None, 2)                 1026      \n",
            "=================================================================\n",
            "Total params: 31,246,850\n",
            "Trainable params: 31,246,850\n",
            "Non-trainable params: 0\n",
            "_________________________________________________________________\n"
          ],
          "name": "stdout"
        }
      ]
    },
    {
      "cell_type": "code",
      "metadata": {
        "id": "M7_YLYKh4_69",
        "colab_type": "code",
        "colab": {
          "base_uri": "https://localhost:8080/",
          "height": 1000
        },
        "outputId": "c502d2fa-8003-48c1-e190-8adf6dda89cf"
      },
      "source": [
        "model.fit_generator(generator=train_generator,epochs=epochs)\n"
      ],
      "execution_count": 9,
      "outputs": [
        {
          "output_type": "stream",
          "text": [
            "WARNING:tensorflow:From <ipython-input-9-5bef2fb4b819>:1: Model.fit_generator (from tensorflow.python.keras.engine.training) is deprecated and will be removed in a future version.\n",
            "Instructions for updating:\n",
            "Please use Model.fit, which supports generators.\n",
            "WARNING:tensorflow:sample_weight modes were coerced from\n",
            "  ...\n",
            "    to  \n",
            "  ['...']\n",
            "Train for 5 steps\n",
            "Epoch 1/50\n"
          ],
          "name": "stdout"
        },
        {
          "output_type": "stream",
          "text": [
            "/usr/local/lib/python3.6/dist-packages/PIL/Image.py:932: UserWarning: Palette images with Transparency expressed in bytes should be converted to RGBA images\n",
            "  \"Palette images with Transparency expressed in bytes should be \"\n"
          ],
          "name": "stderr"
        },
        {
          "output_type": "stream",
          "text": [
            "5/5 [==============================] - 2s 401ms/step - loss: 4.2647 - accuracy: 0.5158\n",
            "Epoch 2/50\n",
            "5/5 [==============================] - 1s 140ms/step - loss: 0.5246 - accuracy: 0.7053\n",
            "Epoch 3/50\n",
            "5/5 [==============================] - 1s 134ms/step - loss: 0.2439 - accuracy: 0.9263\n",
            "Epoch 4/50\n",
            "5/5 [==============================] - 1s 134ms/step - loss: 0.5995 - accuracy: 0.6947\n",
            "Epoch 5/50\n",
            "5/5 [==============================] - 1s 138ms/step - loss: 0.1604 - accuracy: 0.9368\n",
            "Epoch 6/50\n",
            "5/5 [==============================] - 1s 132ms/step - loss: 0.3293 - accuracy: 0.8316\n",
            "Epoch 7/50\n",
            "5/5 [==============================] - 1s 135ms/step - loss: 0.0972 - accuracy: 0.9684\n",
            "Epoch 8/50\n",
            "5/5 [==============================] - 1s 132ms/step - loss: 0.0599 - accuracy: 0.9895\n",
            "Epoch 9/50\n",
            "5/5 [==============================] - 1s 136ms/step - loss: 0.0395 - accuracy: 1.0000\n",
            "Epoch 10/50\n",
            "5/5 [==============================] - 1s 134ms/step - loss: 0.0246 - accuracy: 1.0000\n",
            "Epoch 11/50\n",
            "5/5 [==============================] - 1s 131ms/step - loss: 0.0251 - accuracy: 1.0000\n",
            "Epoch 12/50\n",
            "5/5 [==============================] - 1s 134ms/step - loss: 0.0175 - accuracy: 1.0000\n",
            "Epoch 13/50\n",
            "5/5 [==============================] - 1s 135ms/step - loss: 0.0151 - accuracy: 1.0000\n",
            "Epoch 14/50\n",
            "5/5 [==============================] - 1s 130ms/step - loss: 0.0134 - accuracy: 1.0000\n",
            "Epoch 15/50\n",
            "5/5 [==============================] - 1s 131ms/step - loss: 0.0118 - accuracy: 1.0000\n",
            "Epoch 16/50\n",
            "5/5 [==============================] - 1s 134ms/step - loss: 0.0106 - accuracy: 1.0000\n",
            "Epoch 17/50\n",
            "5/5 [==============================] - 1s 138ms/step - loss: 0.0094 - accuracy: 1.0000\n",
            "Epoch 18/50\n",
            "5/5 [==============================] - 1s 133ms/step - loss: 0.0085 - accuracy: 1.0000\n",
            "Epoch 19/50\n",
            "5/5 [==============================] - 1s 134ms/step - loss: 0.0080 - accuracy: 1.0000\n",
            "Epoch 20/50\n",
            "5/5 [==============================] - 1s 131ms/step - loss: 0.0072 - accuracy: 1.0000\n",
            "Epoch 21/50\n",
            "5/5 [==============================] - 1s 130ms/step - loss: 0.0067 - accuracy: 1.0000\n",
            "Epoch 22/50\n",
            "5/5 [==============================] - 1s 132ms/step - loss: 0.0062 - accuracy: 1.0000\n",
            "Epoch 23/50\n",
            "5/5 [==============================] - 1s 135ms/step - loss: 0.0059 - accuracy: 1.0000\n",
            "Epoch 24/50\n",
            "5/5 [==============================] - 1s 134ms/step - loss: 0.0055 - accuracy: 1.0000\n",
            "Epoch 25/50\n",
            "5/5 [==============================] - 1s 137ms/step - loss: 0.0052 - accuracy: 1.0000\n",
            "Epoch 26/50\n",
            "5/5 [==============================] - 1s 137ms/step - loss: 0.0049 - accuracy: 1.0000\n",
            "Epoch 27/50\n",
            "5/5 [==============================] - 1s 144ms/step - loss: 0.0047 - accuracy: 1.0000\n",
            "Epoch 28/50\n",
            "5/5 [==============================] - 1s 135ms/step - loss: 0.0045 - accuracy: 1.0000\n",
            "Epoch 29/50\n",
            "5/5 [==============================] - 1s 134ms/step - loss: 0.0042 - accuracy: 1.0000\n",
            "Epoch 30/50\n",
            "5/5 [==============================] - 1s 133ms/step - loss: 0.0040 - accuracy: 1.0000\n",
            "Epoch 31/50\n",
            "5/5 [==============================] - 1s 134ms/step - loss: 0.0039 - accuracy: 1.0000\n",
            "Epoch 32/50\n",
            "5/5 [==============================] - 1s 133ms/step - loss: 0.0037 - accuracy: 1.0000\n",
            "Epoch 33/50\n",
            "5/5 [==============================] - 1s 139ms/step - loss: 0.0036 - accuracy: 1.0000\n",
            "Epoch 34/50\n",
            "5/5 [==============================] - 1s 135ms/step - loss: 0.0034 - accuracy: 1.0000\n",
            "Epoch 35/50\n",
            "5/5 [==============================] - 1s 133ms/step - loss: 0.0033 - accuracy: 1.0000\n",
            "Epoch 36/50\n",
            "5/5 [==============================] - 1s 131ms/step - loss: 0.0032 - accuracy: 1.0000\n",
            "Epoch 37/50\n",
            "5/5 [==============================] - 1s 134ms/step - loss: 0.0030 - accuracy: 1.0000\n",
            "Epoch 38/50\n",
            "5/5 [==============================] - 1s 131ms/step - loss: 0.0029 - accuracy: 1.0000\n",
            "Epoch 39/50\n",
            "5/5 [==============================] - 1s 133ms/step - loss: 0.0028 - accuracy: 1.0000\n",
            "Epoch 40/50\n",
            "5/5 [==============================] - 1s 131ms/step - loss: 0.0028 - accuracy: 1.0000\n",
            "Epoch 41/50\n",
            "5/5 [==============================] - 1s 134ms/step - loss: 0.0027 - accuracy: 1.0000\n",
            "Epoch 42/50\n",
            "5/5 [==============================] - 1s 134ms/step - loss: 0.0026 - accuracy: 1.0000\n",
            "Epoch 43/50\n",
            "5/5 [==============================] - 1s 135ms/step - loss: 0.0025 - accuracy: 1.0000\n",
            "Epoch 44/50\n",
            "5/5 [==============================] - 1s 132ms/step - loss: 0.0024 - accuracy: 1.0000\n",
            "Epoch 45/50\n",
            "5/5 [==============================] - 1s 136ms/step - loss: 0.0024 - accuracy: 1.0000\n",
            "Epoch 46/50\n",
            "5/5 [==============================] - 1s 132ms/step - loss: 0.0023 - accuracy: 1.0000\n",
            "Epoch 47/50\n",
            "5/5 [==============================] - 1s 133ms/step - loss: 0.0023 - accuracy: 1.0000\n",
            "Epoch 48/50\n",
            "5/5 [==============================] - 1s 136ms/step - loss: 0.0022 - accuracy: 1.0000\n",
            "Epoch 49/50\n",
            "5/5 [==============================] - 1s 136ms/step - loss: 0.0021 - accuracy: 1.0000\n",
            "Epoch 50/50\n",
            "5/5 [==============================] - 1s 133ms/step - loss: 0.0021 - accuracy: 1.0000\n"
          ],
          "name": "stdout"
        },
        {
          "output_type": "execute_result",
          "data": {
            "text/plain": [
              "<tensorflow.python.keras.callbacks.History at 0x7f7a6f4f2e48>"
            ]
          },
          "metadata": {
            "tags": []
          },
          "execution_count": 9
        }
      ]
    },
    {
      "cell_type": "code",
      "metadata": {
        "id": "Mf9whMfJ-AYp",
        "colab_type": "code",
        "colab": {}
      },
      "source": [
        "from sklearn.metrics import confusion_matrix, classification_report\n",
        "def test(generator, model):\n",
        "  predictions = model.predict_generator(generator)\n",
        "  row_index = predictions.argmax(axis=1)\n",
        "  target_names = generator.class_indices.keys()\n",
        "  print(target_names)\n",
        "  print(confusion_matrix(generator.classes, row_index))\n",
        "  print('Classification Report')\n",
        "  print(classification_report(generator.classes, row_index, target_names=target_names))"
      ],
      "execution_count": 0,
      "outputs": []
    },
    {
      "cell_type": "code",
      "metadata": {
        "id": "k5n_8eyE43dA",
        "colab_type": "code",
        "outputId": "1e94047f-9a74-4ea2-8b61-c0bf857411ec",
        "colab": {
          "base_uri": "https://localhost:8080/",
          "height": 371
        }
      },
      "source": [
        "test_data_generator = ImageDataGenerator(preprocessing_function=preprocess_input)\n",
        "test_generator = test_data_generator.flow_from_directory(\"/tmp/smallData/train\",\n",
        "                                                         target_size=(100,100),\n",
        "                                                         shuffle=False)\n",
        "test(generator=test_generator, model=model)"
      ],
      "execution_count": 11,
      "outputs": [
        {
          "output_type": "stream",
          "text": [
            "Found 95 images belonging to 2 classes.\n",
            "WARNING:tensorflow:From <ipython-input-10-5aba0a32e8dc>:3: Model.predict_generator (from tensorflow.python.keras.engine.training) is deprecated and will be removed in a future version.\n",
            "Instructions for updating:\n",
            "Please use Model.predict, which supports generators.\n"
          ],
          "name": "stdout"
        },
        {
          "output_type": "stream",
          "text": [
            "/usr/local/lib/python3.6/dist-packages/PIL/Image.py:932: UserWarning: Palette images with Transparency expressed in bytes should be converted to RGBA images\n",
            "  \"Palette images with Transparency expressed in bytes should be \"\n"
          ],
          "name": "stderr"
        },
        {
          "output_type": "stream",
          "text": [
            "dict_keys(['bar_chart', 'pie_chart'])\n",
            "[[39  0]\n",
            " [ 0 56]]\n",
            "Classification Report\n",
            "              precision    recall  f1-score   support\n",
            "\n",
            "   bar_chart       1.00      1.00      1.00        39\n",
            "   pie_chart       1.00      1.00      1.00        56\n",
            "\n",
            "    accuracy                           1.00        95\n",
            "   macro avg       1.00      1.00      1.00        95\n",
            "weighted avg       1.00      1.00      1.00        95\n",
            "\n"
          ],
          "name": "stdout"
        }
      ]
    },
    {
      "cell_type": "code",
      "metadata": {
        "id": "rs7dyScZ-Hiu",
        "colab_type": "code",
        "outputId": "173ed918-9ce8-4719-fda1-37192748f22a",
        "colab": {
          "base_uri": "https://localhost:8080/",
          "height": 34
        }
      },
      "source": [
        "test_data_generator = ImageDataGenerator(preprocessing_function=preprocess_input)\n",
        "test_generator = test_data_generator.flow_from_directory(\"/tmp/smallData/test\",\n",
        "                                                         target_size=(100,100),\n",
        "                                                         shuffle=False)"
      ],
      "execution_count": 12,
      "outputs": [
        {
          "output_type": "stream",
          "text": [
            "Found 37 images belonging to 2 classes.\n"
          ],
          "name": "stdout"
        }
      ]
    },
    {
      "cell_type": "code",
      "metadata": {
        "id": "mxf9jjNR-Kwv",
        "colab_type": "code",
        "outputId": "0542f136-b58f-4b46-f648-f3e0dd0f4000",
        "colab": {
          "base_uri": "https://localhost:8080/",
          "height": 301
        }
      },
      "source": [
        "test(generator=test_generator, model=model)"
      ],
      "execution_count": 13,
      "outputs": [
        {
          "output_type": "stream",
          "text": [
            "dict_keys(['bar_chart', 'pie_chart'])\n",
            "[[15  4]\n",
            " [ 5 13]]\n",
            "Classification Report\n",
            "              precision    recall  f1-score   support\n",
            "\n",
            "   bar_chart       0.75      0.79      0.77        19\n",
            "   pie_chart       0.76      0.72      0.74        18\n",
            "\n",
            "    accuracy                           0.76        37\n",
            "   macro avg       0.76      0.76      0.76        37\n",
            "weighted avg       0.76      0.76      0.76        37\n",
            "\n"
          ],
          "name": "stdout"
        },
        {
          "output_type": "stream",
          "text": [
            "/usr/local/lib/python3.6/dist-packages/PIL/Image.py:932: UserWarning: Palette images with Transparency expressed in bytes should be converted to RGBA images\n",
            "  \"Palette images with Transparency expressed in bytes should be \"\n"
          ],
          "name": "stderr"
        }
      ]
    }
  ]
}