{
  "nbformat": 4,
  "nbformat_minor": 0,
  "metadata": {
    "colab": {
      "name": "Session 2 first.ipynb",
      "provenance": [],
      "include_colab_link": true
    },
    "kernelspec": {
      "name": "python3",
      "display_name": "Python 3"
    },
    "accelerator": "GPU"
  },
  "cells": [
    {
      "cell_type": "markdown",
      "metadata": {
        "id": "view-in-github",
        "colab_type": "text"
      },
      "source": [
        "<a href=\"https://colab.research.google.com/github/mohmiim/MLIntroduction/blob/master/session-2/Session_2_first.ipynb\" target=\"_parent\"><img src=\"https://colab.research.google.com/assets/colab-badge.svg\" alt=\"Open In Colab\"/></a>"
      ]
    },
    {
      "cell_type": "code",
      "metadata": {
        "id": "cXxE1PavhYPA",
        "colab_type": "code",
        "colab": {}
      },
      "source": [
        "import tensorflow as tf\n",
        "\n",
        "from tensorflow.keras.preprocessing.image import ImageDataGenerator\n",
        "from tensorflow.keras.applications.mobilenet import preprocess_input\n",
        "from tensorflow.keras.models import Sequential\n",
        "from tensorflow.keras.layers import Dense, Flatten\n",
        "from tensorflow.keras.optimizers import SGD\n"
      ],
      "execution_count": 0,
      "outputs": []
    },
    {
      "cell_type": "code",
      "metadata": {
        "id": "mDgvcNBvhZ_z",
        "colab_type": "code",
        "colab": {}
      },
      "source": [
        "# https://github.com/mohmiim/MLIntroduction/raw/master/data/data.zip\n",
        "# https://github.com/mohmiim/MLIntroduction/raw/master/data/smallData.zip\n",
        "\n",
        "\n",
        "\n"
      ],
      "execution_count": 0,
      "outputs": []
    },
    {
      "cell_type": "code",
      "metadata": {
        "id": "7wHMo_eCj7ox",
        "colab_type": "code",
        "colab": {}
      },
      "source": [
        "import os\n",
        "\n",
        "!wget --no-check-certificate \\\n",
        "    https://github.com/mohmiim/MLIntroduction/raw/master/data/smallData.zip \\\n",
        "    -O /tmp/smallData.zip"
      ],
      "execution_count": 0,
      "outputs": []
    },
    {
      "cell_type": "code",
      "metadata": {
        "id": "3fl8-oY0xp_p",
        "colab_type": "code",
        "colab": {}
      },
      "source": [
        "import zipfile\n",
        "def unzip(file,target):\n",
        "  zip_ref = zipfile.ZipFile(file, 'r')\n",
        "  zip_ref.extractall(target)\n",
        "  zip_ref.close()\n",
        "\n",
        "unzip(\"/tmp/smallData.zip\",\"/tmp\")"
      ],
      "execution_count": 0,
      "outputs": []
    },
    {
      "cell_type": "code",
      "metadata": {
        "id": "NMcV0Ni6121i",
        "colab_type": "code",
        "outputId": "6ff86581-7b96-4fdd-9411-6ecb7f1b0bde",
        "colab": {
          "base_uri": "https://localhost:8080/",
          "height": 34
        }
      },
      "source": [
        "if os.path.exists('/tmp/smallData'):\n",
        "    print(os.listdir('/tmp/smallData'))\n"
      ],
      "execution_count": 5,
      "outputs": [
        {
          "output_type": "stream",
          "text": [
            "['test', 'train', '.gitignore']\n"
          ],
          "name": "stdout"
        }
      ]
    },
    {
      "cell_type": "code",
      "metadata": {
        "id": "46YH94wzzohX",
        "colab_type": "code",
        "colab": {}
      },
      "source": [
        "#default sizes\n",
        "Image_Width = 100\n",
        "Image_Height = 100\n",
        "Image_Depth = 3\n",
        "targetSize = (Image_Width,Image_Height)\n",
        "targetSize_withdepth = (Image_Width,Image_Height,Image_Depth)\n",
        "CLASSES_COUNT = 2;\n",
        "epochs = 50"
      ],
      "execution_count": 0,
      "outputs": []
    },
    {
      "cell_type": "code",
      "metadata": {
        "id": "xgCDVbqqzqdG",
        "colab_type": "code",
        "outputId": "9b0fa92d-8955-4773-de73-b3e30218a006",
        "colab": {
          "base_uri": "https://localhost:8080/",
          "height": 34
        }
      },
      "source": [
        "#define the sub folders for both training and test\n",
        "training = os.path.join(\"/tmp/smallData\",'train')\n",
        "\n",
        "#now the easiest way to load data is to use the ImageDataGenerator\n",
        "train_data_generator = ImageDataGenerator(preprocessing_function=preprocess_input)\n",
        "\n",
        "\n",
        "train_generator = train_data_generator.flow_from_directory(training,\n",
        "                                                           batch_size=20,\n",
        "                                                           target_size=targetSize,\n",
        "                                                           #seed=12\n",
        "                                                           )"
      ],
      "execution_count": 8,
      "outputs": [
        {
          "output_type": "stream",
          "text": [
            "Found 95 images belonging to 2 classes.\n"
          ],
          "name": "stdout"
        }
      ]
    },
    {
      "cell_type": "code",
      "metadata": {
        "id": "-nU9RpJy4110",
        "colab_type": "code",
        "outputId": "10060632-64c2-42c9-dfa9-20b1e7629e50",
        "colab": {
          "base_uri": "https://localhost:8080/",
          "height": 298
        }
      },
      "source": [
        "model = Sequential()\n",
        "model.add(Flatten(input_shape=targetSize_withdepth))\n",
        "model.add(Dense(1024,activation='relu'))\n",
        "model.add(Dense(512,activation='relu'))\n",
        "model.add(Dense(CLASSES_COUNT,activation='softmax'))\n",
        "model.compile(optimizer='sgd',loss='categorical_crossentropy',metrics=['accuracy'])\n",
        "model.summary()"
      ],
      "execution_count": 10,
      "outputs": [
        {
          "output_type": "stream",
          "text": [
            "Model: \"sequential_1\"\n",
            "_________________________________________________________________\n",
            "Layer (type)                 Output Shape              Param #   \n",
            "=================================================================\n",
            "flatten_1 (Flatten)          (None, 30000)             0         \n",
            "_________________________________________________________________\n",
            "dense_3 (Dense)              (None, 1024)              30721024  \n",
            "_________________________________________________________________\n",
            "dense_4 (Dense)              (None, 512)               524800    \n",
            "_________________________________________________________________\n",
            "dense_5 (Dense)              (None, 2)                 1026      \n",
            "=================================================================\n",
            "Total params: 31,246,850\n",
            "Trainable params: 31,246,850\n",
            "Non-trainable params: 0\n",
            "_________________________________________________________________\n"
          ],
          "name": "stdout"
        }
      ]
    },
    {
      "cell_type": "code",
      "metadata": {
        "id": "M7_YLYKh4_69",
        "colab_type": "code",
        "outputId": "4e988ec7-47bf-4d0e-9c82-3865a1a3bceb",
        "colab": {
          "base_uri": "https://localhost:8080/",
          "height": 1000
        }
      },
      "source": [
        "model.fit(train_generator,epochs=epochs,steps_per_epoch=20)\n"
      ],
      "execution_count": 12,
      "outputs": [
        {
          "output_type": "stream",
          "text": [
            "Epoch 1/50\n"
          ],
          "name": "stdout"
        },
        {
          "output_type": "stream",
          "text": [
            "/usr/local/lib/python3.6/dist-packages/PIL/Image.py:932: UserWarning: Palette images with Transparency expressed in bytes should be converted to RGBA images\n",
            "  \"Palette images with Transparency expressed in bytes should be \"\n"
          ],
          "name": "stderr"
        },
        {
          "output_type": "stream",
          "text": [
            "20/20 [==============================] - 2s 103ms/step - loss: 1.4548 - accuracy: 0.7421\n",
            "Epoch 2/50\n",
            "20/20 [==============================] - 2s 106ms/step - loss: 0.0864 - accuracy: 0.9789\n",
            "Epoch 3/50\n",
            "20/20 [==============================] - 2s 110ms/step - loss: 0.0290 - accuracy: 1.0000\n",
            "Epoch 4/50\n",
            "20/20 [==============================] - 2s 108ms/step - loss: 0.0136 - accuracy: 1.0000\n",
            "Epoch 5/50\n",
            "20/20 [==============================] - 2s 103ms/step - loss: 0.0099 - accuracy: 1.0000\n",
            "Epoch 6/50\n",
            "20/20 [==============================] - 2s 108ms/step - loss: 0.0072 - accuracy: 1.0000\n",
            "Epoch 7/50\n",
            "20/20 [==============================] - 2s 108ms/step - loss: 0.0058 - accuracy: 1.0000\n",
            "Epoch 8/50\n",
            "20/20 [==============================] - 2s 109ms/step - loss: 0.0048 - accuracy: 1.0000\n",
            "Epoch 9/50\n",
            "20/20 [==============================] - 2s 110ms/step - loss: 0.0040 - accuracy: 1.0000\n",
            "Epoch 10/50\n",
            "20/20 [==============================] - 2s 111ms/step - loss: 0.0035 - accuracy: 1.0000\n",
            "Epoch 11/50\n",
            "20/20 [==============================] - 2s 107ms/step - loss: 0.0031 - accuracy: 1.0000\n",
            "Epoch 12/50\n",
            "20/20 [==============================] - 2s 109ms/step - loss: 0.0027 - accuracy: 1.0000\n",
            "Epoch 13/50\n",
            "20/20 [==============================] - 2s 108ms/step - loss: 0.0025 - accuracy: 1.0000\n",
            "Epoch 14/50\n",
            "20/20 [==============================] - 2s 108ms/step - loss: 0.0022 - accuracy: 1.0000\n",
            "Epoch 15/50\n",
            "20/20 [==============================] - 2s 109ms/step - loss: 0.0020 - accuracy: 1.0000\n",
            "Epoch 16/50\n",
            "20/20 [==============================] - 2s 108ms/step - loss: 0.0019 - accuracy: 1.0000\n",
            "Epoch 17/50\n",
            "20/20 [==============================] - 2s 101ms/step - loss: 0.0017 - accuracy: 1.0000\n",
            "Epoch 18/50\n",
            "20/20 [==============================] - 2s 106ms/step - loss: 0.0016 - accuracy: 1.0000\n",
            "Epoch 19/50\n",
            "20/20 [==============================] - 2s 103ms/step - loss: 0.0015 - accuracy: 1.0000\n",
            "Epoch 20/50\n",
            "20/20 [==============================] - 2s 104ms/step - loss: 0.0014 - accuracy: 1.0000\n",
            "Epoch 21/50\n",
            "20/20 [==============================] - 2s 109ms/step - loss: 0.0013 - accuracy: 1.0000\n",
            "Epoch 22/50\n",
            "20/20 [==============================] - 2s 101ms/step - loss: 0.0013 - accuracy: 1.0000\n",
            "Epoch 23/50\n",
            "20/20 [==============================] - 2s 104ms/step - loss: 0.0012 - accuracy: 1.0000\n",
            "Epoch 24/50\n",
            "20/20 [==============================] - 2s 108ms/step - loss: 0.0011 - accuracy: 1.0000\n",
            "Epoch 25/50\n",
            "20/20 [==============================] - 2s 112ms/step - loss: 0.0011 - accuracy: 1.0000\n",
            "Epoch 26/50\n",
            "20/20 [==============================] - 2s 112ms/step - loss: 0.0010 - accuracy: 1.0000\n",
            "Epoch 27/50\n",
            "20/20 [==============================] - 2s 110ms/step - loss: 9.6638e-04 - accuracy: 1.0000\n",
            "Epoch 28/50\n",
            "20/20 [==============================] - 2s 107ms/step - loss: 9.0724e-04 - accuracy: 1.0000\n",
            "Epoch 29/50\n",
            "20/20 [==============================] - 2s 111ms/step - loss: 8.7610e-04 - accuracy: 1.0000\n",
            "Epoch 30/50\n",
            "20/20 [==============================] - 2s 109ms/step - loss: 8.4823e-04 - accuracy: 1.0000\n",
            "Epoch 31/50\n",
            "20/20 [==============================] - 2s 105ms/step - loss: 8.0498e-04 - accuracy: 1.0000\n",
            "Epoch 32/50\n",
            "20/20 [==============================] - 2s 108ms/step - loss: 7.7257e-04 - accuracy: 1.0000\n",
            "Epoch 33/50\n",
            "20/20 [==============================] - 2s 107ms/step - loss: 7.4511e-04 - accuracy: 1.0000\n",
            "Epoch 34/50\n",
            "20/20 [==============================] - 2s 111ms/step - loss: 7.2073e-04 - accuracy: 1.0000\n",
            "Epoch 35/50\n",
            "20/20 [==============================] - 2s 105ms/step - loss: 6.9746e-04 - accuracy: 1.0000\n",
            "Epoch 36/50\n",
            "20/20 [==============================] - 2s 108ms/step - loss: 6.8730e-04 - accuracy: 1.0000\n",
            "Epoch 37/50\n",
            "20/20 [==============================] - 2s 111ms/step - loss: 6.5660e-04 - accuracy: 1.0000\n",
            "Epoch 38/50\n",
            "20/20 [==============================] - 2s 108ms/step - loss: 6.3836e-04 - accuracy: 1.0000\n",
            "Epoch 39/50\n",
            "20/20 [==============================] - 2s 106ms/step - loss: 6.1024e-04 - accuracy: 1.0000\n",
            "Epoch 40/50\n",
            "20/20 [==============================] - 2s 107ms/step - loss: 5.9405e-04 - accuracy: 1.0000\n",
            "Epoch 41/50\n",
            "20/20 [==============================] - 2s 107ms/step - loss: 5.7517e-04 - accuracy: 1.0000\n",
            "Epoch 42/50\n",
            "20/20 [==============================] - 2s 109ms/step - loss: 5.5156e-04 - accuracy: 1.0000\n",
            "Epoch 43/50\n",
            "20/20 [==============================] - 2s 108ms/step - loss: 5.4153e-04 - accuracy: 1.0000\n",
            "Epoch 44/50\n",
            "20/20 [==============================] - 2s 106ms/step - loss: 5.2674e-04 - accuracy: 1.0000\n",
            "Epoch 45/50\n",
            "20/20 [==============================] - 2s 108ms/step - loss: 5.1188e-04 - accuracy: 1.0000\n",
            "Epoch 46/50\n",
            "20/20 [==============================] - 2s 110ms/step - loss: 4.9640e-04 - accuracy: 1.0000\n",
            "Epoch 47/50\n",
            "20/20 [==============================] - 2s 107ms/step - loss: 4.8237e-04 - accuracy: 1.0000\n",
            "Epoch 48/50\n",
            "20/20 [==============================] - 2s 109ms/step - loss: 4.6982e-04 - accuracy: 1.0000\n",
            "Epoch 49/50\n",
            "20/20 [==============================] - 2s 108ms/step - loss: 4.6346e-04 - accuracy: 1.0000\n",
            "Epoch 50/50\n",
            "20/20 [==============================] - 2s 105ms/step - loss: 4.4717e-04 - accuracy: 1.0000\n"
          ],
          "name": "stdout"
        },
        {
          "output_type": "execute_result",
          "data": {
            "text/plain": [
              "<tensorflow.python.keras.callbacks.History at 0x7f7e23dc8c50>"
            ]
          },
          "metadata": {
            "tags": []
          },
          "execution_count": 12
        }
      ]
    },
    {
      "cell_type": "code",
      "metadata": {
        "id": "Mf9whMfJ-AYp",
        "colab_type": "code",
        "colab": {}
      },
      "source": [
        "from sklearn.metrics import confusion_matrix, classification_report\n",
        "def test(generator, model):\n",
        "  predictions = model.predict(generator, steps=1)\n",
        "  row_index = predictions.argmax(axis=1)\n",
        "  target_names = generator.class_indices.keys()\n",
        "  print(target_names)\n",
        "  print(confusion_matrix(generator.classes, row_index))\n",
        "  print('Classification Report')\n",
        "  print(classification_report(generator.classes, row_index, target_names=target_names))"
      ],
      "execution_count": 0,
      "outputs": []
    },
    {
      "cell_type": "code",
      "metadata": {
        "id": "k5n_8eyE43dA",
        "colab_type": "code",
        "outputId": "c21f0fa9-9908-4ce7-e00d-aed46bbcc8db",
        "colab": {
          "base_uri": "https://localhost:8080/",
          "height": 318
        }
      },
      "source": [
        "test_data_generator = ImageDataGenerator(preprocessing_function=preprocess_input)\n",
        "test_generator = test_data_generator.flow_from_directory(\"/tmp/smallData/train\",\n",
        "                                                         target_size=(100,100),\n",
        "                                                         batch_size=95,\n",
        "                                                         shuffle=False)\n",
        "test(generator=test_generator, model=model)"
      ],
      "execution_count": 14,
      "outputs": [
        {
          "output_type": "stream",
          "text": [
            "Found 95 images belonging to 2 classes.\n"
          ],
          "name": "stdout"
        },
        {
          "output_type": "stream",
          "text": [
            "/usr/local/lib/python3.6/dist-packages/PIL/Image.py:932: UserWarning: Palette images with Transparency expressed in bytes should be converted to RGBA images\n",
            "  \"Palette images with Transparency expressed in bytes should be \"\n"
          ],
          "name": "stderr"
        },
        {
          "output_type": "stream",
          "text": [
            "dict_keys(['bar_chart', 'pie_chart'])\n",
            "[[39  0]\n",
            " [ 0 56]]\n",
            "Classification Report\n",
            "              precision    recall  f1-score   support\n",
            "\n",
            "   bar_chart       1.00      1.00      1.00        39\n",
            "   pie_chart       1.00      1.00      1.00        56\n",
            "\n",
            "    accuracy                           1.00        95\n",
            "   macro avg       1.00      1.00      1.00        95\n",
            "weighted avg       1.00      1.00      1.00        95\n",
            "\n"
          ],
          "name": "stdout"
        }
      ]
    },
    {
      "cell_type": "code",
      "metadata": {
        "id": "rs7dyScZ-Hiu",
        "colab_type": "code",
        "outputId": "12a57090-45cd-4f08-efbe-504355c2a4c8",
        "colab": {
          "base_uri": "https://localhost:8080/",
          "height": 34
        }
      },
      "source": [
        "test_data_generator = ImageDataGenerator(preprocessing_function=preprocess_input)\n",
        "test_generator = test_data_generator.flow_from_directory(\"/tmp/smallData/test\",\n",
        "                                                         target_size=(100,100),\n",
        "                                                         batch_size=37,\n",
        "                                                         shuffle=False)"
      ],
      "execution_count": 15,
      "outputs": [
        {
          "output_type": "stream",
          "text": [
            "Found 37 images belonging to 2 classes.\n"
          ],
          "name": "stdout"
        }
      ]
    },
    {
      "cell_type": "code",
      "metadata": {
        "id": "mxf9jjNR-Kwv",
        "colab_type": "code",
        "outputId": "1836d904-9673-46dd-9845-a796152cd2a9",
        "colab": {
          "base_uri": "https://localhost:8080/",
          "height": 301
        }
      },
      "source": [
        "test(generator=test_generator, model=model)"
      ],
      "execution_count": 16,
      "outputs": [
        {
          "output_type": "stream",
          "text": [
            "/usr/local/lib/python3.6/dist-packages/PIL/Image.py:932: UserWarning: Palette images with Transparency expressed in bytes should be converted to RGBA images\n",
            "  \"Palette images with Transparency expressed in bytes should be \"\n"
          ],
          "name": "stderr"
        },
        {
          "output_type": "stream",
          "text": [
            "dict_keys(['bar_chart', 'pie_chart'])\n",
            "[[15  4]\n",
            " [ 4 14]]\n",
            "Classification Report\n",
            "              precision    recall  f1-score   support\n",
            "\n",
            "   bar_chart       0.79      0.79      0.79        19\n",
            "   pie_chart       0.78      0.78      0.78        18\n",
            "\n",
            "    accuracy                           0.78        37\n",
            "   macro avg       0.78      0.78      0.78        37\n",
            "weighted avg       0.78      0.78      0.78        37\n",
            "\n"
          ],
          "name": "stdout"
        }
      ]
    }
  ]
}