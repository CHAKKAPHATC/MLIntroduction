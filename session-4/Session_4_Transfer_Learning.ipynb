{
  "nbformat": 4,
  "nbformat_minor": 0,
  "metadata": {
    "colab": {
      "name": "Session 4 Transfer Learning.ipynb",
      "provenance": [],
      "include_colab_link": true
    },
    "kernelspec": {
      "name": "python3",
      "display_name": "Python 3"
    },
    "accelerator": "GPU"
  },
  "cells": [
    {
      "cell_type": "markdown",
      "metadata": {
        "id": "view-in-github",
        "colab_type": "text"
      },
      "source": [
        "<a href=\"https://colab.research.google.com/github/mohmiim/MLIntroduction/blob/master/session-4/Session_4_Transfer_Learning.ipynb\" target=\"_parent\"><img src=\"https://colab.research.google.com/assets/colab-badge.svg\" alt=\"Open In Colab\"/></a>"
      ]
    },
    {
      "cell_type": "code",
      "metadata": {
        "id": "a-JEqgndckJQ",
        "colab_type": "code",
        "colab": {}
      },
      "source": [
        "!pip install -U -q PyDrive"
      ],
      "execution_count": 0,
      "outputs": []
    },
    {
      "cell_type": "code",
      "metadata": {
        "id": "cH0nEqhSmiY8",
        "colab_type": "code",
        "outputId": "63caaadd-ccea-47d9-cdca-f978c6a2d7b2",
        "colab": {
          "base_uri": "https://localhost:8080/",
          "height": 34
        }
      },
      "source": [
        "import tensorflow as tf\n",
        "print(tf.__version__)\n",
        "\n",
        "if tf.__version__.startswith('2')==False :\n",
        "  !pip uninstall tensorflow\n",
        "  !pip install tensorflow-gpu\n",
        "  print(tf.__version__)\n"
      ],
      "execution_count": 2,
      "outputs": [
        {
          "output_type": "stream",
          "text": [
            "2.0.0\n"
          ],
          "name": "stdout"
        }
      ]
    },
    {
      "cell_type": "code",
      "metadata": {
        "id": "R0k0eV9W9l6k",
        "colab_type": "code",
        "outputId": "ba655644-cdc8-4dcb-a099-6dc16f0e9bdd",
        "colab": {
          "base_uri": "https://localhost:8080/",
          "height": 34
        }
      },
      "source": [
        "import tensorflow as tf\n",
        "print(tf.__version__)"
      ],
      "execution_count": 3,
      "outputs": [
        {
          "output_type": "stream",
          "text": [
            "2.0.0\n"
          ],
          "name": "stdout"
        }
      ]
    },
    {
      "cell_type": "code",
      "metadata": {
        "id": "cXxE1PavhYPA",
        "colab_type": "code",
        "colab": {}
      },
      "source": [
        "from pydrive.auth import GoogleAuth\n",
        "from pydrive.drive import GoogleDrive\n",
        "from google.colab import auth\n",
        "from oauth2client.client import GoogleCredentials\n",
        "import zipfile, os\n",
        "from tensorflow.keras.preprocessing.image import ImageDataGenerator\n",
        "from tensorflow.keras.applications import xception\n",
        "from tensorflow.keras.applications.mobilenet import preprocess_input\n",
        "from tensorflow.keras.models import Sequential\n",
        "from tensorflow.keras.layers import Dense,Dropout, Conv2D, Flatten, MaxPool2D\n",
        "from tensorflow.keras.activations import relu,softmax\n",
        "from tensorflow.keras.optimizers import Adam\n",
        "from tensorflow.keras.utils import to_categorical"
      ],
      "execution_count": 0,
      "outputs": []
    },
    {
      "cell_type": "code",
      "metadata": {
        "id": "mDgvcNBvhZ_z",
        "colab_type": "code",
        "colab": {}
      },
      "source": [
        "# data = > https://drive.google.com/file/d/1GEKK8oRNntFyR0ZxPdcvPut-15b7CvrW/view?usp=sharing\n",
        "# small Data => https://drive.google.com/file/d/1OHGNsTfvVZvWYQ7B29SYcxrLGVdeCoQb/view?usp=sharing\n",
        "\n",
        "\n"
      ],
      "execution_count": 0,
      "outputs": []
    },
    {
      "cell_type": "code",
      "metadata": {
        "id": "7wHMo_eCj7ox",
        "colab_type": "code",
        "colab": {}
      },
      "source": [
        "auth.authenticate_user()\n",
        "gauth = GoogleAuth()\n",
        "gauth.credentials = GoogleCredentials.get_application_default()\n",
        "drive = GoogleDrive(gauth)"
      ],
      "execution_count": 0,
      "outputs": []
    },
    {
      "cell_type": "code",
      "metadata": {
        "id": "3fl8-oY0xp_p",
        "colab_type": "code",
        "colab": {}
      },
      "source": [
        "if not os.path.exists('MLIntroData'):\n",
        "    os.makedirs('MLIntroData')\n",
        "\n",
        "# Download Zip\n",
        "myzip = drive.CreateFile({'id': '1GEKK8oRNntFyR0ZxPdcvPut-15b7CvrW'})\n",
        "myzip.GetContentFile('data.zip')\n",
        "\n",
        "# 3. Unzip\n",
        "zip_ref = zipfile.ZipFile('data.zip', 'r')\n",
        "zip_ref.extractall('MLIntroData/data')\n",
        "zip_ref.close()"
      ],
      "execution_count": 0,
      "outputs": []
    },
    {
      "cell_type": "code",
      "metadata": {
        "id": "NMcV0Ni6121i",
        "colab_type": "code",
        "outputId": "710f8006-2ada-454d-8f31-c3da183b9350",
        "colab": {
          "base_uri": "https://localhost:8080/",
          "height": 34
        }
      },
      "source": [
        "if os.path.exists('MLIntroData'):\n",
        "    print(os.listdir(\"MLIntroData/data/data\"))\n"
      ],
      "execution_count": 7,
      "outputs": [
        {
          "output_type": "stream",
          "text": [
            "['.gitignore', 'test', 'train']\n"
          ],
          "name": "stdout"
        }
      ]
    },
    {
      "cell_type": "code",
      "metadata": {
        "id": "46YH94wzzohX",
        "colab_type": "code",
        "colab": {}
      },
      "source": [
        "#default sizes\n",
        "Image_Width = 100\n",
        "Image_Height = 100\n",
        "Image_Depth = 3\n",
        "targetSize = (Image_Width,Image_Height)\n",
        "targetSize_withdepth = (Image_Width,Image_Height,Image_Depth)\n",
        "\n",
        "epochs = 300\n",
        "x_train = []\n",
        "y_train = []\n",
        "y_labels = []"
      ],
      "execution_count": 0,
      "outputs": []
    },
    {
      "cell_type": "code",
      "metadata": {
        "id": "xgCDVbqqzqdG",
        "colab_type": "code",
        "outputId": "4aee1777-2d77-4ee6-be37-f1410f7a2d9f",
        "colab": {
          "base_uri": "https://localhost:8080/",
          "height": 34
        }
      },
      "source": [
        "#define the sub folders for both training and test\n",
        "training = os.path.join(\"MLIntroData/data/data\",'train')\n",
        "\n",
        "#now the easiest way to load data is to use the ImageDataGenerator\n",
        "train_data_generator = ImageDataGenerator(preprocessing_function=xception.preprocess_input,\n",
        "                                          width_shift_range=0.2,\n",
        "                                          height_shift_range=0.2,\n",
        "                                          zoom_range=0.2,\n",
        "                                          fill_mode='nearest')\n",
        "\n",
        "\n",
        "train_generator = train_data_generator.flow_from_directory(training,\n",
        "                                                           batch_size=20,\n",
        "                                                           target_size=targetSize,\n",
        "                                                           #seed=12\n",
        "                                                           shuffle=False\n",
        "                                                           )"
      ],
      "execution_count": 9,
      "outputs": [
        {
          "output_type": "stream",
          "text": [
            "Found 229 images belonging to 5 classes.\n"
          ],
          "name": "stdout"
        }
      ]
    },
    {
      "cell_type": "code",
      "metadata": {
        "id": "Baa_vmkkM32e",
        "colab_type": "code",
        "outputId": "f76db8f7-21aa-48b6-845d-c67b2411162c",
        "colab": {
          "base_uri": "https://localhost:8080/",
          "height": 34
        }
      },
      "source": [
        "y_train =  train_generator.classes\n",
        "for k in train_generator.class_indices.keys():\n",
        "    y_labels.append(k)\n",
        "y_train = to_categorical(y_train)\n",
        "\n",
        "print(len(y_train))"
      ],
      "execution_count": 10,
      "outputs": [
        {
          "output_type": "stream",
          "text": [
            "229\n"
          ],
          "name": "stdout"
        }
      ]
    },
    {
      "cell_type": "code",
      "metadata": {
        "id": "-nU9RpJy4110",
        "colab_type": "code",
        "outputId": "b5c94234-32d3-472f-c5d6-b72841184983",
        "colab": {
          "base_uri": "https://localhost:8080/",
          "height": 105
        }
      },
      "source": [
        "# NOW WE LOAD THE PRE_TRAINED MODEL\n",
        "FEATURE_EXTRACTOR = xception.Xception(weights='imagenet',include_top=False,input_shape=targetSize_withdepth)\n",
        "\n",
        "#now we can extract the feature and save them for our images\n",
        "features_x = FEATURE_EXTRACTOR.predict_generator(train_generator)"
      ],
      "execution_count": 11,
      "outputs": [
        {
          "output_type": "stream",
          "text": [
            "Downloading data from https://github.com/fchollet/deep-learning-models/releases/download/v0.4/xception_weights_tf_dim_ordering_tf_kernels_notop.h5\n",
            "83689472/83683744 [==============================] - 3s 0us/step\n"
          ],
          "name": "stdout"
        },
        {
          "output_type": "stream",
          "text": [
            "/usr/local/lib/python3.6/dist-packages/PIL/Image.py:914: UserWarning: Palette images with Transparency   expressed in bytes should be converted to RGBA images\n",
            "  'to RGBA images')\n"
          ],
          "name": "stderr"
        }
      ]
    },
    {
      "cell_type": "code",
      "metadata": {
        "id": "M7_YLYKh4_69",
        "colab_type": "code",
        "outputId": "676c65f5-cc62-41e8-e70b-832326f4454a",
        "colab": {
          "base_uri": "https://localhost:8080/",
          "height": 377
        }
      },
      "source": [
        "model = Sequential()\n",
        "\n",
        "#add our layers\n",
        "model.add(Flatten(input_shape=features_x.shape[1:]))\n",
        "model.add(Dense(128,activation=relu))\n",
        "model.add(Dropout(0.1))\n",
        "model.add(Dense(64,activation=relu))\n",
        "model.add(Dense(len(y_labels),activation='softmax'))\n",
        "history = model.compile(ptimizer=Adam(lr=0.0001), loss=\"categorical_crossentropy\", metrics=['accuracy'])\n",
        "\n",
        "model.summary()\n"
      ],
      "execution_count": 12,
      "outputs": [
        {
          "output_type": "stream",
          "text": [
            "Model: \"sequential\"\n",
            "_________________________________________________________________\n",
            "Layer (type)                 Output Shape              Param #   \n",
            "=================================================================\n",
            "flatten (Flatten)            (None, 18432)             0         \n",
            "_________________________________________________________________\n",
            "dense (Dense)                (None, 128)               2359424   \n",
            "_________________________________________________________________\n",
            "dropout (Dropout)            (None, 128)               0         \n",
            "_________________________________________________________________\n",
            "dense_1 (Dense)              (None, 64)                8256      \n",
            "_________________________________________________________________\n",
            "dense_2 (Dense)              (None, 5)                 325       \n",
            "=================================================================\n",
            "Total params: 2,368,005\n",
            "Trainable params: 2,368,005\n",
            "Non-trainable params: 0\n",
            "_________________________________________________________________\n"
          ],
          "name": "stdout"
        },
        {
          "output_type": "stream",
          "text": [
            "/usr/local/lib/python3.6/dist-packages/PIL/Image.py:914: UserWarning: Palette images with Transparency   expressed in bytes should be converted to RGBA images\n",
            "  'to RGBA images')\n"
          ],
          "name": "stderr"
        }
      ]
    },
    {
      "cell_type": "code",
      "metadata": {
        "id": "j0Qc4OTsN5Z5",
        "colab_type": "code",
        "colab": {}
      },
      "source": [
        "model.fit(features_x,y_train,epochs=epochs,shuffle=True,verbose=2)"
      ],
      "execution_count": 0,
      "outputs": []
    },
    {
      "cell_type": "code",
      "metadata": {
        "id": "rs7dyScZ-Hiu",
        "colab_type": "code",
        "outputId": "fff9d32a-3756-442d-911e-a0ac561b77f9",
        "colab": {
          "base_uri": "https://localhost:8080/",
          "height": 34
        }
      },
      "source": [
        "test_data_generator = ImageDataGenerator(preprocessing_function=preprocess_input)\n",
        "test_generator = test_data_generator.flow_from_directory(\"MLIntroData/data/data/test\",\n",
        "                                                         target_size=(100,100),\n",
        "                                                         shuffle=False)"
      ],
      "execution_count": 14,
      "outputs": [
        {
          "output_type": "stream",
          "text": [
            "Found 93 images belonging to 5 classes.\n"
          ],
          "name": "stdout"
        }
      ]
    },
    {
      "cell_type": "code",
      "metadata": {
        "id": "mxf9jjNR-Kwv",
        "colab_type": "code",
        "outputId": "1e295ab0-1c20-405c-a2a9-ae81a9955382",
        "colab": {
          "base_uri": "https://localhost:8080/",
          "height": 88
        }
      },
      "source": [
        "import numpy as np\n",
        "x_train = []\n",
        "y_train = []\n",
        "y_labels = {}\n",
        "x_train = np.array(x_train)\n",
        "print(y_labels)\n",
        "#normalize the image data same way  as the model\n",
        "x_train = xception.preprocess_input(x_train)\n",
        "\n",
        "#now we can extract the feature and save them for our images\n",
        "features_x = FEATURE_EXTRACTOR.predict_generator(test_generator)\n",
        "predictions = model.predict(features_x)"
      ],
      "execution_count": 15,
      "outputs": [
        {
          "output_type": "stream",
          "text": [
            "{}\n"
          ],
          "name": "stdout"
        },
        {
          "output_type": "stream",
          "text": [
            "/usr/local/lib/python3.6/dist-packages/PIL/Image.py:914: UserWarning: Palette images with Transparency   expressed in bytes should be converted to RGBA images\n",
            "  'to RGBA images')\n"
          ],
          "name": "stderr"
        }
      ]
    },
    {
      "cell_type": "code",
      "metadata": {
        "id": "o5UL4nEXDCD0",
        "colab_type": "code",
        "outputId": "31599532-bd4b-4236-ffbb-3e507fba543d",
        "colab": {
          "base_uri": "https://localhost:8080/",
          "height": 340
        }
      },
      "source": [
        "from sklearn.metrics import confusion_matrix,classification_report\n",
        "row_index = predictions.argmax(axis=1)\n",
        "filenames = test_generator.filenames\n",
        "nb_samples = len(filenames)\n",
        "y_true = test_generator.classes\n",
        "target_names = test_generator.class_indices.keys()\n",
        "print(target_names)\n",
        "print(confusion_matrix(y_true, row_index))\n",
        "print('Classification Report')\n",
        "target_names = test_generator.class_indices.keys()\n",
        "print(classification_report(test_generator.classes, row_index, target_names=target_names))"
      ],
      "execution_count": 16,
      "outputs": [
        {
          "output_type": "stream",
          "text": [
            "dict_keys(['bar_chart', 'bubble_chart', 'pie_chart', 'radar_chart', 'treemap_chart'])\n",
            "[[15  0  0  0  4]\n",
            " [ 0 19  0  0  0]\n",
            " [ 1  0 17  0  0]\n",
            " [ 0  1  1 16  0]\n",
            " [ 0  0  0  1 18]]\n",
            "Classification Report\n",
            "               precision    recall  f1-score   support\n",
            "\n",
            "    bar_chart       0.94      0.79      0.86        19\n",
            " bubble_chart       0.95      1.00      0.97        19\n",
            "    pie_chart       0.94      0.94      0.94        18\n",
            "  radar_chart       0.94      0.89      0.91        18\n",
            "treemap_chart       0.82      0.95      0.88        19\n",
            "\n",
            "     accuracy                           0.91        93\n",
            "    macro avg       0.92      0.91      0.91        93\n",
            " weighted avg       0.92      0.91      0.91        93\n",
            "\n"
          ],
          "name": "stdout"
        }
      ]
    }
  ]
}