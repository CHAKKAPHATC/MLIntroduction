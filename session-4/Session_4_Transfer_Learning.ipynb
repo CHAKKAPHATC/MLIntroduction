{
  "nbformat": 4,
  "nbformat_minor": 0,
  "metadata": {
    "colab": {
      "name": "Session 4 Transfer Learning.ipynb",
      "provenance": []
    },
    "kernelspec": {
      "name": "python3",
      "display_name": "Python 3"
    },
    "accelerator": "GPU"
  },
  "cells": [
    {
      "cell_type": "code",
      "metadata": {
        "id": "a-JEqgndckJQ",
        "colab_type": "code",
        "colab": {}
      },
      "source": [
        "!pip install -U -q PyDrive"
      ],
      "execution_count": 0,
      "outputs": []
    },
    {
      "cell_type": "code",
      "metadata": {
        "id": "cH0nEqhSmiY8",
        "colab_type": "code",
        "colab": {}
      },
      "source": [
        "%tensorflow_version 2.x\n",
        "import tensorflow as tf\n",
        "print(tf.__version__)\n"
      ],
      "execution_count": 0,
      "outputs": []
    },
    {
      "cell_type": "code",
      "metadata": {
        "id": "cXxE1PavhYPA",
        "colab_type": "code",
        "colab": {}
      },
      "source": [
        "from pydrive.auth import GoogleAuth\n",
        "from pydrive.drive import GoogleDrive\n",
        "from google.colab import auth\n",
        "from oauth2client.client import GoogleCredentials\n",
        "import zipfile, os\n",
        "from tensorflow.keras.preprocessing.image import ImageDataGenerator\n",
        "from tensorflow.keras.applications import xception\n",
        "from tensorflow.keras.applications.mobilenet import preprocess_input\n",
        "from tensorflow.keras.models import Sequential\n",
        "from tensorflow.keras.layers import Dense,Dropout, Conv2D, Flatten, MaxPool2D\n",
        "from tensorflow.keras.activations import relu,softmax\n",
        "from tensorflow.keras.optimizers import Adam\n",
        "from tensorflow.keras.utils import to_categorical"
      ],
      "execution_count": 0,
      "outputs": []
    },
    {
      "cell_type": "code",
      "metadata": {
        "id": "mDgvcNBvhZ_z",
        "colab_type": "code",
        "colab": {}
      },
      "source": [
        "# data = > https://drive.google.com/file/d/1GEKK8oRNntFyR0ZxPdcvPut-15b7CvrW/view?usp=sharing\n",
        "# small Data => https://drive.google.com/file/d/1OHGNsTfvVZvWYQ7B29SYcxrLGVdeCoQb/view?usp=sharing\n",
        "\n",
        "\n"
      ],
      "execution_count": 0,
      "outputs": []
    },
    {
      "cell_type": "code",
      "metadata": {
        "id": "7wHMo_eCj7ox",
        "colab_type": "code",
        "colab": {}
      },
      "source": [
        "auth.authenticate_user()\n",
        "gauth = GoogleAuth()\n",
        "gauth.credentials = GoogleCredentials.get_application_default()\n",
        "drive = GoogleDrive(gauth)"
      ],
      "execution_count": 0,
      "outputs": []
    },
    {
      "cell_type": "code",
      "metadata": {
        "id": "3fl8-oY0xp_p",
        "colab_type": "code",
        "colab": {}
      },
      "source": [
        "if not os.path.exists('MLIntroData'):\n",
        "    os.makedirs('MLIntroData')\n",
        "\n",
        "# Download Zip\n",
        "myzip = drive.CreateFile({'id': '1GEKK8oRNntFyR0ZxPdcvPut-15b7CvrW'})\n",
        "myzip.GetContentFile('data.zip')\n",
        "\n",
        "# 3. Unzip\n",
        "zip_ref = zipfile.ZipFile('data.zip', 'r')\n",
        "zip_ref.extractall('MLIntroData/data')\n",
        "zip_ref.close()"
      ],
      "execution_count": 0,
      "outputs": []
    },
    {
      "cell_type": "code",
      "metadata": {
        "id": "NMcV0Ni6121i",
        "colab_type": "code",
        "colab": {}
      },
      "source": [
        "if os.path.exists('MLIntroData'):\n",
        "    print(os.listdir(\"MLIntroData/data/data\"))\n"
      ],
      "execution_count": 0,
      "outputs": []
    },
    {
      "cell_type": "code",
      "metadata": {
        "id": "46YH94wzzohX",
        "colab_type": "code",
        "colab": {}
      },
      "source": [
        "#default sizes\n",
        "Image_Width = 100\n",
        "Image_Height = 100\n",
        "Image_Depth = 3\n",
        "targetSize = (Image_Width,Image_Height)\n",
        "targetSize_withdepth = (Image_Width,Image_Height,Image_Depth)\n",
        "\n",
        "epochs = 300\n",
        "x_train = []\n",
        "y_train = []\n",
        "y_labels = []"
      ],
      "execution_count": 0,
      "outputs": []
    },
    {
      "cell_type": "code",
      "metadata": {
        "id": "xgCDVbqqzqdG",
        "colab_type": "code",
        "colab": {}
      },
      "source": [
        "#define the sub folders for both training and test\n",
        "training = os.path.join(\"MLIntroData/data/data\",'train')\n",
        "\n",
        "#now the easiest way to load data is to use the ImageDataGenerator\n",
        "train_data_generator = ImageDataGenerator(preprocessing_function=xception.preprocess_input,\n",
        "                                          width_shift_range=0.2,\n",
        "                                          height_shift_range=0.2,\n",
        "                                          zoom_range=0.2,\n",
        "                                          fill_mode='nearest')\n",
        "\n",
        "\n",
        "train_generator = train_data_generator.flow_from_directory(training,\n",
        "                                                           batch_size=20,\n",
        "                                                           target_size=targetSize,\n",
        "                                                           #seed=12\n",
        "                                                           shuffle=False\n",
        "                                                           )"
      ],
      "execution_count": 0,
      "outputs": []
    },
    {
      "cell_type": "code",
      "metadata": {
        "id": "Baa_vmkkM32e",
        "colab_type": "code",
        "colab": {}
      },
      "source": [
        "y_train =  train_generator.classes\n",
        "for k in train_generator.class_indices.keys():\n",
        "    y_labels.append(k)\n",
        "y_train = to_categorical(y_train)\n",
        "\n",
        "print(len(y_train))"
      ],
      "execution_count": 0,
      "outputs": []
    },
    {
      "cell_type": "code",
      "metadata": {
        "id": "-nU9RpJy4110",
        "colab_type": "code",
        "colab": {}
      },
      "source": [
        "# NOW WE LOAD THE PRE_TRAINED MODEL\n",
        "FEATURE_EXTRACTOR = xception.Xception(weights='imagenet',include_top=False,input_shape=targetSize_withdepth)\n",
        "\n",
        "#now we can extract the feature and save them for our images\n",
        "features_x = FEATURE_EXTRACTOR.predict(train_generator)"
      ],
      "execution_count": 0,
      "outputs": []
    },
    {
      "cell_type": "code",
      "metadata": {
        "id": "M7_YLYKh4_69",
        "colab_type": "code",
        "colab": {}
      },
      "source": [
        "model = Sequential()\n",
        "\n",
        "#add our layers\n",
        "model.add(Flatten(input_shape=features_x.shape[1:]))\n",
        "model.add(Dense(128,activation=relu))\n",
        "model.add(Dropout(0.1))\n",
        "model.add(Dense(64,activation=relu))\n",
        "model.add(Dense(len(y_labels),activation='softmax'))\n",
        "history = model.compile(optimizer=Adam(lr=0.0001), loss=\"categorical_crossentropy\", metrics=['accuracy'])\n",
        "\n",
        "model.summary()\n"
      ],
      "execution_count": 0,
      "outputs": []
    },
    {
      "cell_type": "code",
      "metadata": {
        "id": "j0Qc4OTsN5Z5",
        "colab_type": "code",
        "colab": {}
      },
      "source": [
        "model.fit(features_x,y_train,epochs=epochs,shuffle=True,verbose=2)"
      ],
      "execution_count": 0,
      "outputs": []
    },
    {
      "cell_type": "code",
      "metadata": {
        "id": "rs7dyScZ-Hiu",
        "colab_type": "code",
        "colab": {}
      },
      "source": [
        "test_data_generator = ImageDataGenerator(preprocessing_function=preprocess_input)\n",
        "test_generator = test_data_generator.flow_from_directory(\"MLIntroData/data/data/test\",\n",
        "                                                         target_size=(100,100),\n",
        "                                                         shuffle=False)"
      ],
      "execution_count": 0,
      "outputs": []
    },
    {
      "cell_type": "code",
      "metadata": {
        "id": "mxf9jjNR-Kwv",
        "colab_type": "code",
        "colab": {}
      },
      "source": [
        "import numpy as np\n",
        "x_train = []\n",
        "y_train = []\n",
        "y_labels = {}\n",
        "x_train = np.array(x_train)\n",
        "print(y_labels)\n",
        "#normalize the image data same way  as the model\n",
        "x_train = xception.preprocess_input(x_train)\n",
        "\n",
        "#now we can extract the feature and save them for our images\n",
        "features_x = FEATURE_EXTRACTOR.predict_generator(test_generator)\n",
        "predictions = model.predict(features_x)"
      ],
      "execution_count": 0,
      "outputs": []
    },
    {
      "cell_type": "code",
      "metadata": {
        "id": "o5UL4nEXDCD0",
        "colab_type": "code",
        "colab": {}
      },
      "source": [
        "from sklearn.metrics import confusion_matrix,classification_report\n",
        "row_index = predictions.argmax(axis=1)\n",
        "filenames = test_generator.filenames\n",
        "nb_samples = len(filenames)\n",
        "y_true = test_generator.classes\n",
        "target_names = test_generator.class_indices.keys()\n",
        "print(target_names)\n",
        "print(confusion_matrix(y_true, row_index))\n",
        "print('Classification Report')\n",
        "target_names = test_generator.class_indices.keys()\n",
        "print(classification_report(test_generator.classes, row_index, target_names=target_names))"
      ],
      "execution_count": 0,
      "outputs": []
    }
  ]
}