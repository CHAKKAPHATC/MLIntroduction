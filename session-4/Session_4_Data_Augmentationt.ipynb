{
  "nbformat": 4,
  "nbformat_minor": 0,
  "metadata": {
    "colab": {
      "name": "Session 4 Data Augmentationt.ipynb",
      "provenance": [],
      "include_colab_link": true
    },
    "kernelspec": {
      "name": "python3",
      "display_name": "Python 3"
    },
    "accelerator": "GPU"
  },
  "cells": [
    {
      "cell_type": "markdown",
      "metadata": {
        "id": "view-in-github",
        "colab_type": "text"
      },
      "source": [
        "<a href=\"https://colab.research.google.com/github/mohmiim/MLIntroduction/blob/master/session-4/Session_4_Data_Augmentationt.ipynb\" target=\"_parent\"><img src=\"https://colab.research.google.com/assets/colab-badge.svg\" alt=\"Open In Colab\"/></a>"
      ]
    },
    {
      "cell_type": "code",
      "metadata": {
        "id": "cH0nEqhSmiY8",
        "colab_type": "code",
        "outputId": "f03c2877-96c7-4fdc-d639-47b2c421ae5b",
        "colab": {
          "base_uri": "https://localhost:8080/",
          "height": 34
        }
      },
      "source": [
        "import tensorflow as tf\n",
        "print(tf.__version__)\n"
      ],
      "execution_count": 1,
      "outputs": [
        {
          "output_type": "stream",
          "text": [
            "2.2.0-rc1\n"
          ],
          "name": "stdout"
        }
      ]
    },
    {
      "cell_type": "code",
      "metadata": {
        "id": "cXxE1PavhYPA",
        "colab_type": "code",
        "colab": {}
      },
      "source": [
        "from tensorflow.keras.preprocessing.image import ImageDataGenerator\n",
        "from tensorflow.keras.applications.mobilenet import preprocess_input\n",
        "from tensorflow.keras.models import Sequential\n",
        "from tensorflow.keras.layers import Dense, Conv2D, Flatten, MaxPool2D\n",
        "from tensorflow.keras.activations import relu,softmax\n",
        "from tensorflow.keras.optimizers import Adam\n",
        "\n",
        "\n"
      ],
      "execution_count": 0,
      "outputs": []
    },
    {
      "cell_type": "code",
      "metadata": {
        "id": "mDgvcNBvhZ_z",
        "colab_type": "code",
        "colab": {}
      },
      "source": [
        "\n",
        "# https://github.com/mohmiim/MLIntroduction/raw/master/data/data.zip\n",
        "# https://github.com/mohmiim/MLIntroduction/raw/master/data/smallData.zip\n",
        "\n"
      ],
      "execution_count": 0,
      "outputs": []
    },
    {
      "cell_type": "code",
      "metadata": {
        "id": "7wHMo_eCj7ox",
        "colab_type": "code",
        "outputId": "4b589b60-295b-4d72-e348-3acf8c513f67",
        "colab": {
          "base_uri": "https://localhost:8080/",
          "height": 286
        }
      },
      "source": [
        "import os\n",
        "\n",
        "!wget --no-check-certificate \\\n",
        "    https://github.com/mohmiim/MLIntroduction/raw/master/data/data.zip \\\n",
        "    -O /tmp/data.zip"
      ],
      "execution_count": 3,
      "outputs": [
        {
          "output_type": "stream",
          "text": [
            "--2020-03-29 15:12:41--  https://github.com/mohmiim/MLIntroduction/raw/master/data/data.zip\n",
            "Resolving github.com (github.com)... 140.82.118.4\n",
            "Connecting to github.com (github.com)|140.82.118.4|:443... connected.\n",
            "HTTP request sent, awaiting response... 302 Found\n",
            "Location: https://raw.githubusercontent.com/mohmiim/MLIntroduction/master/data/data.zip [following]\n",
            "--2020-03-29 15:12:41--  https://raw.githubusercontent.com/mohmiim/MLIntroduction/master/data/data.zip\n",
            "Resolving raw.githubusercontent.com (raw.githubusercontent.com)... 151.101.0.133, 151.101.64.133, 151.101.128.133, ...\n",
            "Connecting to raw.githubusercontent.com (raw.githubusercontent.com)|151.101.0.133|:443... connected.\n",
            "HTTP request sent, awaiting response... 200 OK\n",
            "Length: 19729033 (19M) [application/zip]\n",
            "Saving to: ‘/tmp/data.zip’\n",
            "\n",
            "\r/tmp/data.zip         0%[                    ]       0  --.-KB/s               \r/tmp/data.zip        70%[=============>      ]  13.22M  60.2MB/s               \r/tmp/data.zip       100%[===================>]  18.81M  63.6MB/s    in 0.3s    \n",
            "\n",
            "2020-03-29 15:12:42 (63.6 MB/s) - ‘/tmp/data.zip’ saved [19729033/19729033]\n",
            "\n"
          ],
          "name": "stdout"
        }
      ]
    },
    {
      "cell_type": "code",
      "metadata": {
        "id": "3fl8-oY0xp_p",
        "colab_type": "code",
        "colab": {}
      },
      "source": [
        "import zipfile\n",
        "def unzip(file,target):\n",
        "  zip_ref = zipfile.ZipFile(file, 'r')\n",
        "  zip_ref.extractall(target)\n",
        "  zip_ref.close()\n",
        "\n",
        "unzip(\"/tmp/data.zip\",\"/tmp\")"
      ],
      "execution_count": 0,
      "outputs": []
    },
    {
      "cell_type": "code",
      "metadata": {
        "id": "NMcV0Ni6121i",
        "colab_type": "code",
        "outputId": "61ec7f6c-0f82-491c-af23-0b09f6fbd64e",
        "colab": {
          "base_uri": "https://localhost:8080/",
          "height": 34
        }
      },
      "source": [
        "\n",
        "print(os.listdir(\"/tmp/data\"))\n"
      ],
      "execution_count": 5,
      "outputs": [
        {
          "output_type": "stream",
          "text": [
            "['test', 'train', '.gitignore']\n"
          ],
          "name": "stdout"
        }
      ]
    },
    {
      "cell_type": "code",
      "metadata": {
        "id": "46YH94wzzohX",
        "colab_type": "code",
        "colab": {}
      },
      "source": [
        "#default sizes\n",
        "Image_Width = 100\n",
        "Image_Height = 100\n",
        "Image_Depth = 3\n",
        "targetSize = (Image_Width,Image_Height)\n",
        "targetSize_withdepth = (Image_Width,Image_Height,Image_Depth)\n",
        "epochs = 200"
      ],
      "execution_count": 0,
      "outputs": []
    },
    {
      "cell_type": "code",
      "metadata": {
        "id": "xgCDVbqqzqdG",
        "colab_type": "code",
        "outputId": "2f288ad1-c898-4759-c8ee-db97df756b6f",
        "colab": {
          "base_uri": "https://localhost:8080/",
          "height": 34
        }
      },
      "source": [
        "#define the sub folders for both training and test\n",
        "training = os.path.join(\"/tmp/data\",'train')\n",
        "\n",
        "#now the easiest way to load data is to use the ImageDataGenerator\n",
        "train_data_generator = ImageDataGenerator(preprocessing_function=preprocess_input,\n",
        "                                          width_shift_range=0.2,\n",
        "                                          height_shift_range=0.2,\n",
        "                                          zoom_range=0.2,\n",
        "                                          fill_mode='nearest')\n",
        "\n",
        "\n",
        "train_generator = train_data_generator.flow_from_directory(training,\n",
        "                                                           batch_size=20,\n",
        "                                                           target_size=targetSize,\n",
        "                                                           #seed=12\n",
        "                                                           )"
      ],
      "execution_count": 7,
      "outputs": [
        {
          "output_type": "stream",
          "text": [
            "Found 229 images belonging to 5 classes.\n"
          ],
          "name": "stdout"
        }
      ]
    },
    {
      "cell_type": "code",
      "metadata": {
        "id": "-nU9RpJy4110",
        "colab_type": "code",
        "outputId": "f25477af-3b17-41ee-e23c-a06dfc3aafb5",
        "colab": {
          "base_uri": "https://localhost:8080/",
          "height": 454
        }
      },
      "source": [
        "model = Sequential()\n",
        "model.add(Conv2D(128,(3,3),input_shape=targetSize_withdepth,activation=relu))\n",
        "model.add(MaxPool2D((2,2)))\n",
        "model.add(Conv2D(64,(3,3),activation=relu))\n",
        "model.add(MaxPool2D((2,2)))\n",
        "model.add(Conv2D(32,(3,3),activation=relu))\n",
        "model.add(MaxPool2D((2,2)))\n",
        "model.add(Flatten())\n",
        "model.add(Dense(512,activation=relu))\n",
        "model.add(Dense(5,activation='softmax'))\n",
        "history = model.compile(optimizer=Adam(), loss=\"categorical_crossentropy\", metrics=['accuracy'])\n",
        "model.summary()"
      ],
      "execution_count": 8,
      "outputs": [
        {
          "output_type": "stream",
          "text": [
            "Model: \"sequential\"\n",
            "_________________________________________________________________\n",
            "Layer (type)                 Output Shape              Param #   \n",
            "=================================================================\n",
            "conv2d (Conv2D)              (None, 98, 98, 128)       3584      \n",
            "_________________________________________________________________\n",
            "max_pooling2d (MaxPooling2D) (None, 49, 49, 128)       0         \n",
            "_________________________________________________________________\n",
            "conv2d_1 (Conv2D)            (None, 47, 47, 64)        73792     \n",
            "_________________________________________________________________\n",
            "max_pooling2d_1 (MaxPooling2 (None, 23, 23, 64)        0         \n",
            "_________________________________________________________________\n",
            "conv2d_2 (Conv2D)            (None, 21, 21, 32)        18464     \n",
            "_________________________________________________________________\n",
            "max_pooling2d_2 (MaxPooling2 (None, 10, 10, 32)        0         \n",
            "_________________________________________________________________\n",
            "flatten (Flatten)            (None, 3200)              0         \n",
            "_________________________________________________________________\n",
            "dense (Dense)                (None, 512)               1638912   \n",
            "_________________________________________________________________\n",
            "dense_1 (Dense)              (None, 5)                 2565      \n",
            "=================================================================\n",
            "Total params: 1,737,317\n",
            "Trainable params: 1,737,317\n",
            "Non-trainable params: 0\n",
            "_________________________________________________________________\n"
          ],
          "name": "stdout"
        }
      ]
    },
    {
      "cell_type": "code",
      "metadata": {
        "id": "M7_YLYKh4_69",
        "colab_type": "code",
        "colab": {
          "base_uri": "https://localhost:8080/",
          "height": 1000
        },
        "outputId": "f6750dd2-7428-45fa-8b58-9614ada1a485"
      },
      "source": [
        "model.fit(train_generator,epochs=epochs,steps_per_epoch=12)\n"
      ],
      "execution_count": 9,
      "outputs": [
        {
          "output_type": "stream",
          "text": [
            "Epoch 1/200\n",
            " 3/12 [======>.......................] - ETA: 0s - loss: 1.5313 - accuracy: 0.2000"
          ],
          "name": "stdout"
        },
        {
          "output_type": "stream",
          "text": [
            "/usr/local/lib/python3.6/dist-packages/PIL/Image.py:932: UserWarning: Palette images with Transparency expressed in bytes should be converted to RGBA images\n",
            "  \"Palette images with Transparency expressed in bytes should be \"\n"
          ],
          "name": "stderr"
        },
        {
          "output_type": "stream",
          "text": [
            "12/12 [==============================] - 2s 184ms/step - loss: 1.4196 - accuracy: 0.3406\n",
            "Epoch 2/200\n",
            "12/12 [==============================] - 2s 172ms/step - loss: 1.1633 - accuracy: 0.5022\n",
            "Epoch 3/200\n",
            "12/12 [==============================] - 2s 182ms/step - loss: 1.2023 - accuracy: 0.5415\n",
            "Epoch 4/200\n",
            "12/12 [==============================] - 2s 191ms/step - loss: 1.1471 - accuracy: 0.5066\n",
            "Epoch 5/200\n",
            "12/12 [==============================] - 2s 185ms/step - loss: 0.9522 - accuracy: 0.6114\n",
            "Epoch 6/200\n",
            "12/12 [==============================] - 2s 180ms/step - loss: 0.9536 - accuracy: 0.6288\n",
            "Epoch 7/200\n",
            "12/12 [==============================] - 2s 179ms/step - loss: 0.8911 - accuracy: 0.6376\n",
            "Epoch 8/200\n",
            "12/12 [==============================] - 2s 187ms/step - loss: 0.8458 - accuracy: 0.6419\n",
            "Epoch 9/200\n",
            "12/12 [==============================] - 2s 184ms/step - loss: 0.8364 - accuracy: 0.6769\n",
            "Epoch 10/200\n",
            "12/12 [==============================] - 2s 183ms/step - loss: 0.8221 - accuracy: 0.6900\n",
            "Epoch 11/200\n",
            "12/12 [==============================] - 2s 185ms/step - loss: 0.7373 - accuracy: 0.7074\n",
            "Epoch 12/200\n",
            "12/12 [==============================] - 2s 178ms/step - loss: 0.7959 - accuracy: 0.7031\n",
            "Epoch 13/200\n",
            "12/12 [==============================] - 2s 193ms/step - loss: 0.6989 - accuracy: 0.7293\n",
            "Epoch 14/200\n",
            "12/12 [==============================] - 2s 186ms/step - loss: 0.6942 - accuracy: 0.7555\n",
            "Epoch 15/200\n",
            "12/12 [==============================] - 2s 188ms/step - loss: 0.6664 - accuracy: 0.7598\n",
            "Epoch 16/200\n",
            "12/12 [==============================] - 2s 192ms/step - loss: 0.6498 - accuracy: 0.7249\n",
            "Epoch 17/200\n",
            "12/12 [==============================] - 2s 182ms/step - loss: 0.6810 - accuracy: 0.7205\n",
            "Epoch 18/200\n",
            "12/12 [==============================] - 2s 180ms/step - loss: 0.6225 - accuracy: 0.7686\n",
            "Epoch 19/200\n",
            "12/12 [==============================] - 2s 174ms/step - loss: 0.7145 - accuracy: 0.7249\n",
            "Epoch 20/200\n",
            "12/12 [==============================] - 2s 192ms/step - loss: 0.5320 - accuracy: 0.7904\n",
            "Epoch 21/200\n",
            "12/12 [==============================] - 2s 188ms/step - loss: 0.5414 - accuracy: 0.8210\n",
            "Epoch 22/200\n",
            "12/12 [==============================] - 2s 192ms/step - loss: 0.5445 - accuracy: 0.8079\n",
            "Epoch 23/200\n",
            "12/12 [==============================] - 2s 181ms/step - loss: 0.6402 - accuracy: 0.7598\n",
            "Epoch 24/200\n",
            "12/12 [==============================] - 2s 192ms/step - loss: 0.4685 - accuracy: 0.7948\n",
            "Epoch 25/200\n",
            "12/12 [==============================] - 2s 184ms/step - loss: 0.4124 - accuracy: 0.8384\n",
            "Epoch 26/200\n",
            "12/12 [==============================] - 2s 184ms/step - loss: 0.4632 - accuracy: 0.8122\n",
            "Epoch 27/200\n",
            "12/12 [==============================] - 2s 182ms/step - loss: 0.4029 - accuracy: 0.8472\n",
            "Epoch 28/200\n",
            "12/12 [==============================] - 2s 182ms/step - loss: 0.5304 - accuracy: 0.7642\n",
            "Epoch 29/200\n",
            "12/12 [==============================] - 2s 189ms/step - loss: 0.3926 - accuracy: 0.8603\n",
            "Epoch 30/200\n",
            "12/12 [==============================] - 2s 189ms/step - loss: 0.4368 - accuracy: 0.8428\n",
            "Epoch 31/200\n",
            "12/12 [==============================] - 2s 183ms/step - loss: 0.3974 - accuracy: 0.8646\n",
            "Epoch 32/200\n",
            "12/12 [==============================] - 2s 183ms/step - loss: 0.3233 - accuracy: 0.8734\n",
            "Epoch 33/200\n",
            "12/12 [==============================] - 2s 190ms/step - loss: 0.3314 - accuracy: 0.8821\n",
            "Epoch 34/200\n",
            "12/12 [==============================] - 2s 188ms/step - loss: 0.4080 - accuracy: 0.8210\n",
            "Epoch 35/200\n",
            "12/12 [==============================] - 2s 183ms/step - loss: 0.3471 - accuracy: 0.8603\n",
            "Epoch 36/200\n",
            "12/12 [==============================] - 2s 191ms/step - loss: 0.3086 - accuracy: 0.8865\n",
            "Epoch 37/200\n",
            "12/12 [==============================] - 2s 196ms/step - loss: 0.3089 - accuracy: 0.8908\n",
            "Epoch 38/200\n",
            "12/12 [==============================] - 2s 186ms/step - loss: 0.2327 - accuracy: 0.9301\n",
            "Epoch 39/200\n",
            "12/12 [==============================] - 2s 186ms/step - loss: 0.2432 - accuracy: 0.9083\n",
            "Epoch 40/200\n",
            "12/12 [==============================] - 2s 190ms/step - loss: 0.3376 - accuracy: 0.8908\n",
            "Epoch 41/200\n",
            "12/12 [==============================] - 2s 190ms/step - loss: 0.4123 - accuracy: 0.8384\n",
            "Epoch 42/200\n",
            "12/12 [==============================] - 2s 186ms/step - loss: 0.2104 - accuracy: 0.9389\n",
            "Epoch 43/200\n",
            "12/12 [==============================] - 2s 184ms/step - loss: 0.2455 - accuracy: 0.9127\n",
            "Epoch 44/200\n",
            "12/12 [==============================] - 2s 184ms/step - loss: 0.2481 - accuracy: 0.9170\n",
            "Epoch 45/200\n",
            "12/12 [==============================] - 2s 194ms/step - loss: 0.2204 - accuracy: 0.9127\n",
            "Epoch 46/200\n",
            "12/12 [==============================] - 2s 190ms/step - loss: 0.2802 - accuracy: 0.9170\n",
            "Epoch 47/200\n",
            "12/12 [==============================] - 2s 179ms/step - loss: 0.2745 - accuracy: 0.8952\n",
            "Epoch 48/200\n",
            "12/12 [==============================] - 2s 185ms/step - loss: 0.1767 - accuracy: 0.9476\n",
            "Epoch 49/200\n",
            "12/12 [==============================] - 2s 194ms/step - loss: 0.1798 - accuracy: 0.9520\n",
            "Epoch 50/200\n",
            "12/12 [==============================] - 2s 191ms/step - loss: 0.1751 - accuracy: 0.9432\n",
            "Epoch 51/200\n",
            "12/12 [==============================] - 2s 181ms/step - loss: 0.1189 - accuracy: 0.9651\n",
            "Epoch 52/200\n",
            "12/12 [==============================] - 2s 176ms/step - loss: 0.1312 - accuracy: 0.9432\n",
            "Epoch 53/200\n",
            "12/12 [==============================] - 2s 186ms/step - loss: 0.1895 - accuracy: 0.9170\n",
            "Epoch 54/200\n",
            "12/12 [==============================] - 2s 184ms/step - loss: 0.1381 - accuracy: 0.9432\n",
            "Epoch 55/200\n",
            "12/12 [==============================] - 2s 180ms/step - loss: 0.1445 - accuracy: 0.9345\n",
            "Epoch 56/200\n",
            "12/12 [==============================] - 2s 181ms/step - loss: 0.1385 - accuracy: 0.9607\n",
            "Epoch 57/200\n",
            "12/12 [==============================] - 2s 191ms/step - loss: 0.1371 - accuracy: 0.9563\n",
            "Epoch 58/200\n",
            "12/12 [==============================] - 2s 186ms/step - loss: 0.1886 - accuracy: 0.9345\n",
            "Epoch 59/200\n",
            "12/12 [==============================] - 2s 171ms/step - loss: 0.1790 - accuracy: 0.9389\n",
            "Epoch 60/200\n",
            "12/12 [==============================] - 2s 188ms/step - loss: 0.1598 - accuracy: 0.9520\n",
            "Epoch 61/200\n",
            "12/12 [==============================] - 2s 184ms/step - loss: 0.1810 - accuracy: 0.9432\n",
            "Epoch 62/200\n",
            "12/12 [==============================] - 2s 192ms/step - loss: 0.1245 - accuracy: 0.9476\n",
            "Epoch 63/200\n",
            "12/12 [==============================] - 2s 185ms/step - loss: 0.0705 - accuracy: 0.9694\n",
            "Epoch 64/200\n",
            "12/12 [==============================] - 2s 182ms/step - loss: 0.1551 - accuracy: 0.9651\n",
            "Epoch 65/200\n",
            "12/12 [==============================] - 2s 191ms/step - loss: 0.1794 - accuracy: 0.9563\n",
            "Epoch 66/200\n",
            "12/12 [==============================] - 2s 186ms/step - loss: 0.2286 - accuracy: 0.9214\n",
            "Epoch 67/200\n",
            "12/12 [==============================] - 2s 186ms/step - loss: 0.0918 - accuracy: 0.9694\n",
            "Epoch 68/200\n",
            "12/12 [==============================] - 2s 191ms/step - loss: 0.1621 - accuracy: 0.9345\n",
            "Epoch 69/200\n",
            "12/12 [==============================] - 2s 194ms/step - loss: 0.0831 - accuracy: 0.9738\n",
            "Epoch 70/200\n",
            "12/12 [==============================] - 2s 194ms/step - loss: 0.0628 - accuracy: 0.9869\n",
            "Epoch 71/200\n",
            "12/12 [==============================] - 2s 187ms/step - loss: 0.0947 - accuracy: 0.9520\n",
            "Epoch 72/200\n",
            "12/12 [==============================] - 2s 177ms/step - loss: 0.0875 - accuracy: 0.9607\n",
            "Epoch 73/200\n",
            "12/12 [==============================] - 2s 181ms/step - loss: 0.0529 - accuracy: 0.9782\n",
            "Epoch 74/200\n",
            "12/12 [==============================] - 2s 186ms/step - loss: 0.0399 - accuracy: 0.9913\n",
            "Epoch 75/200\n",
            "12/12 [==============================] - 2s 191ms/step - loss: 0.0537 - accuracy: 0.9782\n",
            "Epoch 76/200\n",
            "12/12 [==============================] - 2s 188ms/step - loss: 0.0264 - accuracy: 0.9869\n",
            "Epoch 77/200\n",
            "12/12 [==============================] - 2s 197ms/step - loss: 0.0993 - accuracy: 0.9651\n",
            "Epoch 78/200\n",
            "12/12 [==============================] - 2s 180ms/step - loss: 0.0378 - accuracy: 0.9956\n",
            "Epoch 79/200\n",
            "12/12 [==============================] - 2s 180ms/step - loss: 0.0423 - accuracy: 0.9825\n",
            "Epoch 80/200\n",
            "12/12 [==============================] - 2s 187ms/step - loss: 0.0355 - accuracy: 0.9825\n",
            "Epoch 81/200\n",
            "12/12 [==============================] - 2s 197ms/step - loss: 0.0335 - accuracy: 0.9913\n",
            "Epoch 82/200\n",
            "12/12 [==============================] - 2s 197ms/step - loss: 0.0285 - accuracy: 0.9869\n",
            "Epoch 83/200\n",
            "12/12 [==============================] - 2s 191ms/step - loss: 0.0669 - accuracy: 0.9825\n",
            "Epoch 84/200\n",
            "12/12 [==============================] - 2s 180ms/step - loss: 0.1320 - accuracy: 0.9520\n",
            "Epoch 85/200\n",
            "12/12 [==============================] - 2s 194ms/step - loss: 0.3061 - accuracy: 0.9258\n",
            "Epoch 86/200\n",
            "12/12 [==============================] - 2s 192ms/step - loss: 0.2146 - accuracy: 0.9432\n",
            "Epoch 87/200\n",
            "12/12 [==============================] - 2s 196ms/step - loss: 0.1336 - accuracy: 0.9301\n",
            "Epoch 88/200\n",
            "12/12 [==============================] - 2s 200ms/step - loss: 0.0979 - accuracy: 0.9869\n",
            "Epoch 89/200\n",
            "12/12 [==============================] - 2s 191ms/step - loss: 0.0517 - accuracy: 0.9869\n",
            "Epoch 90/200\n",
            "12/12 [==============================] - 2s 184ms/step - loss: 0.1066 - accuracy: 0.9563\n",
            "Epoch 91/200\n",
            "12/12 [==============================] - 2s 186ms/step - loss: 0.0618 - accuracy: 0.9782\n",
            "Epoch 92/200\n",
            "12/12 [==============================] - 2s 183ms/step - loss: 0.1123 - accuracy: 0.9563\n",
            "Epoch 93/200\n",
            "12/12 [==============================] - 2s 196ms/step - loss: 0.0959 - accuracy: 0.9694\n",
            "Epoch 94/200\n",
            "12/12 [==============================] - 2s 199ms/step - loss: 0.0474 - accuracy: 0.9825\n",
            "Epoch 95/200\n",
            "12/12 [==============================] - 2s 190ms/step - loss: 0.0693 - accuracy: 0.9782\n",
            "Epoch 96/200\n",
            "12/12 [==============================] - 2s 196ms/step - loss: 0.0959 - accuracy: 0.9825\n",
            "Epoch 97/200\n",
            "12/12 [==============================] - 2s 193ms/step - loss: 0.0788 - accuracy: 0.9694\n",
            "Epoch 98/200\n",
            "12/12 [==============================] - 2s 193ms/step - loss: 0.0761 - accuracy: 0.9782\n",
            "Epoch 99/200\n",
            "12/12 [==============================] - 2s 178ms/step - loss: 0.0936 - accuracy: 0.9651\n",
            "Epoch 100/200\n",
            "12/12 [==============================] - 2s 179ms/step - loss: 0.0628 - accuracy: 0.9782\n",
            "Epoch 101/200\n",
            "12/12 [==============================] - 2s 189ms/step - loss: 0.0553 - accuracy: 0.9869\n",
            "Epoch 102/200\n",
            "12/12 [==============================] - 2s 189ms/step - loss: 0.0492 - accuracy: 0.9869\n",
            "Epoch 103/200\n",
            "12/12 [==============================] - 2s 190ms/step - loss: 0.0349 - accuracy: 0.9913\n",
            "Epoch 104/200\n",
            "12/12 [==============================] - 2s 190ms/step - loss: 0.0275 - accuracy: 0.9956\n",
            "Epoch 105/200\n",
            "12/12 [==============================] - 2s 185ms/step - loss: 0.0440 - accuracy: 0.9825\n",
            "Epoch 106/200\n",
            "12/12 [==============================] - 2s 176ms/step - loss: 0.0355 - accuracy: 0.9913\n",
            "Epoch 107/200\n",
            "12/12 [==============================] - 2s 181ms/step - loss: 0.0263 - accuracy: 0.9869\n",
            "Epoch 108/200\n",
            "12/12 [==============================] - 2s 190ms/step - loss: 0.0086 - accuracy: 1.0000\n",
            "Epoch 109/200\n",
            "12/12 [==============================] - 2s 189ms/step - loss: 0.0138 - accuracy: 0.9956\n",
            "Epoch 110/200\n",
            "12/12 [==============================] - 2s 180ms/step - loss: 0.0147 - accuracy: 0.9956\n",
            "Epoch 111/200\n",
            "12/12 [==============================] - 2s 189ms/step - loss: 0.0579 - accuracy: 0.9782\n",
            "Epoch 112/200\n",
            "12/12 [==============================] - 2s 189ms/step - loss: 0.0244 - accuracy: 0.9956\n",
            "Epoch 113/200\n",
            "12/12 [==============================] - 2s 184ms/step - loss: 0.0163 - accuracy: 0.9913\n",
            "Epoch 114/200\n",
            "12/12 [==============================] - 2s 189ms/step - loss: 0.0125 - accuracy: 0.9956\n",
            "Epoch 115/200\n",
            "12/12 [==============================] - 2s 180ms/step - loss: 0.0145 - accuracy: 1.0000\n",
            "Epoch 116/200\n",
            "12/12 [==============================] - 2s 181ms/step - loss: 0.0076 - accuracy: 1.0000\n",
            "Epoch 117/200\n",
            "12/12 [==============================] - 2s 188ms/step - loss: 0.0306 - accuracy: 0.9869\n",
            "Epoch 118/200\n",
            "12/12 [==============================] - 2s 182ms/step - loss: 0.0656 - accuracy: 0.9825\n",
            "Epoch 119/200\n",
            "12/12 [==============================] - 2s 181ms/step - loss: 0.0677 - accuracy: 0.9738\n",
            "Epoch 120/200\n",
            "12/12 [==============================] - 2s 186ms/step - loss: 0.0750 - accuracy: 0.9694\n",
            "Epoch 121/200\n",
            "12/12 [==============================] - 2s 179ms/step - loss: 0.0695 - accuracy: 0.9694\n",
            "Epoch 122/200\n",
            "12/12 [==============================] - 2s 181ms/step - loss: 0.0443 - accuracy: 0.9869\n",
            "Epoch 123/200\n",
            "12/12 [==============================] - 2s 180ms/step - loss: 0.0126 - accuracy: 0.9956\n",
            "Epoch 124/200\n",
            "12/12 [==============================] - 2s 186ms/step - loss: 0.0265 - accuracy: 0.9913\n",
            "Epoch 125/200\n",
            "12/12 [==============================] - 2s 185ms/step - loss: 0.0237 - accuracy: 0.9913\n",
            "Epoch 126/200\n",
            "12/12 [==============================] - 2s 189ms/step - loss: 0.0126 - accuracy: 0.9913\n",
            "Epoch 127/200\n",
            "12/12 [==============================] - 2s 187ms/step - loss: 0.0177 - accuracy: 0.9956\n",
            "Epoch 128/200\n",
            "12/12 [==============================] - 2s 185ms/step - loss: 0.0628 - accuracy: 0.9738\n",
            "Epoch 129/200\n",
            "12/12 [==============================] - 2s 177ms/step - loss: 0.0127 - accuracy: 0.9956\n",
            "Epoch 130/200\n",
            "12/12 [==============================] - 2s 186ms/step - loss: 0.0156 - accuracy: 0.9956\n",
            "Epoch 131/200\n",
            "12/12 [==============================] - 2s 187ms/step - loss: 0.0069 - accuracy: 1.0000\n",
            "Epoch 132/200\n",
            "12/12 [==============================] - 2s 187ms/step - loss: 0.0257 - accuracy: 0.9869\n",
            "Epoch 133/200\n",
            "12/12 [==============================] - 2s 186ms/step - loss: 0.0227 - accuracy: 0.9869\n",
            "Epoch 134/200\n",
            "12/12 [==============================] - 2s 180ms/step - loss: 0.0107 - accuracy: 0.9956\n",
            "Epoch 135/200\n",
            "12/12 [==============================] - 2s 191ms/step - loss: 0.0087 - accuracy: 0.9956\n",
            "Epoch 136/200\n",
            "12/12 [==============================] - 2s 180ms/step - loss: 0.0158 - accuracy: 0.9956\n",
            "Epoch 137/200\n",
            "12/12 [==============================] - 2s 181ms/step - loss: 0.0772 - accuracy: 0.9782\n",
            "Epoch 138/200\n",
            "12/12 [==============================] - 2s 183ms/step - loss: 0.0604 - accuracy: 0.9694\n",
            "Epoch 139/200\n",
            "12/12 [==============================] - 2s 184ms/step - loss: 0.0936 - accuracy: 0.9694\n",
            "Epoch 140/200\n",
            "12/12 [==============================] - 2s 188ms/step - loss: 0.0350 - accuracy: 0.9869\n",
            "Epoch 141/200\n",
            "12/12 [==============================] - 2s 188ms/step - loss: 0.0297 - accuracy: 0.9913\n",
            "Epoch 142/200\n",
            "12/12 [==============================] - 2s 181ms/step - loss: 0.0759 - accuracy: 0.9869\n",
            "Epoch 143/200\n",
            "12/12 [==============================] - 2s 185ms/step - loss: 0.0230 - accuracy: 0.9956\n",
            "Epoch 144/200\n",
            "12/12 [==============================] - 2s 186ms/step - loss: 0.0850 - accuracy: 0.9782\n",
            "Epoch 145/200\n",
            "12/12 [==============================] - 2s 187ms/step - loss: 0.3875 - accuracy: 0.9258\n",
            "Epoch 146/200\n",
            "12/12 [==============================] - 2s 173ms/step - loss: 0.1877 - accuracy: 0.9214\n",
            "Epoch 147/200\n",
            "12/12 [==============================] - 2s 187ms/step - loss: 0.1579 - accuracy: 0.9345\n",
            "Epoch 148/200\n",
            "12/12 [==============================] - 2s 188ms/step - loss: 0.0948 - accuracy: 0.9825\n",
            "Epoch 149/200\n",
            "12/12 [==============================] - 2s 188ms/step - loss: 0.0595 - accuracy: 0.9782\n",
            "Epoch 150/200\n",
            "12/12 [==============================] - 2s 181ms/step - loss: 0.0375 - accuracy: 0.9913\n",
            "Epoch 151/200\n",
            "12/12 [==============================] - 2s 187ms/step - loss: 0.0276 - accuracy: 0.9913\n",
            "Epoch 152/200\n",
            "12/12 [==============================] - 2s 183ms/step - loss: 0.0442 - accuracy: 0.9869\n",
            "Epoch 153/200\n",
            "12/12 [==============================] - 2s 183ms/step - loss: 0.0516 - accuracy: 0.9825\n",
            "Epoch 154/200\n",
            "12/12 [==============================] - 2s 189ms/step - loss: 0.0472 - accuracy: 0.9869\n",
            "Epoch 155/200\n",
            "12/12 [==============================] - 2s 182ms/step - loss: 0.0441 - accuracy: 0.9738\n",
            "Epoch 156/200\n",
            "12/12 [==============================] - 2s 185ms/step - loss: 0.0349 - accuracy: 0.9738\n",
            "Epoch 157/200\n",
            "12/12 [==============================] - 2s 187ms/step - loss: 0.0270 - accuracy: 0.9913\n",
            "Epoch 158/200\n",
            "12/12 [==============================] - 2s 183ms/step - loss: 0.0206 - accuracy: 0.9913\n",
            "Epoch 159/200\n",
            "12/12 [==============================] - 2s 183ms/step - loss: 0.0521 - accuracy: 0.9825\n",
            "Epoch 160/200\n",
            "12/12 [==============================] - 2s 187ms/step - loss: 0.0489 - accuracy: 0.9869\n",
            "Epoch 161/200\n",
            "12/12 [==============================] - 2s 181ms/step - loss: 0.0446 - accuracy: 0.9869\n",
            "Epoch 162/200\n",
            "12/12 [==============================] - 2s 173ms/step - loss: 0.0142 - accuracy: 0.9956\n",
            "Epoch 163/200\n",
            "12/12 [==============================] - 2s 187ms/step - loss: 0.0244 - accuracy: 0.9956\n",
            "Epoch 164/200\n",
            "12/12 [==============================] - 2s 174ms/step - loss: 0.0410 - accuracy: 0.9869\n",
            "Epoch 165/200\n",
            "12/12 [==============================] - 2s 185ms/step - loss: 0.0282 - accuracy: 0.9913\n",
            "Epoch 166/200\n",
            "12/12 [==============================] - 2s 182ms/step - loss: 0.0087 - accuracy: 1.0000\n",
            "Epoch 167/200\n",
            "12/12 [==============================] - 2s 184ms/step - loss: 0.0550 - accuracy: 0.9913\n",
            "Epoch 168/200\n",
            "12/12 [==============================] - 2s 191ms/step - loss: 0.0342 - accuracy: 0.9825\n",
            "Epoch 169/200\n",
            "12/12 [==============================] - 2s 183ms/step - loss: 0.0282 - accuracy: 0.9913\n",
            "Epoch 170/200\n",
            "12/12 [==============================] - 2s 185ms/step - loss: 0.0119 - accuracy: 0.9956\n",
            "Epoch 171/200\n",
            "12/12 [==============================] - 2s 186ms/step - loss: 0.0051 - accuracy: 0.9956\n",
            "Epoch 172/200\n",
            "12/12 [==============================] - 2s 190ms/step - loss: 0.0379 - accuracy: 0.9956\n",
            "Epoch 173/200\n",
            "12/12 [==============================] - 2s 188ms/step - loss: 0.0769 - accuracy: 0.9825\n",
            "Epoch 174/200\n",
            "12/12 [==============================] - 2s 187ms/step - loss: 0.0413 - accuracy: 0.9694\n",
            "Epoch 175/200\n",
            "12/12 [==============================] - 2s 186ms/step - loss: 0.0572 - accuracy: 0.9738\n",
            "Epoch 176/200\n",
            "12/12 [==============================] - 2s 187ms/step - loss: 0.0301 - accuracy: 0.9869\n",
            "Epoch 177/200\n",
            "12/12 [==============================] - 2s 187ms/step - loss: 0.0108 - accuracy: 1.0000\n",
            "Epoch 178/200\n",
            "12/12 [==============================] - 2s 184ms/step - loss: 0.0094 - accuracy: 1.0000\n",
            "Epoch 179/200\n",
            "12/12 [==============================] - 2s 185ms/step - loss: 0.0276 - accuracy: 0.9825\n",
            "Epoch 180/200\n",
            "12/12 [==============================] - 2s 189ms/step - loss: 0.0230 - accuracy: 0.9869\n",
            "Epoch 181/200\n",
            "12/12 [==============================] - 2s 185ms/step - loss: 0.0123 - accuracy: 1.0000\n",
            "Epoch 182/200\n",
            "12/12 [==============================] - 2s 185ms/step - loss: 0.0406 - accuracy: 0.9913\n",
            "Epoch 183/200\n",
            "12/12 [==============================] - 2s 185ms/step - loss: 0.0039 - accuracy: 1.0000\n",
            "Epoch 184/200\n",
            "12/12 [==============================] - 2s 188ms/step - loss: 0.0147 - accuracy: 0.9913\n",
            "Epoch 185/200\n",
            "12/12 [==============================] - 2s 187ms/step - loss: 0.0175 - accuracy: 0.9869\n",
            "Epoch 186/200\n",
            "12/12 [==============================] - 2s 188ms/step - loss: 0.0030 - accuracy: 1.0000\n",
            "Epoch 187/200\n",
            "12/12 [==============================] - 2s 188ms/step - loss: 0.0058 - accuracy: 0.9956\n",
            "Epoch 188/200\n",
            "12/12 [==============================] - 2s 188ms/step - loss: 0.0024 - accuracy: 1.0000\n",
            "Epoch 189/200\n",
            "12/12 [==============================] - 2s 170ms/step - loss: 0.0014 - accuracy: 1.0000\n",
            "Epoch 190/200\n",
            "12/12 [==============================] - 2s 185ms/step - loss: 0.0107 - accuracy: 0.9956\n",
            "Epoch 191/200\n",
            "12/12 [==============================] - 2s 189ms/step - loss: 0.0030 - accuracy: 1.0000\n",
            "Epoch 192/200\n",
            "12/12 [==============================] - 2s 183ms/step - loss: 0.0089 - accuracy: 0.9956\n",
            "Epoch 193/200\n",
            "12/12 [==============================] - 2s 189ms/step - loss: 0.0077 - accuracy: 1.0000\n",
            "Epoch 194/200\n",
            "12/12 [==============================] - 2s 190ms/step - loss: 0.0094 - accuracy: 0.9956\n",
            "Epoch 195/200\n",
            "12/12 [==============================] - 2s 190ms/step - loss: 0.0084 - accuracy: 0.9956\n",
            "Epoch 196/200\n",
            "12/12 [==============================] - 2s 193ms/step - loss: 0.0025 - accuracy: 1.0000\n",
            "Epoch 197/200\n",
            "12/12 [==============================] - 2s 194ms/step - loss: 0.0081 - accuracy: 0.9956\n",
            "Epoch 198/200\n",
            "12/12 [==============================] - 2s 188ms/step - loss: 0.0348 - accuracy: 0.9869\n",
            "Epoch 199/200\n",
            "12/12 [==============================] - 2s 190ms/step - loss: 0.0218 - accuracy: 0.9869\n",
            "Epoch 200/200\n",
            "12/12 [==============================] - 2s 189ms/step - loss: 0.0066 - accuracy: 1.0000\n"
          ],
          "name": "stdout"
        },
        {
          "output_type": "execute_result",
          "data": {
            "text/plain": [
              "<tensorflow.python.keras.callbacks.History at 0x7f0f1a95a358>"
            ]
          },
          "metadata": {
            "tags": []
          },
          "execution_count": 9
        }
      ]
    },
    {
      "cell_type": "code",
      "metadata": {
        "id": "Mf9whMfJ-AYp",
        "colab_type": "code",
        "colab": {}
      },
      "source": [
        "from sklearn.metrics import confusion_matrix, classification_report\n",
        "def test(generator, model):\n",
        "  predictions = model.predict(generator, steps=1)\n",
        "  row_index = predictions.argmax(axis=1)\n",
        "  target_names = generator.class_indices.keys()\n",
        "  print(target_names)\n",
        "  print(confusion_matrix(generator.classes, row_index))\n",
        "  print('Classification Report')\n",
        "  print(classification_report(generator.classes, row_index, target_names=target_names))"
      ],
      "execution_count": 0,
      "outputs": []
    },
    {
      "cell_type": "code",
      "metadata": {
        "id": "k5n_8eyE43dA",
        "colab_type": "code",
        "outputId": "ac2283f7-aec6-469d-f69c-ab371f87f7b9",
        "colab": {
          "base_uri": "https://localhost:8080/",
          "height": 406
        }
      },
      "source": [
        "test_data_generator = ImageDataGenerator(preprocessing_function=preprocess_input)\n",
        "test_generator = test_data_generator.flow_from_directory(\"/tmp/data/train\",\n",
        "                                                         target_size=(100,100),\n",
        "                                                         batch_size=229,\n",
        "                                                         shuffle=False)\n",
        "test(generator=test_generator, model=model)"
      ],
      "execution_count": 12,
      "outputs": [
        {
          "output_type": "stream",
          "text": [
            "Found 229 images belonging to 5 classes.\n"
          ],
          "name": "stdout"
        },
        {
          "output_type": "stream",
          "text": [
            "/usr/local/lib/python3.6/dist-packages/PIL/Image.py:932: UserWarning: Palette images with Transparency expressed in bytes should be converted to RGBA images\n",
            "  \"Palette images with Transparency expressed in bytes should be \"\n"
          ],
          "name": "stderr"
        },
        {
          "output_type": "stream",
          "text": [
            "dict_keys(['bar_chart', 'bubble_chart', 'pie_chart', 'radar_chart', 'treemap_chart'])\n",
            "[[39  0  0  0  0]\n",
            " [ 0 50  0  0  0]\n",
            " [ 0  0 56  0  0]\n",
            " [ 0  0  0 51  0]\n",
            " [ 0  0  0  0 33]]\n",
            "Classification Report\n",
            "               precision    recall  f1-score   support\n",
            "\n",
            "    bar_chart       1.00      1.00      1.00        39\n",
            " bubble_chart       1.00      1.00      1.00        50\n",
            "    pie_chart       1.00      1.00      1.00        56\n",
            "  radar_chart       1.00      1.00      1.00        51\n",
            "treemap_chart       1.00      1.00      1.00        33\n",
            "\n",
            "     accuracy                           1.00       229\n",
            "    macro avg       1.00      1.00      1.00       229\n",
            " weighted avg       1.00      1.00      1.00       229\n",
            "\n"
          ],
          "name": "stdout"
        }
      ]
    },
    {
      "cell_type": "code",
      "metadata": {
        "id": "rs7dyScZ-Hiu",
        "colab_type": "code",
        "outputId": "7ec5f0c2-54c8-4629-d423-965ad37bc818",
        "colab": {
          "base_uri": "https://localhost:8080/",
          "height": 34
        }
      },
      "source": [
        "test_data_generator = ImageDataGenerator(preprocessing_function=preprocess_input)\n",
        "test_generator = test_data_generator.flow_from_directory(\"/tmp/data/test\",\n",
        "                                                         target_size=(100,100),\n",
        "                                                         batch_size=93,\n",
        "                                                         shuffle=False)"
      ],
      "execution_count": 13,
      "outputs": [
        {
          "output_type": "stream",
          "text": [
            "Found 93 images belonging to 5 classes.\n"
          ],
          "name": "stdout"
        }
      ]
    },
    {
      "cell_type": "code",
      "metadata": {
        "id": "mxf9jjNR-Kwv",
        "colab_type": "code",
        "outputId": "7b6aff43-2357-4f79-a7df-bfd1b7e439e0",
        "colab": {
          "base_uri": "https://localhost:8080/",
          "height": 390
        }
      },
      "source": [
        "test(generator=test_generator, model=model)"
      ],
      "execution_count": 14,
      "outputs": [
        {
          "output_type": "stream",
          "text": [
            "/usr/local/lib/python3.6/dist-packages/PIL/Image.py:932: UserWarning: Palette images with Transparency expressed in bytes should be converted to RGBA images\n",
            "  \"Palette images with Transparency expressed in bytes should be \"\n"
          ],
          "name": "stderr"
        },
        {
          "output_type": "stream",
          "text": [
            "dict_keys(['bar_chart', 'bubble_chart', 'pie_chart', 'radar_chart', 'treemap_chart'])\n",
            "[[19  0  0  0  0]\n",
            " [ 0 12  0  7  0]\n",
            " [ 0  2 12  1  3]\n",
            " [ 2  1  0 14  1]\n",
            " [ 0  0  0  0 19]]\n",
            "Classification Report\n",
            "               precision    recall  f1-score   support\n",
            "\n",
            "    bar_chart       0.90      1.00      0.95        19\n",
            " bubble_chart       0.80      0.63      0.71        19\n",
            "    pie_chart       1.00      0.67      0.80        18\n",
            "  radar_chart       0.64      0.78      0.70        18\n",
            "treemap_chart       0.83      1.00      0.90        19\n",
            "\n",
            "     accuracy                           0.82        93\n",
            "    macro avg       0.83      0.82      0.81        93\n",
            " weighted avg       0.83      0.82      0.81        93\n",
            "\n"
          ],
          "name": "stdout"
        }
      ]
    }
  ]
}