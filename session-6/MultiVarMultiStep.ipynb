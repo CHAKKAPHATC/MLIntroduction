{
  "nbformat": 4,
  "nbformat_minor": 0,
  "metadata": {
    "colab": {
      "name": "MultiVarMultiStep.ipynb",
      "provenance": [],
      "collapsed_sections": [],
      "authorship_tag": "ABX9TyM9FYvjTJuZUejLoiNaUfnQ",
      "include_colab_link": true
    },
    "kernelspec": {
      "name": "python3",
      "display_name": "Python 3"
    },
    "accelerator": "GPU"
  },
  "cells": [
    {
      "cell_type": "markdown",
      "metadata": {
        "id": "view-in-github",
        "colab_type": "text"
      },
      "source": [
        "<a href=\"https://colab.research.google.com/github/mohmiim/MLIntroduction/blob/master/session-6/MultiVarMultiStep.ipynb\" target=\"_parent\"><img src=\"https://colab.research.google.com/assets/colab-badge.svg\" alt=\"Open In Colab\"/></a>"
      ]
    },
    {
      "cell_type": "code",
      "metadata": {
        "id": "F6MPuo3m6jnp",
        "colab_type": "code",
        "colab": {}
      },
      "source": [
        "%tensorflow_version 2.x\n",
        "import tensorflow as tf"
      ],
      "execution_count": 0,
      "outputs": []
    },
    {
      "cell_type": "code",
      "metadata": {
        "id": "AKiRETFM-BRy",
        "colab_type": "code",
        "colab": {}
      },
      "source": [
        "import os\n",
        "\n",
        "!wget --no-check-certificate \\\n",
        "    https://raw.githubusercontent.com/mohmiim/MLIntroduction/master/session-6/data/combined_csv.csv \\\n",
        "    -O /tmp/weather.csv"
      ],
      "execution_count": 0,
      "outputs": []
    },
    {
      "cell_type": "code",
      "metadata": {
        "id": "s6h0QmOdkSH4",
        "colab_type": "code",
        "colab": {}
      },
      "source": [
        "import pandas as pd\n",
        "import matplotlib.pyplot as plt\n",
        "import csv\n",
        "import numpy as np\n",
        "import tensorflow as tf\n",
        "from tensorflow.keras.models import Sequential\n",
        "from tensorflow.keras.layers import LSTM,Conv1D,Dense,MaxPooling1D,Flatten, Conv1D, Dropout,TimeDistributed\n",
        "from tensorflow.keras.optimizers import SGD\n",
        "from tensorflow.keras.losses import Huber\n",
        "from math import sqrt"
      ],
      "execution_count": 0,
      "outputs": []
    },
    {
      "cell_type": "code",
      "metadata": {
        "id": "tdspR5FqqECt",
        "colab_type": "code",
        "colab": {}
      },
      "source": [
        "df = pd.read_csv(\"/tmp/weather.csv\")\n",
        "\n",
        "\n",
        "columnsToConsider = ['p (mbar)', 'T (degC)', 'rho (g/m**3)']\n",
        "features = df[columnsToConsider]\n",
        "features.index = df['Date Time']\n",
        "\n",
        "\n",
        "features.plot(subplots=True)\n",
        "plt.show()\n",
        "\n",
        "TRAIN_DATA_SIZE = 260000\n",
        "\n",
        "dataset = features.values\n",
        "\n",
        "data_mean = dataset[:TRAIN_DATA_SIZE].mean(axis=0)\n",
        "data_std = dataset[:TRAIN_DATA_SIZE].std(axis=0)\n",
        "\n",
        "dataset = (dataset-data_mean)/data_std\n",
        "\n",
        "print(len(dataset))\n",
        "\n",
        "training_data = dataset[:TRAIN_DATA_SIZE]\n",
        "validation_data = dataset[TRAIN_DATA_SIZE:]\n",
        "\n",
        "print(len(training_data))\n",
        "print(len(validation_data))\n",
        "\n",
        "print(data_mean)\n",
        "print(data_std)\n"
      ],
      "execution_count": 0,
      "outputs": []
    },
    {
      "cell_type": "code",
      "metadata": {
        "id": "IJxzDCYpalzY",
        "colab_type": "code",
        "colab": {}
      },
      "source": [
        "def sequenceData(dataset, target, start_index, end_index, history_size,target_size, step, single_step=False):\n",
        "    X = []\n",
        "    y = []\n",
        "    start_index = start_index + history_size\n",
        "    if end_index is None:\n",
        "        end_index = len(dataset) - target_size\n",
        "    for i in range(start_index, end_index):\n",
        "        indices = range(i-history_size, i, step)\n",
        "        X.append(dataset[indices])\n",
        "        if single_step:\n",
        "            y.append(target[i+target_size])\n",
        "        else:\n",
        "            y.append(target[i:i+target_size])\n",
        "    return np.array(X), np.array(y)\n"
      ],
      "execution_count": 0,
      "outputs": []
    },
    {
      "cell_type": "code",
      "metadata": {
        "id": "dlk4KgYjal2m",
        "colab_type": "code",
        "colab": {}
      },
      "source": [
        "LOOK_AHEAD = 72\n",
        "STEP = 6\n",
        "WINDOW_SIZE = 720\n",
        "BATCH_SIZE = 200\n",
        "BUFFER_SIZE = 1000"
      ],
      "execution_count": 0,
      "outputs": []
    },
    {
      "cell_type": "code",
      "metadata": {
        "id": "PJ2UJPpqal5l",
        "colab_type": "code",
        "colab": {}
      },
      "source": [
        "X_train, y_train = sequenceData(dataset, dataset[:, 1], 0,\n",
        "                                 TRAIN_DATA_SIZE, WINDOW_SIZE,\n",
        "                                 LOOK_AHEAD, STEP)\n",
        "\n",
        "X_val, y_val = sequenceData(dataset, dataset[:, 1],\n",
        "                            TRAIN_DATA_SIZE, None, WINDOW_SIZE,\n",
        "                            LOOK_AHEAD, STEP)\n",
        "\n",
        "print(X_train.shape)\n",
        "print(y_train.shape)\n",
        "print(X_val.shape)\n",
        "print(y_val.shape)"
      ],
      "execution_count": 0,
      "outputs": []
    },
    {
      "cell_type": "code",
      "metadata": {
        "id": "18auZB5HamC3",
        "colab_type": "code",
        "colab": {}
      },
      "source": [
        "train_data = tf.data.Dataset.from_tensor_slices((X_train, y_train))\n",
        "train_data = train_data.shuffle(BUFFER_SIZE).batch(BATCH_SIZE)\n",
        "\n",
        "val_data = tf.data.Dataset.from_tensor_slices((X_val, y_val))\n",
        "val_data = val_data.batch(BATCH_SIZE)"
      ],
      "execution_count": 0,
      "outputs": []
    },
    {
      "cell_type": "code",
      "metadata": {
        "id": "MLNA99MtqmV6",
        "colab_type": "code",
        "colab": {}
      },
      "source": [
        "def create_time_steps(length):\n",
        "    return list(range(-length, 0))"
      ],
      "execution_count": 0,
      "outputs": []
    },
    {
      "cell_type": "code",
      "metadata": {
        "id": "F5eY9kkdPOLX",
        "colab_type": "code",
        "colab": {}
      },
      "source": [
        "def multi_step_plot(history, true_future, prediction):\n",
        "    plt.figure(figsize=(12, 6))\n",
        "    num_in = create_time_steps(len(history))\n",
        "    num_out = len(true_future)\n",
        "    plt.plot(num_in, np.array(history[:, 1]), label='History')\n",
        "    plt.plot(np.arange(num_out)/STEP, np.array(true_future), 'bo',\n",
        "             label='True Future')\n",
        "    if prediction.any():\n",
        "        plt.plot(np.arange(num_out)/STEP, np.array(prediction), 'ro',\n",
        "                 label='Predicted Future')\n",
        "        plt.legend(loc='upper left')\n",
        "    plt.show()"
      ],
      "execution_count": 0,
      "outputs": []
    },
    {
      "cell_type": "code",
      "metadata": {
        "id": "V9HCYNjYQffz",
        "colab_type": "code",
        "colab": {}
      },
      "source": [
        "for x, y in train_data.take(1):\n",
        "    multi_step_plot(x[0], y[0], np.array([0]))"
      ],
      "execution_count": 0,
      "outputs": []
    },
    {
      "cell_type": "code",
      "metadata": {
        "id": "9DqXAqsAROg8",
        "colab_type": "code",
        "colab": {}
      },
      "source": [
        "def createConvLSTMModel() :\n",
        "  model = Sequential()\n",
        "  model.add(Conv1D(512, 3, activation='relu', input_shape=X_train.shape[-2:]))\n",
        "  model.add(MaxPooling1D())\n",
        "  model.add(Conv1D(512, 3, activation='relu'))\n",
        "  model.add(MaxPooling1D())\n",
        "  model.add(LSTM(32,return_sequences=True,activation='relu'))\n",
        "  model.add(LSTM(16, activation='relu'))\n",
        "  model.add(Dense(72))\n",
        "  model.compile(optimizer=tf.keras.optimizers.Adam(), loss='mae')\n",
        "  return model"
      ],
      "execution_count": 0,
      "outputs": []
    },
    {
      "cell_type": "code",
      "metadata": {
        "id": "9RCXaz_kWvoQ",
        "colab_type": "code",
        "colab": {}
      },
      "source": [
        "def createLSTMModel() :\n",
        "  model = Sequential()\n",
        "  model.add(LSTM(32,return_sequences=True,activation='relu',input_shape=X_train.shape[-2:]))\n",
        "  model.add(LSTM(16, activation='relu'))\n",
        "  model.add(Dense(72))\n",
        "  model.compile(optimizer=tf.keras.optimizers.Adam(), loss='mae')\n",
        "  return model"
      ],
      "execution_count": 0,
      "outputs": []
    },
    {
      "cell_type": "code",
      "metadata": {
        "id": "EoUi8xGDSama",
        "colab_type": "code",
        "colab": {
          "base_uri": "https://localhost:8080/",
          "height": 386
        },
        "outputId": "0097991c-833a-4bee-d7ef-7880527b2a3f"
      },
      "source": [
        "model  = createConvLSTMModel()\n",
        "model.summary()\n"
      ],
      "execution_count": 163,
      "outputs": [
        {
          "output_type": "stream",
          "text": [
            "Model: \"sequential_25\"\n",
            "_________________________________________________________________\n",
            "Layer (type)                 Output Shape              Param #   \n",
            "=================================================================\n",
            "conv1d_33 (Conv1D)           (None, 118, 512)          5120      \n",
            "_________________________________________________________________\n",
            "max_pooling1d_31 (MaxPooling (None, 59, 512)           0         \n",
            "_________________________________________________________________\n",
            "conv1d_34 (Conv1D)           (None, 57, 512)           786944    \n",
            "_________________________________________________________________\n",
            "max_pooling1d_32 (MaxPooling (None, 28, 512)           0         \n",
            "_________________________________________________________________\n",
            "lstm_43 (LSTM)               (None, 28, 32)            69760     \n",
            "_________________________________________________________________\n",
            "lstm_44 (LSTM)               (None, 16)                3136      \n",
            "_________________________________________________________________\n",
            "dense_21 (Dense)             (None, 72)                1224      \n",
            "=================================================================\n",
            "Total params: 866,184\n",
            "Trainable params: 866,184\n",
            "Non-trainable params: 0\n",
            "_________________________________________________________________\n"
          ],
          "name": "stdout"
        }
      ]
    },
    {
      "cell_type": "code",
      "metadata": {
        "id": "BeN7kY-XSsQo",
        "colab_type": "code",
        "colab": {
          "base_uri": "https://localhost:8080/",
          "height": 101
        },
        "outputId": "de1b278c-0a88-48ad-aeb3-f313a2a7cfa7"
      },
      "source": [
        "EVALUATION_INTERVAL = 200\n",
        "EPOCHS = 10\n",
        "\n",
        "history = model.fit(train_data, epochs=EPOCHS)\n",
        "'''\n",
        "single_step_history = model.fit(train_data, epochs=EPOCHS,\n",
        "                                steps_per_epoch=EVALUATION_INTERVAL,\n",
        "                                validation_data=val_data,\n",
        "                                validation_steps=50)\n",
        "'''"
      ],
      "execution_count": 0,
      "outputs": [
        {
          "output_type": "stream",
          "text": [
            "Train for 1297 steps\n",
            "Epoch 1/10\n",
            "1297/1297 [==============================] - 101s 78ms/step - loss: 0.4125\n",
            "Epoch 2/10\n",
            "1181/1297 [==========================>...] - ETA: 8s - loss: 0.2897"
          ],
          "name": "stdout"
        }
      ]
    },
    {
      "cell_type": "code",
      "metadata": {
        "id": "Nnh0sHv1SsXJ",
        "colab_type": "code",
        "colab": {}
      },
      "source": [
        "for X, y in val_data.take(4):\n",
        "  multi_step_plot(x[0], y[0], model.predict(X)[0])"
      ],
      "execution_count": 0,
      "outputs": []
    }
  ]
}