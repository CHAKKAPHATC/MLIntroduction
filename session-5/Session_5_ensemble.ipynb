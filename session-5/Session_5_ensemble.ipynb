{
  "nbformat": 4,
  "nbformat_minor": 0,
  "metadata": {
    "colab": {
      "name": "Session 5 ensemble.ipynb",
      "provenance": [],
      "collapsed_sections": [],
      "include_colab_link": true
    },
    "kernelspec": {
      "name": "python3",
      "display_name": "Python 3"
    },
    "accelerator": "GPU"
  },
  "cells": [
    {
      "cell_type": "markdown",
      "metadata": {
        "id": "view-in-github",
        "colab_type": "text"
      },
      "source": [
        "<a href=\"https://colab.research.google.com/github/mohmiim/MLIntroduction/blob/master/session-5/Session_5_ensemble.ipynb\" target=\"_parent\"><img src=\"https://colab.research.google.com/assets/colab-badge.svg\" alt=\"Open In Colab\"/></a>"
      ]
    },
    {
      "cell_type": "code",
      "metadata": {
        "id": "a-JEqgndckJQ",
        "colab_type": "code",
        "colab": {}
      },
      "source": [
        "!pip install -U -q PyDrive"
      ],
      "execution_count": 0,
      "outputs": []
    },
    {
      "cell_type": "code",
      "metadata": {
        "id": "cH0nEqhSmiY8",
        "colab_type": "code",
        "outputId": "88778aa3-3688-4afd-9970-9fc5d65c1487",
        "colab": {
          "base_uri": "https://localhost:8080/",
          "height": 34
        }
      },
      "source": [
        "import tensorflow as tf\n",
        "print(tf.__version__)\n",
        "\n",
        "if tf.__version__.startswith('2')==False :\n",
        "  !pip uninstall tensorflow\n",
        "  !pip install tensorflow-gpu\n",
        "  print(tf.__version__)\n"
      ],
      "execution_count": 24,
      "outputs": [
        {
          "output_type": "stream",
          "text": [
            "2.0.0\n"
          ],
          "name": "stdout"
        }
      ]
    },
    {
      "cell_type": "code",
      "metadata": {
        "id": "cXxE1PavhYPA",
        "colab_type": "code",
        "colab": {}
      },
      "source": [
        "from pydrive.auth import GoogleAuth\n",
        "from pydrive.drive import GoogleDrive\n",
        "from google.colab import auth\n",
        "from oauth2client.client import GoogleCredentials\n",
        "import zipfile, os\n",
        "from tensorflow.keras.preprocessing.image import ImageDataGenerator\n",
        "from tensorflow.keras.applications import xception, inception_v3, resnet_v2, vgg19,densenet\n",
        "from tensorflow.keras.applications.mobilenet import preprocess_input\n",
        "from tensorflow.keras.models import Sequential\n",
        "from tensorflow.keras.layers import Dense,Dropout, Conv2D, Flatten, MaxPool2D\n",
        "from tensorflow.keras.activations import relu,softmax\n",
        "from tensorflow.keras.optimizers import Adam\n",
        "from tensorflow.keras.utils import to_categorical"
      ],
      "execution_count": 0,
      "outputs": []
    },
    {
      "cell_type": "code",
      "metadata": {
        "id": "mDgvcNBvhZ_z",
        "colab_type": "code",
        "colab": {}
      },
      "source": [
        "# data = > https://drive.google.com/file/d/1GEKK8oRNntFyR0ZxPdcvPut-15b7CvrW/view?usp=sharing\n",
        "# small Data => https://drive.google.com/file/d/1OHGNsTfvVZvWYQ7B29SYcxrLGVdeCoQb/view?usp=sharing\n",
        "\n",
        "\n"
      ],
      "execution_count": 0,
      "outputs": []
    },
    {
      "cell_type": "code",
      "metadata": {
        "id": "7wHMo_eCj7ox",
        "colab_type": "code",
        "colab": {}
      },
      "source": [
        "auth.authenticate_user()\n",
        "gauth = GoogleAuth()\n",
        "gauth.credentials = GoogleCredentials.get_application_default()\n",
        "drive = GoogleDrive(gauth)"
      ],
      "execution_count": 0,
      "outputs": []
    },
    {
      "cell_type": "code",
      "metadata": {
        "id": "3fl8-oY0xp_p",
        "colab_type": "code",
        "colab": {}
      },
      "source": [
        "if not os.path.exists('MLIntroData'):\n",
        "    os.makedirs('MLIntroData')\n",
        "\n",
        "# Download Zip\n",
        "myzip = drive.CreateFile({'id': '1GEKK8oRNntFyR0ZxPdcvPut-15b7CvrW'})\n",
        "myzip.GetContentFile('data.zip')\n",
        "\n",
        "# 3. Unzip\n",
        "zip_ref = zipfile.ZipFile('data.zip', 'r')\n",
        "zip_ref.extractall('MLIntroData/data')\n",
        "zip_ref.close()"
      ],
      "execution_count": 0,
      "outputs": []
    },
    {
      "cell_type": "code",
      "metadata": {
        "id": "NMcV0Ni6121i",
        "colab_type": "code",
        "outputId": "8d3401bb-982c-4fc5-d588-6f43198461df",
        "colab": {
          "base_uri": "https://localhost:8080/",
          "height": 34
        }
      },
      "source": [
        "if os.path.exists('MLIntroData'):\n",
        "    print(os.listdir(\"MLIntroData/data/data\"))\n"
      ],
      "execution_count": 28,
      "outputs": [
        {
          "output_type": "stream",
          "text": [
            "['test', 'train', '.gitignore']\n"
          ],
          "name": "stdout"
        }
      ]
    },
    {
      "cell_type": "code",
      "metadata": {
        "id": "46YH94wzzohX",
        "colab_type": "code",
        "colab": {}
      },
      "source": [
        "#default sizes\n",
        "Image_Width = 100\n",
        "Image_Height = 100\n",
        "Image_Depth = 3\n",
        "targetSize = (Image_Width,Image_Height)\n",
        "targetSize_withdepth = (Image_Width,Image_Height,Image_Depth)\n",
        "\n",
        "epochs = 100\n",
        "x_train = []\n",
        "y_train = []\n",
        "y_labels = []"
      ],
      "execution_count": 0,
      "outputs": []
    },
    {
      "cell_type": "code",
      "metadata": {
        "id": "xgCDVbqqzqdG",
        "colab_type": "code",
        "outputId": "ae19560d-a8dd-46f0-b504-f1732278b74d",
        "colab": {
          "base_uri": "https://localhost:8080/",
          "height": 34
        }
      },
      "source": [
        "#define the sub folders for both training and test\n",
        "training = os.path.join(\"MLIntroData/data/data\",'train')\n",
        "\n",
        "#now the easiest way to load data is to use the ImageDataGenerator\n",
        "train_data_generator = ImageDataGenerator(preprocessing_function=xception.preprocess_input,\n",
        "                                          width_shift_range=0.2,\n",
        "                                          height_shift_range=0.2,\n",
        "                                          zoom_range=0.2,\n",
        "                                          fill_mode='nearest')\n",
        "\n",
        "\n",
        "train_generator = train_data_generator.flow_from_directory(training,\n",
        "                                                           batch_size=20,\n",
        "                                                           target_size=targetSize,\n",
        "                                                           #seed=12\n",
        "                                                           shuffle=False\n",
        "                                                           )"
      ],
      "execution_count": 30,
      "outputs": [
        {
          "output_type": "stream",
          "text": [
            "Found 229 images belonging to 5 classes.\n"
          ],
          "name": "stdout"
        }
      ]
    },
    {
      "cell_type": "code",
      "metadata": {
        "id": "Baa_vmkkM32e",
        "colab_type": "code",
        "outputId": "8254f02d-2f09-43d6-9012-7316cae0766a",
        "colab": {
          "base_uri": "https://localhost:8080/",
          "height": 34
        }
      },
      "source": [
        "y_train =  train_generator.classes\n",
        "for k in train_generator.class_indices.keys():\n",
        "    y_labels.append(k)\n",
        "y_train = to_categorical(y_train)\n",
        "\n",
        "print(len(y_train))"
      ],
      "execution_count": 31,
      "outputs": [
        {
          "output_type": "stream",
          "text": [
            "229\n"
          ],
          "name": "stdout"
        }
      ]
    },
    {
      "cell_type": "code",
      "metadata": {
        "id": "-nU9RpJy4110",
        "colab_type": "code",
        "outputId": "d629b263-df54-421c-86a2-b3baca125499",
        "colab": {
          "base_uri": "https://localhost:8080/",
          "height": 68
        }
      },
      "source": [
        "# NOW WE LOAD THE PRE_TRAINED MODEL\n",
        "FEATURE_EXTRACTOR = vgg19.VGG19(weights='imagenet',include_top=False,input_shape=targetSize_withdepth)\n",
        "model = Sequential()\n",
        "model.add(FEATURE_EXTRACTOR)\n",
        "model.add(Flatten())\n",
        "features_x = model.predict_generator(train_generator)\n",
        "print(features_x.shape)"
      ],
      "execution_count": 32,
      "outputs": [
        {
          "output_type": "stream",
          "text": [
            "/usr/local/lib/python3.6/dist-packages/PIL/Image.py:914: UserWarning: Palette images with Transparency   expressed in bytes should be converted to RGBA images\n",
            "  'to RGBA images')\n"
          ],
          "name": "stderr"
        },
        {
          "output_type": "stream",
          "text": [
            "(229, 4608)\n"
          ],
          "name": "stdout"
        }
      ]
    },
    {
      "cell_type": "code",
      "metadata": {
        "id": "BM7TB_i_VqTI",
        "colab_type": "code",
        "colab": {
          "base_uri": "https://localhost:8080/",
          "height": 68
        },
        "outputId": "0e61c296-a2dd-431a-a0d5-9e7e6fe9465d"
      },
      "source": [
        "FEATURE_EXTRACTOR1 = xception.Xception(weights='imagenet',include_top=False,input_shape=targetSize_withdepth)\n",
        "model1 = Sequential()\n",
        "model1.add(FEATURE_EXTRACTOR1)\n",
        "model1.add(Flatten())\n",
        "features_x1 = model1.predict_generator(train_generator)\n",
        "print(features_x1.shape)"
      ],
      "execution_count": 33,
      "outputs": [
        {
          "output_type": "stream",
          "text": [
            "/usr/local/lib/python3.6/dist-packages/PIL/Image.py:914: UserWarning: Palette images with Transparency   expressed in bytes should be converted to RGBA images\n",
            "  'to RGBA images')\n"
          ],
          "name": "stderr"
        },
        {
          "output_type": "stream",
          "text": [
            "(229, 18432)\n"
          ],
          "name": "stdout"
        }
      ]
    },
    {
      "cell_type": "code",
      "metadata": {
        "id": "VgGzLumvVumu",
        "colab_type": "code",
        "colab": {
          "base_uri": "https://localhost:8080/",
          "height": 68
        },
        "outputId": "729ced87-b16b-412f-d6b7-11cd4f41d2ff"
      },
      "source": [
        "FEATURE_EXTRACTOR2 = resnet_v2.ResNet152V2(weights='imagenet',include_top=False,input_shape=targetSize_withdepth)\n",
        "model2 = Sequential()\n",
        "model2.add(FEATURE_EXTRACTOR2)\n",
        "model2.add(Flatten())\n",
        "features_x2 = model2.predict_generator(train_generator)\n",
        "print(features_x2.shape)"
      ],
      "execution_count": 34,
      "outputs": [
        {
          "output_type": "stream",
          "text": [
            "/usr/local/lib/python3.6/dist-packages/PIL/Image.py:914: UserWarning: Palette images with Transparency   expressed in bytes should be converted to RGBA images\n",
            "  'to RGBA images')\n"
          ],
          "name": "stderr"
        },
        {
          "output_type": "stream",
          "text": [
            "(229, 32768)\n"
          ],
          "name": "stdout"
        }
      ]
    },
    {
      "cell_type": "code",
      "metadata": {
        "id": "m-mtXyC2Vy64",
        "colab_type": "code",
        "colab": {
          "base_uri": "https://localhost:8080/",
          "height": 68
        },
        "outputId": "99a72f81-88f1-40ed-bc08-ec584c5291fd"
      },
      "source": [
        "FEATURE_EXTRACTOR3 = inception_v3.InceptionV3(weights='imagenet',include_top=False,input_shape=targetSize_withdepth)\n",
        "model3 = Sequential()\n",
        "model3.add(FEATURE_EXTRACTOR3)\n",
        "model3.add(Flatten())\n",
        "features_x3 = model3.predict_generator(train_generator)\n",
        "print(features_x3.shape)"
      ],
      "execution_count": 35,
      "outputs": [
        {
          "output_type": "stream",
          "text": [
            "/usr/local/lib/python3.6/dist-packages/PIL/Image.py:914: UserWarning: Palette images with Transparency   expressed in bytes should be converted to RGBA images\n",
            "  'to RGBA images')\n"
          ],
          "name": "stderr"
        },
        {
          "output_type": "stream",
          "text": [
            "(229, 2048)\n"
          ],
          "name": "stdout"
        }
      ]
    },
    {
      "cell_type": "code",
      "metadata": {
        "id": "fO0xjllkV2Ns",
        "colab_type": "code",
        "colab": {
          "base_uri": "https://localhost:8080/",
          "height": 68
        },
        "outputId": "f3ce6de9-7338-450a-9107-e7e9694be140"
      },
      "source": [
        "FEATURE_EXTRACTOR4 = densenet.DenseNet201(weights='imagenet',include_top=False,input_shape=targetSize_withdepth)\n",
        "model4 = Sequential()\n",
        "model4.add(FEATURE_EXTRACTOR4)\n",
        "model4.add(Flatten())\n",
        "features_x4 = model4.predict_generator(train_generator)\n",
        "print(features_x4.shape)"
      ],
      "execution_count": 36,
      "outputs": [
        {
          "output_type": "stream",
          "text": [
            "/usr/local/lib/python3.6/dist-packages/PIL/Image.py:914: UserWarning: Palette images with Transparency   expressed in bytes should be converted to RGBA images\n",
            "  'to RGBA images')\n"
          ],
          "name": "stderr"
        },
        {
          "output_type": "stream",
          "text": [
            "(229, 17280)\n"
          ],
          "name": "stdout"
        }
      ]
    },
    {
      "cell_type": "code",
      "metadata": {
        "id": "QpeIw1oJWIrF",
        "colab_type": "code",
        "colab": {
          "base_uri": "https://localhost:8080/",
          "height": 34
        },
        "outputId": "4a5f4e43-f3ee-4e16-b887-cf8f33e1e8a3"
      },
      "source": [
        "import numpy as np\n",
        "all_features = np.concatenate((features_x, features_x1,features_x2,features_x3,features_x4), axis=1)\n",
        "print(all_features.shape)"
      ],
      "execution_count": 37,
      "outputs": [
        {
          "output_type": "stream",
          "text": [
            "(229, 75136)\n"
          ],
          "name": "stdout"
        }
      ]
    },
    {
      "cell_type": "code",
      "metadata": {
        "id": "M7_YLYKh4_69",
        "colab_type": "code",
        "outputId": "bb2c34f6-ac63-4984-ca50-34c8faf54358",
        "colab": {
          "base_uri": "https://localhost:8080/",
          "height": 357
        }
      },
      "source": [
        "model = Sequential()\n",
        "\n",
        "#add our layers\n",
        "model.add(Flatten(input_shape=all_features.shape[1:]))\n",
        "model.add(Dense(128,activation=relu))\n",
        "model.add(Dropout(0.2))\n",
        "model.add(Dense(128,activation=relu))\n",
        "model.add(Dropout(0.5))\n",
        "model.add(Dense(len(y_labels),activation='softmax'))\n",
        "history = model.compile(optimizer=Adam(), loss=\"categorical_crossentropy\", metrics=['accuracy'])\n",
        "\n",
        "model.summary()\n"
      ],
      "execution_count": 38,
      "outputs": [
        {
          "output_type": "stream",
          "text": [
            "Model: \"sequential_11\"\n",
            "_________________________________________________________________\n",
            "Layer (type)                 Output Shape              Param #   \n",
            "=================================================================\n",
            "flatten_11 (Flatten)         (None, 75136)             0         \n",
            "_________________________________________________________________\n",
            "dense_3 (Dense)              (None, 128)               9617536   \n",
            "_________________________________________________________________\n",
            "dropout_2 (Dropout)          (None, 128)               0         \n",
            "_________________________________________________________________\n",
            "dense_4 (Dense)              (None, 128)               16512     \n",
            "_________________________________________________________________\n",
            "dropout_3 (Dropout)          (None, 128)               0         \n",
            "_________________________________________________________________\n",
            "dense_5 (Dense)              (None, 5)                 645       \n",
            "=================================================================\n",
            "Total params: 9,634,693\n",
            "Trainable params: 9,634,693\n",
            "Non-trainable params: 0\n",
            "_________________________________________________________________\n"
          ],
          "name": "stdout"
        }
      ]
    },
    {
      "cell_type": "code",
      "metadata": {
        "id": "9aP5o-fnTIip",
        "colab_type": "code",
        "colab": {}
      },
      "source": [
        "from tensorflow.keras.callbacks import Callback\n",
        "class myCallBacks(Callback):\n",
        "    \n",
        "    def on_epoch_end(self, epoch, logs={}):\n",
        "        if (logs.get('loss')<=self.loss) :\n",
        "            print(\"\\n Reached {1} loss on epoch {0}, stopping training\".format(epoch+1,self.loss))\n",
        "            self.model.stop_training = True\n",
        "    \n",
        "    def __init__(self, loss=1E-4):\n",
        "        self.loss = loss"
      ],
      "execution_count": 0,
      "outputs": []
    },
    {
      "cell_type": "code",
      "metadata": {
        "id": "j0Qc4OTsN5Z5",
        "colab_type": "code",
        "colab": {}
      },
      "source": [
        "epochs = 500\n",
        "callBack = myCallBacks(loss=1E-7)\n",
        "model.fit(all_features,y_train,epochs=epochs,shuffle=True,verbose=2,callbacks=[callBack])"
      ],
      "execution_count": 0,
      "outputs": []
    },
    {
      "cell_type": "code",
      "metadata": {
        "id": "rs7dyScZ-Hiu",
        "colab_type": "code",
        "outputId": "7d14ae3c-6022-4c30-f981-5d6de43ad121",
        "colab": {
          "base_uri": "https://localhost:8080/",
          "height": 34
        }
      },
      "source": [
        "test_data_generator = ImageDataGenerator(preprocessing_function=preprocess_input)\n",
        "test_generator = test_data_generator.flow_from_directory(\"MLIntroData/data/data/test\",\n",
        "                                                         target_size=(100,100),\n",
        "                                                         shuffle=False)"
      ],
      "execution_count": 43,
      "outputs": [
        {
          "output_type": "stream",
          "text": [
            "Found 93 images belonging to 5 classes.\n"
          ],
          "name": "stdout"
        }
      ]
    },
    {
      "cell_type": "code",
      "metadata": {
        "id": "mxf9jjNR-Kwv",
        "colab_type": "code",
        "outputId": "5be4305b-4cdd-4275-f795-55f517787b7f",
        "colab": {
          "base_uri": "https://localhost:8080/",
          "height": 221
        }
      },
      "source": [
        "FEATURE_EXTRACTOR =  vgg19.VGG19(weights='imagenet',include_top=False,input_shape=targetSize_withdepth)\n",
        "model0 = Sequential()\n",
        "model0.add(FEATURE_EXTRACTOR)\n",
        "model0.add(Flatten())\n",
        "features_x = model0.predict_generator(test_generator)\n",
        "print(type(features_x).__name__)\n",
        "print(features_x.shape)\n",
        "\n",
        "FEATURE_EXTRACTOR1 = xception.Xception(weights='imagenet',include_top=False,input_shape=targetSize_withdepth)\n",
        "model1 = Sequential()\n",
        "model1.add(FEATURE_EXTRACTOR1)\n",
        "model1.add(Flatten())\n",
        "features_x1 = model1.predict_generator(test_generator)\n",
        "print(type(features_x1).__name__)\n",
        "print(features_x1.shape)\n",
        "\n",
        "FEATURE_EXTRACTOR2 = resnet_v2.ResNet152V2(weights='imagenet',include_top=False,input_shape=targetSize_withdepth)\n",
        "model2 = Sequential()\n",
        "model2.add(FEATURE_EXTRACTOR2)\n",
        "model2.add(Flatten())\n",
        "features_x2 = model2.predict_generator(test_generator)\n",
        "print(type(features_x2).__name__)\n",
        "print(features_x2.shape)\n",
        "\n",
        "FEATURE_EXTRACTOR3 = inception_v3.InceptionV3(weights='imagenet',include_top=False,input_shape=targetSize_withdepth)\n",
        "model3 = Sequential()\n",
        "model3.add(FEATURE_EXTRACTOR3)\n",
        "model3.add(Flatten())\n",
        "features_x3 = model3.predict_generator(test_generator)\n",
        "print(type(features_x3).__name__)\n",
        "print(features_x3.shape)\n",
        "\n",
        "FEATURE_EXTRACTOR4 = densenet.DenseNet201(weights='imagenet',include_top=False,input_shape=targetSize_withdepth)\n",
        "model4 = Sequential()\n",
        "model4.add(FEATURE_EXTRACTOR4)\n",
        "model4.add(Flatten())\n",
        "features_x4 = model4.predict_generator(test_generator)\n",
        "print(type(features_x4).__name__)\n",
        "print(features_x4.shape)\n",
        "\n",
        "all_features = np.concatenate((features_x, features_x1,features_x2,features_x3,features_x4), axis=1)\n"
      ],
      "execution_count": 44,
      "outputs": [
        {
          "output_type": "stream",
          "text": [
            "/usr/local/lib/python3.6/dist-packages/PIL/Image.py:914: UserWarning: Palette images with Transparency   expressed in bytes should be converted to RGBA images\n",
            "  'to RGBA images')\n"
          ],
          "name": "stderr"
        },
        {
          "output_type": "stream",
          "text": [
            "ndarray\n",
            "(93, 4608)\n",
            "ndarray\n",
            "(93, 18432)\n",
            "ndarray\n",
            "(93, 32768)\n",
            "ndarray\n",
            "(93, 2048)\n",
            "ndarray\n",
            "(93, 17280)\n"
          ],
          "name": "stdout"
        }
      ]
    },
    {
      "cell_type": "code",
      "metadata": {
        "id": "z6_pk9WdZBp0",
        "colab_type": "code",
        "colab": {}
      },
      "source": [
        "predictions = model.predict(all_features)"
      ],
      "execution_count": 0,
      "outputs": []
    },
    {
      "cell_type": "code",
      "metadata": {
        "id": "o5UL4nEXDCD0",
        "colab_type": "code",
        "outputId": "027ad16c-7358-4362-b163-4a0489d8ae14",
        "colab": {
          "base_uri": "https://localhost:8080/",
          "height": 340
        }
      },
      "source": [
        "from sklearn.metrics import confusion_matrix,classification_report\n",
        "row_index = predictions.argmax(axis=1)\n",
        "filenames = test_generator.filenames\n",
        "nb_samples = len(filenames)\n",
        "y_true = test_generator.classes\n",
        "target_names = test_generator.class_indices.keys()\n",
        "print(target_names)\n",
        "print(confusion_matrix(y_true, row_index))\n",
        "print('Classification Report')\n",
        "target_names = test_generator.class_indices.keys()\n",
        "print(classification_report(test_generator.classes, row_index, target_names=target_names))"
      ],
      "execution_count": 48,
      "outputs": [
        {
          "output_type": "stream",
          "text": [
            "dict_keys(['bar_chart', 'bubble_chart', 'pie_chart', 'radar_chart', 'treemap_chart'])\n",
            "[[17  0  0  0  2]\n",
            " [ 0 19  0  0  0]\n",
            " [ 0  0 18  0  0]\n",
            " [ 0  1  0 17  0]\n",
            " [ 0  0  0  0 19]]\n",
            "Classification Report\n",
            "               precision    recall  f1-score   support\n",
            "\n",
            "    bar_chart       1.00      0.89      0.94        19\n",
            " bubble_chart       0.95      1.00      0.97        19\n",
            "    pie_chart       1.00      1.00      1.00        18\n",
            "  radar_chart       1.00      0.94      0.97        18\n",
            "treemap_chart       0.90      1.00      0.95        19\n",
            "\n",
            "     accuracy                           0.97        93\n",
            "    macro avg       0.97      0.97      0.97        93\n",
            " weighted avg       0.97      0.97      0.97        93\n",
            "\n"
          ],
          "name": "stdout"
        }
      ]
    }
  ]
}