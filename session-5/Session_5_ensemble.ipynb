{
  "nbformat": 4,
  "nbformat_minor": 0,
  "metadata": {
    "colab": {
      "name": "Session 5 ensemble.ipynb",
      "provenance": [],
      "include_colab_link": true
    },
    "kernelspec": {
      "name": "python3",
      "display_name": "Python 3"
    },
    "accelerator": "GPU"
  },
  "cells": [
    {
      "cell_type": "markdown",
      "metadata": {
        "id": "view-in-github",
        "colab_type": "text"
      },
      "source": [
        "<a href=\"https://colab.research.google.com/github/mohmiim/MLIntroduction/blob/master/session-5/Session_5_ensemble.ipynb\" target=\"_parent\"><img src=\"https://colab.research.google.com/assets/colab-badge.svg\" alt=\"Open In Colab\"/></a>"
      ]
    },
    {
      "cell_type": "code",
      "metadata": {
        "id": "a-JEqgndckJQ",
        "colab_type": "code",
        "colab": {}
      },
      "source": [
        "!pip install -U -q PyDrive"
      ],
      "execution_count": 0,
      "outputs": []
    },
    {
      "cell_type": "code",
      "metadata": {
        "id": "cH0nEqhSmiY8",
        "colab_type": "code",
        "outputId": "c48c582d-4c60-4835-8481-8d535fced811",
        "colab": {
          "base_uri": "https://localhost:8080/",
          "height": 34
        }
      },
      "source": [
        "import tensorflow as tf\n",
        "print(tf.__version__)\n",
        "\n",
        "if tf.__version__.startswith('2')==False :\n",
        "  !pip uninstall tensorflow\n",
        "  !pip install tensorflow-gpu\n",
        "  print(tf.__version__)\n"
      ],
      "execution_count": 27,
      "outputs": [
        {
          "output_type": "stream",
          "text": [
            "2.0.0\n"
          ],
          "name": "stdout"
        }
      ]
    },
    {
      "cell_type": "code",
      "metadata": {
        "id": "cXxE1PavhYPA",
        "colab_type": "code",
        "colab": {}
      },
      "source": [
        "from pydrive.auth import GoogleAuth\n",
        "from pydrive.drive import GoogleDrive\n",
        "from google.colab import auth\n",
        "from oauth2client.client import GoogleCredentials\n",
        "import zipfile, os\n",
        "from tensorflow.keras.preprocessing.image import ImageDataGenerator\n",
        "from tensorflow.keras.applications import xception, inception_v3, resnet_v2, vgg19,densenet\n",
        "from tensorflow.keras.applications.mobilenet import preprocess_input\n",
        "from tensorflow.keras.models import Sequential\n",
        "from tensorflow.keras.layers import Dense,Dropout, Conv2D, Flatten, MaxPool2D\n",
        "from tensorflow.keras.activations import relu,softmax\n",
        "from tensorflow.keras.optimizers import Adam\n",
        "from tensorflow.keras.utils import to_categorical"
      ],
      "execution_count": 0,
      "outputs": []
    },
    {
      "cell_type": "code",
      "metadata": {
        "id": "mDgvcNBvhZ_z",
        "colab_type": "code",
        "colab": {}
      },
      "source": [
        "# data = > https://drive.google.com/file/d/1GEKK8oRNntFyR0ZxPdcvPut-15b7CvrW/view?usp=sharing\n",
        "# small Data => https://drive.google.com/file/d/1OHGNsTfvVZvWYQ7B29SYcxrLGVdeCoQb/view?usp=sharing\n",
        "\n",
        "\n"
      ],
      "execution_count": 0,
      "outputs": []
    },
    {
      "cell_type": "code",
      "metadata": {
        "id": "7wHMo_eCj7ox",
        "colab_type": "code",
        "colab": {}
      },
      "source": [
        "auth.authenticate_user()\n",
        "gauth = GoogleAuth()\n",
        "gauth.credentials = GoogleCredentials.get_application_default()\n",
        "drive = GoogleDrive(gauth)"
      ],
      "execution_count": 0,
      "outputs": []
    },
    {
      "cell_type": "code",
      "metadata": {
        "id": "3fl8-oY0xp_p",
        "colab_type": "code",
        "colab": {}
      },
      "source": [
        "if not os.path.exists('MLIntroData'):\n",
        "    os.makedirs('MLIntroData')\n",
        "\n",
        "# Download Zip\n",
        "myzip = drive.CreateFile({'id': '1GEKK8oRNntFyR0ZxPdcvPut-15b7CvrW'})\n",
        "myzip.GetContentFile('data.zip')\n",
        "\n",
        "# 3. Unzip\n",
        "zip_ref = zipfile.ZipFile('data.zip', 'r')\n",
        "zip_ref.extractall('MLIntroData/data')\n",
        "zip_ref.close()"
      ],
      "execution_count": 0,
      "outputs": []
    },
    {
      "cell_type": "code",
      "metadata": {
        "id": "NMcV0Ni6121i",
        "colab_type": "code",
        "outputId": "5e9167c6-8bf3-4cfd-c604-f49c3daf1e4a",
        "colab": {
          "base_uri": "https://localhost:8080/",
          "height": 34
        }
      },
      "source": [
        "if os.path.exists('MLIntroData'):\n",
        "    print(os.listdir(\"MLIntroData/data/data\"))\n"
      ],
      "execution_count": 31,
      "outputs": [
        {
          "output_type": "stream",
          "text": [
            "['.gitignore', 'test', 'train']\n"
          ],
          "name": "stdout"
        }
      ]
    },
    {
      "cell_type": "code",
      "metadata": {
        "id": "46YH94wzzohX",
        "colab_type": "code",
        "colab": {}
      },
      "source": [
        "#default sizes\n",
        "Image_Width = 100\n",
        "Image_Height = 100\n",
        "Image_Depth = 3\n",
        "targetSize = (Image_Width,Image_Height)\n",
        "targetSize_withdepth = (Image_Width,Image_Height,Image_Depth)\n",
        "\n",
        "epochs = 100\n",
        "x_train = []\n",
        "y_train = []\n",
        "y_labels = []"
      ],
      "execution_count": 0,
      "outputs": []
    },
    {
      "cell_type": "code",
      "metadata": {
        "id": "xgCDVbqqzqdG",
        "colab_type": "code",
        "outputId": "436503c8-3e82-442d-beb8-ff102c2e6af2",
        "colab": {
          "base_uri": "https://localhost:8080/",
          "height": 34
        }
      },
      "source": [
        "#define the sub folders for both training and test\n",
        "training = os.path.join(\"MLIntroData/data/data\",'train')\n",
        "\n",
        "#now the easiest way to load data is to use the ImageDataGenerator\n",
        "train_data_generator = ImageDataGenerator(preprocessing_function=xception.preprocess_input,\n",
        "                                          width_shift_range=0.2,\n",
        "                                          height_shift_range=0.2,\n",
        "                                          zoom_range=0.2,\n",
        "                                          fill_mode='nearest')\n",
        "\n",
        "\n",
        "train_generator = train_data_generator.flow_from_directory(training,\n",
        "                                                           batch_size=20,\n",
        "                                                           target_size=targetSize,\n",
        "                                                           #seed=12\n",
        "                                                           shuffle=False\n",
        "                                                           )"
      ],
      "execution_count": 33,
      "outputs": [
        {
          "output_type": "stream",
          "text": [
            "Found 229 images belonging to 5 classes.\n"
          ],
          "name": "stdout"
        }
      ]
    },
    {
      "cell_type": "code",
      "metadata": {
        "id": "Baa_vmkkM32e",
        "colab_type": "code",
        "outputId": "1ec721c2-38af-43d9-bca6-2ba7517d5eac",
        "colab": {
          "base_uri": "https://localhost:8080/",
          "height": 34
        }
      },
      "source": [
        "y_train =  train_generator.classes\n",
        "for k in train_generator.class_indices.keys():\n",
        "    y_labels.append(k)\n",
        "y_train = to_categorical(y_train)\n",
        "\n",
        "print(len(y_train))"
      ],
      "execution_count": 34,
      "outputs": [
        {
          "output_type": "stream",
          "text": [
            "229\n"
          ],
          "name": "stdout"
        }
      ]
    },
    {
      "cell_type": "code",
      "metadata": {
        "id": "-nU9RpJy4110",
        "colab_type": "code",
        "outputId": "2699629a-5f8a-495e-e608-35fbfecd81db",
        "colab": {
          "base_uri": "https://localhost:8080/",
          "height": 68
        }
      },
      "source": [
        "# NOW WE LOAD THE PRE_TRAINED MODEL\n",
        "FEATURE_EXTRACTOR = vgg19.VGG19(weights='imagenet',include_top=False,input_shape=targetSize_withdepth)\n",
        "model = Sequential()\n",
        "model.add(FEATURE_EXTRACTOR)\n",
        "model.add(Flatten())\n",
        "features_x = model.predict_generator(train_generator)\n",
        "print(features_x.shape)"
      ],
      "execution_count": 35,
      "outputs": [
        {
          "output_type": "stream",
          "text": [
            "/usr/local/lib/python3.6/dist-packages/PIL/Image.py:914: UserWarning: Palette images with Transparency   expressed in bytes should be converted to RGBA images\n",
            "  'to RGBA images')\n"
          ],
          "name": "stderr"
        },
        {
          "output_type": "stream",
          "text": [
            "(229, 4608)\n"
          ],
          "name": "stdout"
        }
      ]
    },
    {
      "cell_type": "code",
      "metadata": {
        "id": "BM7TB_i_VqTI",
        "colab_type": "code",
        "colab": {
          "base_uri": "https://localhost:8080/",
          "height": 68
        },
        "outputId": "b4d824b3-2fc5-45bd-b06a-005fa2961780"
      },
      "source": [
        "FEATURE_EXTRACTOR1 = xception.Xception(weights='imagenet',include_top=False,input_shape=targetSize_withdepth)\n",
        "model1 = Sequential()\n",
        "model1.add(FEATURE_EXTRACTOR1)\n",
        "model1.add(Flatten())\n",
        "features_x1 = model1.predict_generator(train_generator)\n",
        "print(features_x1.shape)"
      ],
      "execution_count": 36,
      "outputs": [
        {
          "output_type": "stream",
          "text": [
            "/usr/local/lib/python3.6/dist-packages/PIL/Image.py:914: UserWarning: Palette images with Transparency   expressed in bytes should be converted to RGBA images\n",
            "  'to RGBA images')\n"
          ],
          "name": "stderr"
        },
        {
          "output_type": "stream",
          "text": [
            "(229, 18432)\n"
          ],
          "name": "stdout"
        }
      ]
    },
    {
      "cell_type": "code",
      "metadata": {
        "id": "VgGzLumvVumu",
        "colab_type": "code",
        "colab": {
          "base_uri": "https://localhost:8080/",
          "height": 68
        },
        "outputId": "842d9f59-4605-4d61-9ca4-c9de3412aace"
      },
      "source": [
        "FEATURE_EXTRACTOR2 = resnet_v2.ResNet152V2(weights='imagenet',include_top=False,input_shape=targetSize_withdepth)\n",
        "model2 = Sequential()\n",
        "model2.add(FEATURE_EXTRACTOR2)\n",
        "model2.add(Flatten())\n",
        "features_x2 = model2.predict_generator(train_generator)\n",
        "print(features_x2.shape)"
      ],
      "execution_count": 37,
      "outputs": [
        {
          "output_type": "stream",
          "text": [
            "/usr/local/lib/python3.6/dist-packages/PIL/Image.py:914: UserWarning: Palette images with Transparency   expressed in bytes should be converted to RGBA images\n",
            "  'to RGBA images')\n"
          ],
          "name": "stderr"
        },
        {
          "output_type": "stream",
          "text": [
            "(229, 32768)\n"
          ],
          "name": "stdout"
        }
      ]
    },
    {
      "cell_type": "code",
      "metadata": {
        "id": "m-mtXyC2Vy64",
        "colab_type": "code",
        "colab": {
          "base_uri": "https://localhost:8080/",
          "height": 68
        },
        "outputId": "668feb13-0167-4beb-be3e-6521e76b7892"
      },
      "source": [
        "FEATURE_EXTRACTOR3 = inception_v3.InceptionV3(weights='imagenet',include_top=False,input_shape=targetSize_withdepth)\n",
        "model3 = Sequential()\n",
        "model3.add(FEATURE_EXTRACTOR3)\n",
        "model3.add(Flatten())\n",
        "features_x3 = model3.predict_generator(train_generator)\n",
        "print(features_x3.shape)"
      ],
      "execution_count": 38,
      "outputs": [
        {
          "output_type": "stream",
          "text": [
            "/usr/local/lib/python3.6/dist-packages/PIL/Image.py:914: UserWarning: Palette images with Transparency   expressed in bytes should be converted to RGBA images\n",
            "  'to RGBA images')\n"
          ],
          "name": "stderr"
        },
        {
          "output_type": "stream",
          "text": [
            "(229, 2048)\n"
          ],
          "name": "stdout"
        }
      ]
    },
    {
      "cell_type": "code",
      "metadata": {
        "id": "fO0xjllkV2Ns",
        "colab_type": "code",
        "colab": {
          "base_uri": "https://localhost:8080/",
          "height": 68
        },
        "outputId": "bff49fc0-1e1c-4a01-f18d-429c3e966b02"
      },
      "source": [
        "FEATURE_EXTRACTOR4 = densenet.DenseNet201(weights='imagenet',include_top=False,input_shape=targetSize_withdepth)\n",
        "model4 = Sequential()\n",
        "model4.add(FEATURE_EXTRACTOR4)\n",
        "model4.add(Flatten())\n",
        "features_x4 = model4.predict_generator(train_generator)\n",
        "print(features_x4.shape)"
      ],
      "execution_count": 39,
      "outputs": [
        {
          "output_type": "stream",
          "text": [
            "/usr/local/lib/python3.6/dist-packages/PIL/Image.py:914: UserWarning: Palette images with Transparency   expressed in bytes should be converted to RGBA images\n",
            "  'to RGBA images')\n"
          ],
          "name": "stderr"
        },
        {
          "output_type": "stream",
          "text": [
            "(229, 17280)\n"
          ],
          "name": "stdout"
        }
      ]
    },
    {
      "cell_type": "code",
      "metadata": {
        "id": "QpeIw1oJWIrF",
        "colab_type": "code",
        "colab": {
          "base_uri": "https://localhost:8080/",
          "height": 34
        },
        "outputId": "992ba800-65db-4225-d683-425feedbd791"
      },
      "source": [
        "import numpy as np\n",
        "all_features = np.concatenate((features_x, features_x1,features_x2,features_x3,features_x4), axis=1)\n",
        "print(all_features.shape)"
      ],
      "execution_count": 40,
      "outputs": [
        {
          "output_type": "stream",
          "text": [
            "(229, 75136)\n"
          ],
          "name": "stdout"
        }
      ]
    },
    {
      "cell_type": "code",
      "metadata": {
        "id": "M7_YLYKh4_69",
        "colab_type": "code",
        "outputId": "db11629e-dae3-49c7-a5cf-c1a30d675f97",
        "colab": {
          "base_uri": "https://localhost:8080/",
          "height": 357
        }
      },
      "source": [
        "model = Sequential()\n",
        "\n",
        "#add our layers\n",
        "model.add(Flatten(input_shape=all_features.shape[1:]))\n",
        "model.add(Dense(128,activation=relu))\n",
        "model.add(Dropout(0.2))\n",
        "model.add(Dense(128,activation=relu))\n",
        "model.add(Dropout(0.5))\n",
        "model.add(Dense(len(y_labels),activation='softmax'))\n",
        "history = model.compile(optimizer=Adam(), loss=\"categorical_crossentropy\", metrics=['accuracy'])\n",
        "\n",
        "model.summary()\n"
      ],
      "execution_count": 41,
      "outputs": [
        {
          "output_type": "stream",
          "text": [
            "Model: \"sequential_24\"\n",
            "_________________________________________________________________\n",
            "Layer (type)                 Output Shape              Param #   \n",
            "=================================================================\n",
            "flatten_24 (Flatten)         (None, 75136)             0         \n",
            "_________________________________________________________________\n",
            "dense_6 (Dense)              (None, 128)               9617536   \n",
            "_________________________________________________________________\n",
            "dropout_4 (Dropout)          (None, 128)               0         \n",
            "_________________________________________________________________\n",
            "dense_7 (Dense)              (None, 128)               16512     \n",
            "_________________________________________________________________\n",
            "dropout_5 (Dropout)          (None, 128)               0         \n",
            "_________________________________________________________________\n",
            "dense_8 (Dense)              (None, 5)                 645       \n",
            "=================================================================\n",
            "Total params: 9,634,693\n",
            "Trainable params: 9,634,693\n",
            "Non-trainable params: 0\n",
            "_________________________________________________________________\n"
          ],
          "name": "stdout"
        }
      ]
    },
    {
      "cell_type": "code",
      "metadata": {
        "id": "j0Qc4OTsN5Z5",
        "colab_type": "code",
        "colab": {
          "base_uri": "https://localhost:8080/",
          "height": 1000
        },
        "outputId": "e35fd2a0-a388-4bb6-87ed-c371a86f9508"
      },
      "source": [
        "model.fit(all_features,y_train,epochs=epochs,shuffle=True,verbose=2)"
      ],
      "execution_count": 42,
      "outputs": [
        {
          "output_type": "stream",
          "text": [
            "Train on 229 samples\n",
            "Epoch 1/100\n",
            "229/229 - 1s - loss: 5.5271 - accuracy: 0.4760\n",
            "Epoch 2/100\n",
            "229/229 - 1s - loss: 2.3206 - accuracy: 0.7686\n",
            "Epoch 3/100\n",
            "229/229 - 1s - loss: 1.6017 - accuracy: 0.8690\n",
            "Epoch 4/100\n",
            "229/229 - 1s - loss: 0.6767 - accuracy: 0.9170\n",
            "Epoch 5/100\n",
            "229/229 - 1s - loss: 0.7127 - accuracy: 0.9301\n",
            "Epoch 6/100\n",
            "229/229 - 1s - loss: 0.7467 - accuracy: 0.9258\n",
            "Epoch 7/100\n",
            "229/229 - 1s - loss: 0.5341 - accuracy: 0.9432\n",
            "Epoch 8/100\n",
            "229/229 - 1s - loss: 0.7871 - accuracy: 0.9432\n",
            "Epoch 9/100\n",
            "229/229 - 1s - loss: 0.3140 - accuracy: 0.9651\n",
            "Epoch 10/100\n",
            "229/229 - 1s - loss: 1.0243 - accuracy: 0.9432\n",
            "Epoch 11/100\n",
            "229/229 - 1s - loss: 0.2303 - accuracy: 0.9694\n",
            "Epoch 12/100\n",
            "229/229 - 1s - loss: 0.1764 - accuracy: 0.9738\n",
            "Epoch 13/100\n",
            "229/229 - 1s - loss: 0.2312 - accuracy: 0.9651\n",
            "Epoch 14/100\n",
            "229/229 - 1s - loss: 0.1542 - accuracy: 0.9825\n",
            "Epoch 15/100\n",
            "229/229 - 1s - loss: 0.1354 - accuracy: 0.9825\n",
            "Epoch 16/100\n",
            "229/229 - 1s - loss: 0.2553 - accuracy: 0.9694\n",
            "Epoch 17/100\n",
            "229/229 - 1s - loss: 0.1582 - accuracy: 0.9913\n",
            "Epoch 18/100\n",
            "229/229 - 1s - loss: 0.4280 - accuracy: 0.9432\n",
            "Epoch 19/100\n",
            "229/229 - 1s - loss: 0.0823 - accuracy: 0.9913\n",
            "Epoch 20/100\n",
            "229/229 - 1s - loss: 0.2517 - accuracy: 0.9738\n",
            "Epoch 21/100\n",
            "229/229 - 1s - loss: 0.2139 - accuracy: 0.9825\n",
            "Epoch 22/100\n",
            "229/229 - 1s - loss: 0.2886 - accuracy: 0.9738\n",
            "Epoch 23/100\n",
            "229/229 - 1s - loss: 0.5998 - accuracy: 0.9869\n",
            "Epoch 24/100\n",
            "229/229 - 1s - loss: 0.3481 - accuracy: 0.9825\n",
            "Epoch 25/100\n",
            "229/229 - 1s - loss: 0.4812 - accuracy: 0.9825\n",
            "Epoch 26/100\n",
            "229/229 - 1s - loss: 0.0773 - accuracy: 0.9913\n",
            "Epoch 27/100\n",
            "229/229 - 1s - loss: 0.2174 - accuracy: 0.9782\n",
            "Epoch 28/100\n",
            "229/229 - 1s - loss: 0.2242 - accuracy: 0.9913\n",
            "Epoch 29/100\n",
            "229/229 - 1s - loss: 0.2051 - accuracy: 0.9825\n",
            "Epoch 30/100\n",
            "229/229 - 1s - loss: 0.0733 - accuracy: 0.9913\n",
            "Epoch 31/100\n",
            "229/229 - 1s - loss: 0.0581 - accuracy: 0.9913\n",
            "Epoch 32/100\n",
            "229/229 - 1s - loss: 4.2583e-05 - accuracy: 1.0000\n",
            "Epoch 33/100\n",
            "229/229 - 1s - loss: 0.0739 - accuracy: 0.9869\n",
            "Epoch 34/100\n",
            "229/229 - 1s - loss: 0.0967 - accuracy: 0.9956\n",
            "Epoch 35/100\n",
            "229/229 - 1s - loss: 0.2764 - accuracy: 0.9782\n",
            "Epoch 36/100\n",
            "229/229 - 1s - loss: 0.1271 - accuracy: 0.9913\n",
            "Epoch 37/100\n",
            "229/229 - 1s - loss: 0.0416 - accuracy: 0.9956\n",
            "Epoch 38/100\n",
            "229/229 - 1s - loss: 0.1723 - accuracy: 0.9869\n",
            "Epoch 39/100\n",
            "229/229 - 1s - loss: 0.0815 - accuracy: 0.9956\n",
            "Epoch 40/100\n",
            "229/229 - 1s - loss: 0.1298 - accuracy: 0.9869\n",
            "Epoch 41/100\n",
            "229/229 - 1s - loss: 0.1111 - accuracy: 0.9825\n",
            "Epoch 42/100\n",
            "229/229 - 1s - loss: 6.6926e-05 - accuracy: 1.0000\n",
            "Epoch 43/100\n",
            "229/229 - 1s - loss: 2.0128e-04 - accuracy: 1.0000\n",
            "Epoch 44/100\n",
            "229/229 - 1s - loss: 0.0248 - accuracy: 0.9956\n",
            "Epoch 45/100\n",
            "229/229 - 1s - loss: 0.0392 - accuracy: 0.9913\n",
            "Epoch 46/100\n",
            "229/229 - 1s - loss: 0.0825 - accuracy: 0.9956\n",
            "Epoch 47/100\n",
            "229/229 - 1s - loss: 0.0400 - accuracy: 0.9956\n",
            "Epoch 48/100\n",
            "229/229 - 1s - loss: 0.0304 - accuracy: 0.9956\n",
            "Epoch 49/100\n",
            "229/229 - 1s - loss: 0.0018 - accuracy: 1.0000\n",
            "Epoch 50/100\n",
            "229/229 - 1s - loss: 0.0274 - accuracy: 0.9913\n",
            "Epoch 51/100\n",
            "229/229 - 1s - loss: 0.0691 - accuracy: 0.9956\n",
            "Epoch 52/100\n",
            "229/229 - 1s - loss: 0.0270 - accuracy: 0.9956\n",
            "Epoch 53/100\n",
            "229/229 - 1s - loss: 5.2622e-04 - accuracy: 1.0000\n",
            "Epoch 54/100\n",
            "229/229 - 1s - loss: 0.0606 - accuracy: 0.9913\n",
            "Epoch 55/100\n",
            "229/229 - 1s - loss: 0.0100 - accuracy: 0.9956\n",
            "Epoch 56/100\n",
            "229/229 - 1s - loss: 0.1275 - accuracy: 0.9869\n",
            "Epoch 57/100\n",
            "229/229 - 1s - loss: 3.0313e-05 - accuracy: 1.0000\n",
            "Epoch 58/100\n",
            "229/229 - 1s - loss: 0.2079 - accuracy: 0.9913\n",
            "Epoch 59/100\n",
            "229/229 - 1s - loss: 3.1165e-06 - accuracy: 1.0000\n",
            "Epoch 60/100\n",
            "229/229 - 1s - loss: 0.0460 - accuracy: 0.9913\n",
            "Epoch 61/100\n",
            "229/229 - 1s - loss: 0.1902 - accuracy: 0.9869\n",
            "Epoch 62/100\n",
            "229/229 - 1s - loss: 0.0097 - accuracy: 0.9956\n",
            "Epoch 63/100\n",
            "229/229 - 1s - loss: 0.0299 - accuracy: 0.9956\n",
            "Epoch 64/100\n",
            "229/229 - 1s - loss: 0.2022 - accuracy: 0.9869\n",
            "Epoch 65/100\n",
            "229/229 - 1s - loss: 0.1407 - accuracy: 0.9869\n",
            "Epoch 66/100\n",
            "229/229 - 1s - loss: 3.5500e-04 - accuracy: 1.0000\n",
            "Epoch 67/100\n",
            "229/229 - 1s - loss: 0.2726 - accuracy: 0.9825\n",
            "Epoch 68/100\n",
            "229/229 - 1s - loss: 0.1570 - accuracy: 0.9869\n",
            "Epoch 69/100\n",
            "229/229 - 1s - loss: 0.0125 - accuracy: 0.9956\n",
            "Epoch 70/100\n",
            "229/229 - 1s - loss: 0.0310 - accuracy: 0.9956\n",
            "Epoch 71/100\n",
            "229/229 - 1s - loss: 0.0093 - accuracy: 0.9956\n",
            "Epoch 72/100\n",
            "229/229 - 1s - loss: 0.1158 - accuracy: 0.9956\n",
            "Epoch 73/100\n",
            "229/229 - 1s - loss: 0.0012 - accuracy: 1.0000\n",
            "Epoch 74/100\n",
            "229/229 - 1s - loss: 0.0664 - accuracy: 0.9956\n",
            "Epoch 75/100\n",
            "229/229 - 1s - loss: 0.0640 - accuracy: 0.9956\n",
            "Epoch 76/100\n",
            "229/229 - 1s - loss: 0.0051 - accuracy: 0.9956\n",
            "Epoch 77/100\n",
            "229/229 - 1s - loss: 0.0166 - accuracy: 0.9956\n",
            "Epoch 78/100\n",
            "229/229 - 1s - loss: 0.5021 - accuracy: 0.9869\n",
            "Epoch 79/100\n",
            "229/229 - 1s - loss: 0.1066 - accuracy: 0.9913\n",
            "Epoch 80/100\n",
            "229/229 - 1s - loss: 0.0697 - accuracy: 0.9956\n",
            "Epoch 81/100\n",
            "229/229 - 1s - loss: 0.0056 - accuracy: 0.9956\n",
            "Epoch 82/100\n",
            "229/229 - 1s - loss: 0.0091 - accuracy: 0.9956\n",
            "Epoch 83/100\n",
            "229/229 - 1s - loss: 0.0700 - accuracy: 0.9869\n",
            "Epoch 84/100\n",
            "229/229 - 1s - loss: 0.2390 - accuracy: 0.9869\n",
            "Epoch 85/100\n",
            "229/229 - 1s - loss: 0.0588 - accuracy: 0.9913\n",
            "Epoch 86/100\n",
            "229/229 - 1s - loss: 1.0984e-07 - accuracy: 1.0000\n",
            "Epoch 87/100\n",
            "229/229 - 1s - loss: 0.1373 - accuracy: 0.9956\n",
            "Epoch 88/100\n",
            "229/229 - 1s - loss: 0.1020 - accuracy: 0.9956\n",
            "Epoch 89/100\n",
            "229/229 - 1s - loss: 0.0693 - accuracy: 0.9913\n",
            "Epoch 90/100\n",
            "229/229 - 1s - loss: 0.0051 - accuracy: 0.9956\n",
            "Epoch 91/100\n",
            "229/229 - 1s - loss: 0.4083 - accuracy: 0.9956\n",
            "Epoch 92/100\n",
            "229/229 - 1s - loss: 0.0795 - accuracy: 0.9956\n",
            "Epoch 93/100\n",
            "229/229 - 1s - loss: 4.7869e-06 - accuracy: 1.0000\n",
            "Epoch 94/100\n",
            "229/229 - 1s - loss: 0.0501 - accuracy: 0.9869\n",
            "Epoch 95/100\n",
            "229/229 - 1s - loss: 0.0034 - accuracy: 0.9956\n",
            "Epoch 96/100\n",
            "229/229 - 1s - loss: 0.1603 - accuracy: 0.9956\n",
            "Epoch 97/100\n",
            "229/229 - 1s - loss: 3.2707e-04 - accuracy: 1.0000\n",
            "Epoch 98/100\n",
            "229/229 - 1s - loss: 0.0640 - accuracy: 0.9956\n",
            "Epoch 99/100\n",
            "229/229 - 1s - loss: 5.2056e-10 - accuracy: 1.0000\n",
            "Epoch 100/100\n",
            "229/229 - 1s - loss: 0.0055 - accuracy: 0.9956\n"
          ],
          "name": "stdout"
        },
        {
          "output_type": "execute_result",
          "data": {
            "text/plain": [
              "<tensorflow.python.keras.callbacks.History at 0x7f7959234748>"
            ]
          },
          "metadata": {
            "tags": []
          },
          "execution_count": 42
        }
      ]
    },
    {
      "cell_type": "code",
      "metadata": {
        "id": "rs7dyScZ-Hiu",
        "colab_type": "code",
        "outputId": "b180bd70-4815-4c91-fbc1-54e3dc7404c6",
        "colab": {
          "base_uri": "https://localhost:8080/",
          "height": 34
        }
      },
      "source": [
        "test_data_generator = ImageDataGenerator(preprocessing_function=preprocess_input)\n",
        "test_generator = test_data_generator.flow_from_directory(\"MLIntroData/data/data/test\",\n",
        "                                                         target_size=(100,100),\n",
        "                                                         shuffle=False)"
      ],
      "execution_count": 44,
      "outputs": [
        {
          "output_type": "stream",
          "text": [
            "Found 93 images belonging to 5 classes.\n"
          ],
          "name": "stdout"
        }
      ]
    },
    {
      "cell_type": "code",
      "metadata": {
        "id": "mxf9jjNR-Kwv",
        "colab_type": "code",
        "outputId": "25515b96-bf4c-49dc-e620-9f2050e86aca",
        "colab": {
          "base_uri": "https://localhost:8080/",
          "height": 221
        }
      },
      "source": [
        "FEATURE_EXTRACTOR =  vgg19.VGG19(weights='imagenet',include_top=False,input_shape=targetSize_withdepth)\n",
        "model0 = Sequential()\n",
        "model0.add(FEATURE_EXTRACTOR)\n",
        "model0.add(Flatten())\n",
        "features_x = model0.predict_generator(test_generator)\n",
        "print(type(features_x).__name__)\n",
        "print(features_x.shape)\n",
        "\n",
        "FEATURE_EXTRACTOR1 = xception.Xception(weights='imagenet',include_top=False,input_shape=targetSize_withdepth)\n",
        "model1 = Sequential()\n",
        "model1.add(FEATURE_EXTRACTOR1)\n",
        "model1.add(Flatten())\n",
        "features_x1 = model1.predict_generator(test_generator)\n",
        "print(type(features_x1).__name__)\n",
        "print(features_x1.shape)\n",
        "\n",
        "FEATURE_EXTRACTOR2 = resnet_v2.ResNet152V2(weights='imagenet',include_top=False,input_shape=targetSize_withdepth)\n",
        "model2 = Sequential()\n",
        "model2.add(FEATURE_EXTRACTOR2)\n",
        "model2.add(Flatten())\n",
        "features_x2 = model2.predict_generator(test_generator)\n",
        "print(type(features_x2).__name__)\n",
        "print(features_x2.shape)\n",
        "\n",
        "FEATURE_EXTRACTOR3 = inception_v3.InceptionV3(weights='imagenet',include_top=False,input_shape=targetSize_withdepth)\n",
        "model3 = Sequential()\n",
        "model3.add(FEATURE_EXTRACTOR3)\n",
        "model3.add(Flatten())\n",
        "features_x3 = model3.predict_generator(test_generator)\n",
        "print(type(features_x3).__name__)\n",
        "print(features_x3.shape)\n",
        "\n",
        "FEATURE_EXTRACTOR4 = densenet.DenseNet201(weights='imagenet',include_top=False,input_shape=targetSize_withdepth)\n",
        "model4 = Sequential()\n",
        "model4.add(FEATURE_EXTRACTOR4)\n",
        "model4.add(Flatten())\n",
        "features_x4 = model4.predict_generator(test_generator)\n",
        "print(type(features_x4).__name__)\n",
        "print(features_x4.shape)\n",
        "\n",
        "all_features = np.concatenate((features_x, features_x1,features_x2,features_x3,features_x4), axis=1)\n"
      ],
      "execution_count": 45,
      "outputs": [
        {
          "output_type": "stream",
          "text": [
            "/usr/local/lib/python3.6/dist-packages/PIL/Image.py:914: UserWarning: Palette images with Transparency   expressed in bytes should be converted to RGBA images\n",
            "  'to RGBA images')\n"
          ],
          "name": "stderr"
        },
        {
          "output_type": "stream",
          "text": [
            "ndarray\n",
            "(93, 4608)\n",
            "ndarray\n",
            "(93, 18432)\n",
            "ndarray\n",
            "(93, 32768)\n",
            "ndarray\n",
            "(93, 2048)\n",
            "ndarray\n",
            "(93, 17280)\n"
          ],
          "name": "stdout"
        }
      ]
    },
    {
      "cell_type": "code",
      "metadata": {
        "id": "z6_pk9WdZBp0",
        "colab_type": "code",
        "colab": {}
      },
      "source": [
        "predictions = model.predict(all_features)"
      ],
      "execution_count": 0,
      "outputs": []
    },
    {
      "cell_type": "code",
      "metadata": {
        "id": "o5UL4nEXDCD0",
        "colab_type": "code",
        "outputId": "6c1b621b-ac54-41ba-efbc-6f85d925c855",
        "colab": {
          "base_uri": "https://localhost:8080/",
          "height": 340
        }
      },
      "source": [
        "from sklearn.metrics import confusion_matrix,classification_report\n",
        "row_index = predictions.argmax(axis=1)\n",
        "filenames = test_generator.filenames\n",
        "nb_samples = len(filenames)\n",
        "y_true = test_generator.classes\n",
        "target_names = test_generator.class_indices.keys()\n",
        "print(target_names)\n",
        "print(confusion_matrix(y_true, row_index))\n",
        "print('Classification Report')\n",
        "target_names = test_generator.class_indices.keys()\n",
        "print(classification_report(test_generator.classes, row_index, target_names=target_names))"
      ],
      "execution_count": 47,
      "outputs": [
        {
          "output_type": "stream",
          "text": [
            "dict_keys(['bar_chart', 'bubble_chart', 'pie_chart', 'radar_chart', 'treemap_chart'])\n",
            "[[18  1  0  0  0]\n",
            " [ 0 18  0  1  0]\n",
            " [ 0  1 16  1  0]\n",
            " [ 0  1  0 17  0]\n",
            " [ 0  0  0  0 19]]\n",
            "Classification Report\n",
            "               precision    recall  f1-score   support\n",
            "\n",
            "    bar_chart       1.00      0.95      0.97        19\n",
            " bubble_chart       0.86      0.95      0.90        19\n",
            "    pie_chart       1.00      0.89      0.94        18\n",
            "  radar_chart       0.89      0.94      0.92        18\n",
            "treemap_chart       1.00      1.00      1.00        19\n",
            "\n",
            "     accuracy                           0.95        93\n",
            "    macro avg       0.95      0.95      0.95        93\n",
            " weighted avg       0.95      0.95      0.95        93\n",
            "\n"
          ],
          "name": "stdout"
        }
      ]
    }
  ]
}