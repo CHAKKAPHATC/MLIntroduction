{
  "nbformat": 4,
  "nbformat_minor": 0,
  "metadata": {
    "colab": {
      "name": "Session 3 first.ipynb",
      "provenance": [],
      "include_colab_link": true
    },
    "kernelspec": {
      "name": "python3",
      "display_name": "Python 3"
    },
    "accelerator": "GPU"
  },
  "cells": [
    {
      "cell_type": "markdown",
      "metadata": {
        "id": "view-in-github",
        "colab_type": "text"
      },
      "source": [
        "<a href=\"https://colab.research.google.com/github/mohmiim/MLIntroduction/blob/master/session-3/Session_3_first.ipynb\" target=\"_parent\"><img src=\"https://colab.research.google.com/assets/colab-badge.svg\" alt=\"Open In Colab\"/></a>"
      ]
    },
    {
      "cell_type": "code",
      "metadata": {
        "id": "cH0nEqhSmiY8",
        "colab_type": "code",
        "outputId": "31ad169c-668a-4682-e036-efe28c141ba2",
        "colab": {
          "base_uri": "https://localhost:8080/",
          "height": 34
        }
      },
      "source": [
        "import tensorflow as tf\n",
        "print(tf.__version__)"
      ],
      "execution_count": 1,
      "outputs": [
        {
          "output_type": "stream",
          "text": [
            "2.2.0-rc1\n"
          ],
          "name": "stdout"
        }
      ]
    },
    {
      "cell_type": "code",
      "metadata": {
        "id": "cXxE1PavhYPA",
        "colab_type": "code",
        "colab": {}
      },
      "source": [
        "from tensorflow.keras.preprocessing.image import ImageDataGenerator\n",
        "from tensorflow.keras.applications.mobilenet import preprocess_input\n",
        "from tensorflow.keras.models import Sequential\n",
        "from tensorflow.keras.layers import Dense, Conv2D, Flatten, MaxPool2D\n",
        "from tensorflow.keras.activations import relu,softmax\n",
        "from tensorflow.keras.optimizers import Adam\n",
        "\n",
        "\n"
      ],
      "execution_count": 0,
      "outputs": []
    },
    {
      "cell_type": "code",
      "metadata": {
        "id": "mDgvcNBvhZ_z",
        "colab_type": "code",
        "colab": {}
      },
      "source": [
        "# https://github.com/mohmiim/MLIntroduction/raw/master/data/data.zip\n",
        "# https://github.com/mohmiim/MLIntroduction/raw/master/data/smallData.zip\n",
        "\n",
        "\n"
      ],
      "execution_count": 0,
      "outputs": []
    },
    {
      "cell_type": "code",
      "metadata": {
        "id": "7wHMo_eCj7ox",
        "colab_type": "code",
        "outputId": "428879e4-745b-43ee-9065-34e2a492e250",
        "colab": {
          "base_uri": "https://localhost:8080/",
          "height": 286
        }
      },
      "source": [
        "import os\n",
        "\n",
        "!wget --no-check-certificate \\\n",
        "    https://github.com/mohmiim/MLIntroduction/raw/master/data/data.zip \\\n",
        "    -O /tmp/data.zip"
      ],
      "execution_count": 3,
      "outputs": [
        {
          "output_type": "stream",
          "text": [
            "--2020-03-29 15:04:38--  https://github.com/mohmiim/MLIntroduction/raw/master/data/data.zip\n",
            "Resolving github.com (github.com)... 140.82.118.3\n",
            "Connecting to github.com (github.com)|140.82.118.3|:443... connected.\n",
            "HTTP request sent, awaiting response... 302 Found\n",
            "Location: https://raw.githubusercontent.com/mohmiim/MLIntroduction/master/data/data.zip [following]\n",
            "--2020-03-29 15:04:38--  https://raw.githubusercontent.com/mohmiim/MLIntroduction/master/data/data.zip\n",
            "Resolving raw.githubusercontent.com (raw.githubusercontent.com)... 151.101.0.133, 151.101.64.133, 151.101.128.133, ...\n",
            "Connecting to raw.githubusercontent.com (raw.githubusercontent.com)|151.101.0.133|:443... connected.\n",
            "HTTP request sent, awaiting response... 200 OK\n",
            "Length: 19729033 (19M) [application/zip]\n",
            "Saving to: ‘/tmp/data.zip’\n",
            "\n",
            "/tmp/data.zip       100%[===================>]  18.81M   120MB/s    in 0.2s    \n",
            "\n",
            "2020-03-29 15:04:39 (120 MB/s) - ‘/tmp/data.zip’ saved [19729033/19729033]\n",
            "\n"
          ],
          "name": "stdout"
        }
      ]
    },
    {
      "cell_type": "code",
      "metadata": {
        "id": "3fl8-oY0xp_p",
        "colab_type": "code",
        "colab": {}
      },
      "source": [
        "import zipfile\n",
        "def unzip(file,target):\n",
        "  zip_ref = zipfile.ZipFile(file, 'r')\n",
        "  zip_ref.extractall(target)\n",
        "  zip_ref.close()\n",
        "\n",
        "unzip(\"/tmp/data.zip\",\"/tmp\")"
      ],
      "execution_count": 0,
      "outputs": []
    },
    {
      "cell_type": "code",
      "metadata": {
        "id": "NMcV0Ni6121i",
        "colab_type": "code",
        "outputId": "d88a6f4b-fe23-4c6f-ef23-a9e8dc3ab24f",
        "colab": {
          "base_uri": "https://localhost:8080/",
          "height": 34
        }
      },
      "source": [
        "print(os.listdir(\"/tmp/data\"))\n"
      ],
      "execution_count": 5,
      "outputs": [
        {
          "output_type": "stream",
          "text": [
            "['test', 'train', '.gitignore']\n"
          ],
          "name": "stdout"
        }
      ]
    },
    {
      "cell_type": "code",
      "metadata": {
        "id": "46YH94wzzohX",
        "colab_type": "code",
        "colab": {}
      },
      "source": [
        "#default sizes\n",
        "Image_Width = 100\n",
        "Image_Height = 100\n",
        "Image_Depth = 3\n",
        "targetSize = (Image_Width,Image_Height)\n",
        "targetSize_withdepth = (Image_Width,Image_Height,Image_Depth)\n",
        "epochs = 200"
      ],
      "execution_count": 0,
      "outputs": []
    },
    {
      "cell_type": "code",
      "metadata": {
        "id": "xgCDVbqqzqdG",
        "colab_type": "code",
        "outputId": "991925f2-b357-422a-f255-cbeda323e5af",
        "colab": {
          "base_uri": "https://localhost:8080/",
          "height": 34
        }
      },
      "source": [
        "#define the sub folders for both training and test\n",
        "training = os.path.join(\"/tmp/data\",'train')\n",
        "\n",
        "#now the easiest way to load data is to use the ImageDataGenerator\n",
        "train_data_generator = ImageDataGenerator(preprocessing_function=preprocess_input)\n",
        "\n",
        "\n",
        "train_generator = train_data_generator.flow_from_directory(training,\n",
        "                                                           batch_size=20,\n",
        "                                                           target_size=targetSize,\n",
        "                                                           #seed=12\n",
        "                                                           )"
      ],
      "execution_count": 7,
      "outputs": [
        {
          "output_type": "stream",
          "text": [
            "Found 229 images belonging to 5 classes.\n"
          ],
          "name": "stdout"
        }
      ]
    },
    {
      "cell_type": "code",
      "metadata": {
        "id": "-nU9RpJy4110",
        "colab_type": "code",
        "outputId": "3ebbd9af-4c74-442a-b5a6-4db6cb02628e",
        "colab": {
          "base_uri": "https://localhost:8080/",
          "height": 454
        }
      },
      "source": [
        "model = Sequential()\n",
        "model.add(Conv2D(128,(3,3),input_shape=targetSize_withdepth,activation=relu))\n",
        "model.add(MaxPool2D((2,2)))\n",
        "model.add(Conv2D(64,(3,3),activation=relu))\n",
        "model.add(MaxPool2D((2,2)))\n",
        "model.add(Conv2D(32,(3,3),activation=relu))\n",
        "model.add(MaxPool2D((2,2)))\n",
        "model.add(Flatten())\n",
        "model.add(Dense(512,activation=relu))\n",
        "model.add(Dense(5,activation='softmax'))\n",
        "history = model.compile(optimizer=Adam(), loss=\"categorical_crossentropy\", metrics=['accuracy'])\n",
        "model.summary()"
      ],
      "execution_count": 8,
      "outputs": [
        {
          "output_type": "stream",
          "text": [
            "Model: \"sequential\"\n",
            "_________________________________________________________________\n",
            "Layer (type)                 Output Shape              Param #   \n",
            "=================================================================\n",
            "conv2d (Conv2D)              (None, 98, 98, 128)       3584      \n",
            "_________________________________________________________________\n",
            "max_pooling2d (MaxPooling2D) (None, 49, 49, 128)       0         \n",
            "_________________________________________________________________\n",
            "conv2d_1 (Conv2D)            (None, 47, 47, 64)        73792     \n",
            "_________________________________________________________________\n",
            "max_pooling2d_1 (MaxPooling2 (None, 23, 23, 64)        0         \n",
            "_________________________________________________________________\n",
            "conv2d_2 (Conv2D)            (None, 21, 21, 32)        18464     \n",
            "_________________________________________________________________\n",
            "max_pooling2d_2 (MaxPooling2 (None, 10, 10, 32)        0         \n",
            "_________________________________________________________________\n",
            "flatten (Flatten)            (None, 3200)              0         \n",
            "_________________________________________________________________\n",
            "dense (Dense)                (None, 512)               1638912   \n",
            "_________________________________________________________________\n",
            "dense_1 (Dense)              (None, 5)                 2565      \n",
            "=================================================================\n",
            "Total params: 1,737,317\n",
            "Trainable params: 1,737,317\n",
            "Non-trainable params: 0\n",
            "_________________________________________________________________\n"
          ],
          "name": "stdout"
        }
      ]
    },
    {
      "cell_type": "code",
      "metadata": {
        "id": "M7_YLYKh4_69",
        "colab_type": "code",
        "colab": {}
      },
      "source": [
        "model.fit(train_generator,epochs=epochs,steps_per_epoch=12)\n"
      ],
      "execution_count": 0,
      "outputs": []
    },
    {
      "cell_type": "code",
      "metadata": {
        "id": "Mf9whMfJ-AYp",
        "colab_type": "code",
        "colab": {}
      },
      "source": [
        "from sklearn.metrics import confusion_matrix, classification_report\n",
        "def test(generator, model):\n",
        "  predictions = model.predict(generator,steps=1)\n",
        "  row_index = predictions.argmax(axis=1)\n",
        "  target_names = generator.class_indices.keys()\n",
        "  print(target_names)\n",
        "  print(confusion_matrix(generator.classes, row_index))\n",
        "  print('Classification Report')\n",
        "  print(classification_report(generator.classes, row_index, target_names=target_names))"
      ],
      "execution_count": 0,
      "outputs": []
    },
    {
      "cell_type": "code",
      "metadata": {
        "id": "k5n_8eyE43dA",
        "colab_type": "code",
        "outputId": "d58da21f-f5d5-439c-c665-048e7b39e03b",
        "colab": {
          "base_uri": "https://localhost:8080/",
          "height": 406
        }
      },
      "source": [
        "test_data_generator = ImageDataGenerator(preprocessing_function=preprocess_input)\n",
        "test_generator = test_data_generator.flow_from_directory(\"/tmp/data/train\",\n",
        "                                                         target_size=(100,100),\n",
        "                                                         batch_size=229,\n",
        "                                                         shuffle=False)\n",
        "test(generator=test_generator, model=model)"
      ],
      "execution_count": 11,
      "outputs": [
        {
          "output_type": "stream",
          "text": [
            "Found 229 images belonging to 5 classes.\n"
          ],
          "name": "stdout"
        },
        {
          "output_type": "stream",
          "text": [
            "/usr/local/lib/python3.6/dist-packages/PIL/Image.py:932: UserWarning: Palette images with Transparency expressed in bytes should be converted to RGBA images\n",
            "  \"Palette images with Transparency expressed in bytes should be \"\n"
          ],
          "name": "stderr"
        },
        {
          "output_type": "stream",
          "text": [
            "dict_keys(['bar_chart', 'bubble_chart', 'pie_chart', 'radar_chart', 'treemap_chart'])\n",
            "[[39  0  0  0  0]\n",
            " [ 0 50  0  0  0]\n",
            " [ 0  0 56  0  0]\n",
            " [ 0  0  0 51  0]\n",
            " [ 0  0  0  0 33]]\n",
            "Classification Report\n",
            "               precision    recall  f1-score   support\n",
            "\n",
            "    bar_chart       1.00      1.00      1.00        39\n",
            " bubble_chart       1.00      1.00      1.00        50\n",
            "    pie_chart       1.00      1.00      1.00        56\n",
            "  radar_chart       1.00      1.00      1.00        51\n",
            "treemap_chart       1.00      1.00      1.00        33\n",
            "\n",
            "     accuracy                           1.00       229\n",
            "    macro avg       1.00      1.00      1.00       229\n",
            " weighted avg       1.00      1.00      1.00       229\n",
            "\n"
          ],
          "name": "stdout"
        }
      ]
    },
    {
      "cell_type": "code",
      "metadata": {
        "id": "rs7dyScZ-Hiu",
        "colab_type": "code",
        "outputId": "957e9770-be0d-426b-c6d0-2a81bf4d4148",
        "colab": {
          "base_uri": "https://localhost:8080/",
          "height": 34
        }
      },
      "source": [
        "test_data_generator = ImageDataGenerator(preprocessing_function=preprocess_input)\n",
        "test_generator = test_data_generator.flow_from_directory(\"/tmp/data/test\",\n",
        "                                                         target_size=(100,100),\n",
        "                                                         batch_size=93,\n",
        "                                                         shuffle=False)"
      ],
      "execution_count": 12,
      "outputs": [
        {
          "output_type": "stream",
          "text": [
            "Found 93 images belonging to 5 classes.\n"
          ],
          "name": "stdout"
        }
      ]
    },
    {
      "cell_type": "code",
      "metadata": {
        "id": "mxf9jjNR-Kwv",
        "colab_type": "code",
        "outputId": "8646fbdc-6c16-487c-b0fe-afddb59cd023",
        "colab": {
          "base_uri": "https://localhost:8080/",
          "height": 390
        }
      },
      "source": [
        "test(generator=test_generator, model=model)"
      ],
      "execution_count": 13,
      "outputs": [
        {
          "output_type": "stream",
          "text": [
            "/usr/local/lib/python3.6/dist-packages/PIL/Image.py:932: UserWarning: Palette images with Transparency expressed in bytes should be converted to RGBA images\n",
            "  \"Palette images with Transparency expressed in bytes should be \"\n"
          ],
          "name": "stderr"
        },
        {
          "output_type": "stream",
          "text": [
            "dict_keys(['bar_chart', 'bubble_chart', 'pie_chart', 'radar_chart', 'treemap_chart'])\n",
            "[[11  5  2  0  1]\n",
            " [ 3 13  0  3  0]\n",
            " [ 1  2 12  0  3]\n",
            " [ 0  0  1 17  0]\n",
            " [ 1  1  0  0 17]]\n",
            "Classification Report\n",
            "               precision    recall  f1-score   support\n",
            "\n",
            "    bar_chart       0.69      0.58      0.63        19\n",
            " bubble_chart       0.62      0.68      0.65        19\n",
            "    pie_chart       0.80      0.67      0.73        18\n",
            "  radar_chart       0.85      0.94      0.89        18\n",
            "treemap_chart       0.81      0.89      0.85        19\n",
            "\n",
            "     accuracy                           0.75        93\n",
            "    macro avg       0.75      0.75      0.75        93\n",
            " weighted avg       0.75      0.75      0.75        93\n",
            "\n"
          ],
          "name": "stdout"
        }
      ]
    }
  ]
}